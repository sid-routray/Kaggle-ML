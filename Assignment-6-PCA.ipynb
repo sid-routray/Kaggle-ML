{
 "cells": [
  {
   "cell_type": "code",
   "execution_count": 40,
   "metadata": {},
   "outputs": [
    {
     "name": "stdout",
     "output_type": "stream",
     "text": [
      "Populating the interactive namespace from numpy and matplotlib\n"
     ]
    },
    {
     "name": "stderr",
     "output_type": "stream",
     "text": [
      "/usr/local/lib/python3.8/site-packages/IPython/core/magics/pylab.py:159: UserWarning: pylab import has clobbered these variables: ['indices', 'f']\n",
      "`%matplotlib` prevents importing * from pylab and numpy\n",
      "  warn(\"pylab import has clobbered these variables: %s\"  % clobbered +\n"
     ]
    }
   ],
   "source": [
    "\n",
    "from sklearn.decomposition import PCA\n",
    "\n",
    "import numpy as np\n",
    "import pandas as pd\n",
    "import seaborn as sb\n",
    "sb.set_style(\"dark\")\n",
    "import matplotlib.pyplot as plt\n",
    "\n",
    "from sklearn.ensemble import RandomForestClassifier\n",
    "from sklearn.model_selection import train_test_split\n",
    "from sklearn.neighbors import KNeighborsClassifier\n",
    "\n",
    "%pylab inline\n"
   ]
  },
  {
   "cell_type": "markdown",
   "metadata": {},
   "source": [
    "Let us Load the Data sets Kaggle MINST\n",
    "\n"
   ]
  },
  {
   "cell_type": "code",
   "execution_count": 41,
   "metadata": {},
   "outputs": [],
   "source": [
    "train_data = pd.read_csv('train.csv')\n",
    "test_data  = pd.read_csv('test.csv')\n",
    "y = train_data[\"label\"]\n",
    "x = train_data.drop(\"label\",1)\n"
   ]
  },
  {
   "cell_type": "markdown",
   "metadata": {},
   "source": [
    "Let us do some EDA"
   ]
  },
  {
   "cell_type": "code",
   "execution_count": 42,
   "metadata": {},
   "outputs": [
    {
     "data": {
      "text/html": [
       "<div>\n",
       "<style scoped>\n",
       "    .dataframe tbody tr th:only-of-type {\n",
       "        vertical-align: middle;\n",
       "    }\n",
       "\n",
       "    .dataframe tbody tr th {\n",
       "        vertical-align: top;\n",
       "    }\n",
       "\n",
       "    .dataframe thead th {\n",
       "        text-align: right;\n",
       "    }\n",
       "</style>\n",
       "<table border=\"1\" class=\"dataframe\">\n",
       "  <thead>\n",
       "    <tr style=\"text-align: right;\">\n",
       "      <th></th>\n",
       "      <th>pixel0</th>\n",
       "      <th>pixel1</th>\n",
       "      <th>pixel2</th>\n",
       "      <th>pixel3</th>\n",
       "      <th>pixel4</th>\n",
       "      <th>pixel5</th>\n",
       "      <th>pixel6</th>\n",
       "      <th>pixel7</th>\n",
       "      <th>pixel8</th>\n",
       "      <th>pixel9</th>\n",
       "      <th>...</th>\n",
       "      <th>pixel774</th>\n",
       "      <th>pixel775</th>\n",
       "      <th>pixel776</th>\n",
       "      <th>pixel777</th>\n",
       "      <th>pixel778</th>\n",
       "      <th>pixel779</th>\n",
       "      <th>pixel780</th>\n",
       "      <th>pixel781</th>\n",
       "      <th>pixel782</th>\n",
       "      <th>pixel783</th>\n",
       "    </tr>\n",
       "  </thead>\n",
       "  <tbody>\n",
       "    <tr>\n",
       "      <th>0</th>\n",
       "      <td>0</td>\n",
       "      <td>0</td>\n",
       "      <td>0</td>\n",
       "      <td>0</td>\n",
       "      <td>0</td>\n",
       "      <td>0</td>\n",
       "      <td>0</td>\n",
       "      <td>0</td>\n",
       "      <td>0</td>\n",
       "      <td>0</td>\n",
       "      <td>...</td>\n",
       "      <td>0</td>\n",
       "      <td>0</td>\n",
       "      <td>0</td>\n",
       "      <td>0</td>\n",
       "      <td>0</td>\n",
       "      <td>0</td>\n",
       "      <td>0</td>\n",
       "      <td>0</td>\n",
       "      <td>0</td>\n",
       "      <td>0</td>\n",
       "    </tr>\n",
       "    <tr>\n",
       "      <th>1</th>\n",
       "      <td>0</td>\n",
       "      <td>0</td>\n",
       "      <td>0</td>\n",
       "      <td>0</td>\n",
       "      <td>0</td>\n",
       "      <td>0</td>\n",
       "      <td>0</td>\n",
       "      <td>0</td>\n",
       "      <td>0</td>\n",
       "      <td>0</td>\n",
       "      <td>...</td>\n",
       "      <td>0</td>\n",
       "      <td>0</td>\n",
       "      <td>0</td>\n",
       "      <td>0</td>\n",
       "      <td>0</td>\n",
       "      <td>0</td>\n",
       "      <td>0</td>\n",
       "      <td>0</td>\n",
       "      <td>0</td>\n",
       "      <td>0</td>\n",
       "    </tr>\n",
       "    <tr>\n",
       "      <th>2</th>\n",
       "      <td>0</td>\n",
       "      <td>0</td>\n",
       "      <td>0</td>\n",
       "      <td>0</td>\n",
       "      <td>0</td>\n",
       "      <td>0</td>\n",
       "      <td>0</td>\n",
       "      <td>0</td>\n",
       "      <td>0</td>\n",
       "      <td>0</td>\n",
       "      <td>...</td>\n",
       "      <td>0</td>\n",
       "      <td>0</td>\n",
       "      <td>0</td>\n",
       "      <td>0</td>\n",
       "      <td>0</td>\n",
       "      <td>0</td>\n",
       "      <td>0</td>\n",
       "      <td>0</td>\n",
       "      <td>0</td>\n",
       "      <td>0</td>\n",
       "    </tr>\n",
       "    <tr>\n",
       "      <th>3</th>\n",
       "      <td>0</td>\n",
       "      <td>0</td>\n",
       "      <td>0</td>\n",
       "      <td>0</td>\n",
       "      <td>0</td>\n",
       "      <td>0</td>\n",
       "      <td>0</td>\n",
       "      <td>0</td>\n",
       "      <td>0</td>\n",
       "      <td>0</td>\n",
       "      <td>...</td>\n",
       "      <td>0</td>\n",
       "      <td>0</td>\n",
       "      <td>0</td>\n",
       "      <td>0</td>\n",
       "      <td>0</td>\n",
       "      <td>0</td>\n",
       "      <td>0</td>\n",
       "      <td>0</td>\n",
       "      <td>0</td>\n",
       "      <td>0</td>\n",
       "    </tr>\n",
       "    <tr>\n",
       "      <th>4</th>\n",
       "      <td>0</td>\n",
       "      <td>0</td>\n",
       "      <td>0</td>\n",
       "      <td>0</td>\n",
       "      <td>0</td>\n",
       "      <td>0</td>\n",
       "      <td>0</td>\n",
       "      <td>0</td>\n",
       "      <td>0</td>\n",
       "      <td>0</td>\n",
       "      <td>...</td>\n",
       "      <td>0</td>\n",
       "      <td>0</td>\n",
       "      <td>0</td>\n",
       "      <td>0</td>\n",
       "      <td>0</td>\n",
       "      <td>0</td>\n",
       "      <td>0</td>\n",
       "      <td>0</td>\n",
       "      <td>0</td>\n",
       "      <td>0</td>\n",
       "    </tr>\n",
       "  </tbody>\n",
       "</table>\n",
       "<p>5 rows × 784 columns</p>\n",
       "</div>"
      ],
      "text/plain": [
       "   pixel0  pixel1  pixel2  pixel3  pixel4  pixel5  pixel6  pixel7  pixel8  \\\n",
       "0       0       0       0       0       0       0       0       0       0   \n",
       "1       0       0       0       0       0       0       0       0       0   \n",
       "2       0       0       0       0       0       0       0       0       0   \n",
       "3       0       0       0       0       0       0       0       0       0   \n",
       "4       0       0       0       0       0       0       0       0       0   \n",
       "\n",
       "   pixel9  ...  pixel774  pixel775  pixel776  pixel777  pixel778  pixel779  \\\n",
       "0       0  ...         0         0         0         0         0         0   \n",
       "1       0  ...         0         0         0         0         0         0   \n",
       "2       0  ...         0         0         0         0         0         0   \n",
       "3       0  ...         0         0         0         0         0         0   \n",
       "4       0  ...         0         0         0         0         0         0   \n",
       "\n",
       "   pixel780  pixel781  pixel782  pixel783  \n",
       "0         0         0         0         0  \n",
       "1         0         0         0         0  \n",
       "2         0         0         0         0  \n",
       "3         0         0         0         0  \n",
       "4         0         0         0         0  \n",
       "\n",
       "[5 rows x 784 columns]"
      ]
     },
     "execution_count": 42,
     "metadata": {},
     "output_type": "execute_result"
    }
   ],
   "source": [
    "x.head()"
   ]
  },
  {
   "cell_type": "code",
   "execution_count": 43,
   "metadata": {},
   "outputs": [
    {
     "data": {
      "text/plain": [
       "0    1\n",
       "1    0\n",
       "2    1\n",
       "3    4\n",
       "4    0\n",
       "Name: label, dtype: int64"
      ]
     },
     "execution_count": 43,
     "metadata": {},
     "output_type": "execute_result"
    }
   ],
   "source": [
    "y.head()"
   ]
  },
  {
   "cell_type": "code",
   "execution_count": 44,
   "metadata": {},
   "outputs": [
    {
     "name": "stdout",
     "output_type": "stream",
     "text": [
      "<class 'pandas.core.frame.DataFrame'>\n",
      "RangeIndex: 42000 entries, 0 to 41999\n",
      "Columns: 784 entries, pixel0 to pixel783\n",
      "dtypes: int64(784)\n",
      "memory usage: 251.2 MB\n"
     ]
    }
   ],
   "source": [
    "x.info()"
   ]
  },
  {
   "cell_type": "markdown",
   "metadata": {},
   "source": [
    "42000 Entries, 704 features, Wow a lot of training data, so training would take some time without PCA.\n",
    "Let's see how much time we save!"
   ]
  },
  {
   "cell_type": "markdown",
   "metadata": {},
   "source": [
    "Plot some of the MINST Numbers "
   ]
  },
  {
   "cell_type": "code",
   "execution_count": 18,
   "metadata": {},
   "outputs": [
    {
     "data": {
      "image/png": "[encoded data removed]",
      "text/plain": [
       "<Figure size 1008x864 with 70 Axes>"
      ]
     },
     "metadata": {},
     "output_type": "display_data"
    }
   ],
   "source": [
    "# plot some of the numbers\n",
    "plt.figure(figsize=(14,12))\n",
    "for digit_num in range(0,70):\n",
    "    plt.subplot(7,10,digit_num+1)\n",
    "    grid_data = x.iloc[digit_num].to_numpy().reshape(28,28)  # reshape from 1d to 2d pixel array\n",
    "    plt.imshow(grid_data, interpolation = \"none\", cmap = \"afmhot\")\n",
    "    plt.xticks([])\n",
    "    plt.yticks([])\n",
    "plt.tight_layout()"
   ]
  },
  {
   "cell_type": "code",
   "execution_count": 45,
   "metadata": {},
   "outputs": [
    {
     "data": {
      "image/png": "[encoded data removed]",
      "text/plain": [
       "<Figure size 360x360 with 64 Axes>"
      ]
     },
     "metadata": {},
     "output_type": "display_data"
    }
   ],
   "source": [
    "\n",
    "figure(figsize(5,5))\n",
    "for digit_num in range(0,64):\n",
    "    subplot(8,8,digit_num+1)\n",
    "    grid_data = x.iloc[digit_num].to_numpy().reshape(28,28)  # reshape from 1d to 2d pixel array\n",
    "    plt.imshow(grid_data, interpolation = \"none\", cmap = \"bone_r\")\n",
    "    xticks([])\n",
    "    yticks([])\n",
    "    "
   ]
  },
  {
   "cell_type": "code",
   "execution_count": 46,
   "metadata": {},
   "outputs": [
    {
     "name": "stdout",
     "output_type": "stream",
     "text": [
      "Time Taken: %s 0:00:15.274242\n",
      "Score: %s 0.960952380952381\n"
     ]
    }
   ],
   "source": [
    "from sklearn.ensemble import RandomForestClassifier\n",
    "import datetime as dt\n",
    "\n",
    "random_st = 1234\n",
    "forest_clf = RandomForestClassifier(n_estimators=80, random_state=random_st)\n",
    "\n",
    "# Split Scaled data into Train and Test sets \n",
    "x_train, x_test, y_train, y_test = train_test_split(x, y, test_size=0.2, random_state=random_st)\n",
    "\n",
    "start_time = dt.datetime.now()\n",
    "\n",
    "forest_clf.fit(x_train, y_train)\n",
    "\n",
    "end_time = dt.datetime.now()\n",
    "\n",
    "print( \"Time Taken: %s\", (end_time-start_time) )\n",
    "\n",
    "print( \"Score: %s\", forest_clf.score(x_test,y_test) )\n",
    "\n",
    "\n",
    "\n"
   ]
  },
  {
   "cell_type": "code",
   "execution_count": 47,
   "metadata": {},
   "outputs": [
    {
     "name": "stdout",
     "output_type": "stream",
     "text": [
      "Feature ranking:\n",
      "1. feature 378 (0.011224)\n",
      "2. feature 405 (0.009033)\n",
      "3. feature 409 (0.008408)\n",
      "4. feature 347 (0.007572)\n",
      "5. feature 350 (0.007519)\n",
      "6. feature 377 (0.007516)\n",
      "7. feature 154 (0.007438)\n",
      "8. feature 489 (0.007245)\n",
      "9. feature 381 (0.007221)\n",
      "10. feature 211 (0.007082)\n"
     ]
    },
    {
     "data": {
      "text/plain": [
       "Text(0, 0.5, 'importance')"
      ]
     },
     "execution_count": 47,
     "metadata": {},
     "output_type": "execute_result"
    },
    {
     "data": {
      "image/png": "[encoded data removed]",
      "text/plain": [
       "<Figure size 504x216 with 1 Axes>"
      ]
     },
     "metadata": {
      "needs_background": "light"
     },
     "output_type": "display_data"
    }
   ],
   "source": [
    "importances = forest_clf.feature_importances_\n",
    "indices = np.argsort(importances)[::-1]\n",
    "\n",
    "print(\"Feature ranking:\")\n",
    "for f in range(0,10):\n",
    "    print(\"%d. feature %d (%f)\" % (f + 1, indices[f], importances[indices[f]]))\n",
    "\n",
    "# Plot the feature importances\n",
    "\n",
    "figure(figsize(7,3))\n",
    "plot(indices[:],importances[indices[:]],'k.')\n",
    "yscale(\"log\")\n",
    "xlabel(\"feature\",size=20)\n",
    "ylabel(\"importance\",size=20)"
   ]
  },
  {
   "cell_type": "code",
   "execution_count": 48,
   "metadata": {},
   "outputs": [],
   "source": [
    "# Run this classifier against Kaggle real world \"test\" data\n",
    "# sample_submission.csv \n",
    "# Submit the results to Kaggle\n",
    "# Get the screen shot of Kaggle score"
   ]
  },
  {
   "cell_type": "code",
   "execution_count": 49,
   "metadata": {},
   "outputs": [
    {
     "name": "stdout",
     "output_type": "stream",
     "text": [
      "   ImageId  Label\n",
      "0        1      2\n",
      "1        2      0\n",
      "2        3      9\n",
      "3        4      9\n",
      "4        5      3\n",
      "Submission successful\n"
     ]
    }
   ],
   "source": [
    "\n",
    "#test_poly = poly.fit_transform(test_scaled)\n",
    "\n",
    "pred = forest_clf.predict(test_data)\n",
    "submission = pd.read_csv('sample_submission.csv')\n",
    "submission['Label'] = pred\n",
    "print( submission.head() )\n",
    "submission.to_csv('submission_rf.csv', index=False)\n",
    "print(\"Submission successful\")\n",
    "\n"
   ]
  },
  {
   "cell_type": "markdown",
   "metadata": {},
   "source": [
    "We will do PCA now as instructed in the assignment and record the Time"
   ]
  },
  {
   "cell_type": "code",
   "execution_count": 50,
   "metadata": {},
   "outputs": [
    {
     "name": "stdout",
     "output_type": "stream",
     "text": [
      "Time Taken for PCA only: %s 0:00:04.427147\n",
      "let's see how many feature we have after PCA\n"
     ]
    },
    {
     "data": {
      "text/plain": [
       "(42000, 154)"
      ]
     },
     "execution_count": 50,
     "metadata": {},
     "output_type": "execute_result"
    }
   ],
   "source": [
    "# PCA on both Train and Test, not a good idea !\n",
    "# We should do PCA fit on train data set and then use the transform on test data set\n",
    "\n",
    "# PCA fature set capturing 95% variances\n",
    "start_time = dt.datetime.now()\n",
    "pca = PCA(n_components=0.95)\n",
    "pca.fit(x)\n",
    "x_pca = pca.transform(x)\n",
    "end_time = dt.datetime.now()\n",
    "print( \"Time Taken for PCA only: %s\", (end_time-start_time) )\n",
    "\n",
    "#pca.explained_variance_ratio_\n",
    "print(\"let's see how many feature we have after PCA\")\n",
    "x_pca.shape"
   ]
  },
  {
   "cell_type": "code",
   "execution_count": 51,
   "metadata": {},
   "outputs": [
    {
     "data": {
      "text/plain": [
       "array([0.09748938, 0.07160266, 0.06145903, 0.05379302, 0.04894262,\n",
       "       0.04303214, 0.03277051, 0.02892103, 0.02766902, 0.02348871,\n",
       "       0.02099325, 0.02059001, 0.01702553, 0.01692787, 0.01581126,\n",
       "       0.0148324 , 0.01319688, 0.01282727, 0.01187976, 0.01152755,\n",
       "       0.01072191, 0.01015199, 0.00964902, 0.00912846, 0.00887641,\n",
       "       0.00838766, 0.00811856, 0.00777406, 0.00740635, 0.00686661,\n",
       "       0.00657982, 0.00638799, 0.00599367, 0.00588913, 0.00564335,\n",
       "       0.00540967, 0.00509222, 0.00487505, 0.00475569, 0.00466545,\n",
       "       0.00452952, 0.00444989, 0.00418255, 0.00397506, 0.00384542,\n",
       "       0.00374919, 0.00361013, 0.00348522, 0.00336488, 0.00320738,\n",
       "       0.00315467, 0.00309146, 0.00293709, 0.00286541, 0.00280759,\n",
       "       0.00269618, 0.00265831, 0.00256299, 0.00253821, 0.00246178,\n",
       "       0.00239716, 0.0023874 , 0.00227591, 0.00221518, 0.00213934,\n",
       "       0.00206133, 0.00202851, 0.00195977, 0.00193639, 0.00188485,\n",
       "       0.00186751, 0.0018167 , 0.00176891, 0.00172592, 0.00166121,\n",
       "       0.0016331 , 0.00160601, 0.00154472, 0.0014685 , 0.00142376,\n",
       "       0.00141098, 0.00140228, 0.00138835, 0.00135417, 0.00132307,\n",
       "       0.0013078 , 0.00129674, 0.0012424 , 0.00122249, 0.00119624,\n",
       "       0.0011584 , 0.00113859, 0.00112263, 0.00110475, 0.00108133,\n",
       "       0.00107413, 0.00103866, 0.00103322, 0.00101495, 0.00099997,\n",
       "       0.00097482, 0.00094506, 0.00093864, 0.00091222, 0.00090731,\n",
       "       0.00088887, 0.0008637 , 0.00084423, 0.00083554, 0.00081665,\n",
       "       0.00078768, 0.00078156, 0.00077746, 0.00077193, 0.00075784,\n",
       "       0.00075022, 0.00073448, 0.00072577, 0.00071532, 0.00070032,\n",
       "       0.00069305, 0.00068574, 0.00067993, 0.00066572, 0.00065614,\n",
       "       0.0006448 , 0.00063539, 0.00062612, 0.00061851, 0.00060574,\n",
       "       0.00060385, 0.00059145, 0.0005859 , 0.00058463, 0.00057548,\n",
       "       0.00056972, 0.0005645 , 0.00055317, 0.00053434, 0.00052578,\n",
       "       0.00052197, 0.00051119, 0.00050514, 0.00049992, 0.00049532,\n",
       "       0.00049235, 0.0004844 , 0.00047669, 0.00047467, 0.00046789,\n",
       "       0.0004653 , 0.00046136, 0.00045634, 0.00045176])"
      ]
     },
     "execution_count": 51,
     "metadata": {},
     "output_type": "execute_result"
    }
   ],
   "source": [
    "pca.explained_variance_ratio_"
   ]
  },
  {
   "cell_type": "markdown",
   "metadata": {},
   "source": [
    "As we can see PCA too around 4 seconds, and it reduced the featureset to 154 from 784 \n",
    "It's wuite impressive feature reduction.\n",
    "Let's see how much time it takes for training."
   ]
  },
  {
   "cell_type": "code",
   "execution_count": 52,
   "metadata": {},
   "outputs": [
    {
     "name": "stdout",
     "output_type": "stream",
     "text": [
      "Time Taken after PCA reduction: %s 0:00:35.868515\n",
      "Score: %s 0.9389285714285714\n"
     ]
    }
   ],
   "source": [
    "from sklearn.ensemble import RandomForestClassifier\n",
    "import datetime as dt\n",
    "\n",
    "forest_clf = RandomForestClassifier(n_estimators=80, random_state=random_st)\n",
    "\n",
    "\n",
    "# Split data into Train and Test sets \n",
    "x_train, x_test, y_train, y_test = train_test_split(x_pca, y, test_size=0.2, random_state=random_st)\n",
    "\n",
    "start_time = dt.datetime.now()\n",
    "\n",
    "forest_clf.fit(x_train, y_train)\n",
    "\n",
    "end_time = dt.datetime.now()\n",
    "\n",
    "print( \"Time Taken after PCA reduction: %s\", (end_time-start_time) )\n",
    "\n",
    "print( \"Score: %s\", forest_clf.score(x_test,y_test) )"
   ]
  },
  {
   "cell_type": "markdown",
   "metadata": {},
   "source": [
    "Run this classifier against Kaggle real world \"test\" data\n",
    "sample_submission.csv \n",
    "Submit the results to Kaggle\n",
    "Get the screen shot of Kaggle score"
   ]
  },
  {
   "cell_type": "code",
   "execution_count": 53,
   "metadata": {},
   "outputs": [
    {
     "name": "stdout",
     "output_type": "stream",
     "text": [
      "   ImageId  Label\n",
      "0        1      2\n",
      "1        2      0\n",
      "2        3      9\n",
      "3        4      4\n",
      "4        5      2\n",
      "Submission successful\n"
     ]
    }
   ],
   "source": [
    "\n",
    "test_pca = pca.transform(test_data)\n",
    "\n",
    "pred = forest_clf.predict(test_pca)\n",
    "submission = pd.read_csv('sample_submission.csv')\n",
    "submission['Label'] = pred\n",
    "print( submission.head() )\n",
    "submission.to_csv('submission_rf_pca.csv', index=False)\n",
    "print(\"Submission successful\")"
   ]
  },
  {
   "cell_type": "code",
   "execution_count": 138,
   "metadata": {},
   "outputs": [
    {
     "data": {
      "text/plain": [
       "array([7, 2, 6, ..., 3, 4, 0], dtype=int32)"
      ]
     },
     "execution_count": 138,
     "metadata": {},
     "output_type": "execute_result"
    }
   ],
   "source": [
    "from sklearn.cluster import KMeans\n",
    "from sklearn.cluster import MiniBatchKMeans\n",
    "\n",
    "k = 10\n",
    "\n",
    "x_norm = x.astype(float) / 255.\n",
    "\n",
    "# Split data into Train and Test sets \n",
    "#x_train, x_test, y_train, y_test = train_test_split(x_norm, y, test_size=0.2, random_state=random_st)\n",
    "\n",
    "\n",
    "kmeans = MiniBatchKMeans(n_clusters = k)\n",
    "# Fit the model to the training data\n",
    "kmeans.fit(x_norm)\n",
    "kmeans.labels_\n",
    "\n"
   ]
  },
  {
   "cell_type": "code",
   "execution_count": 139,
   "metadata": {},
   "outputs": [
    {
     "data": {
      "text/plain": [
       "array([[0., 0., 0., ..., 0., 0., 0.],\n",
       "       [0., 0., 0., ..., 0., 0., 0.],\n",
       "       [0., 0., 0., ..., 0., 0., 0.],\n",
       "       ...,\n",
       "       [0., 0., 0., ..., 0., 0., 0.],\n",
       "       [0., 0., 0., ..., 0., 0., 0.],\n",
       "       [0., 0., 0., ..., 0., 0., 0.]])"
      ]
     },
     "execution_count": 139,
     "metadata": {},
     "output_type": "execute_result"
    }
   ],
   "source": [
    "kmeans.cluster_centers_"
   ]
  },
  {
   "cell_type": "code",
   "execution_count": 140,
   "metadata": {},
   "outputs": [
    {
     "data": {
      "text/plain": [
       "array([8, 9, 6, ..., 3, 3, 8], dtype=int32)"
      ]
     },
     "execution_count": 140,
     "metadata": {},
     "output_type": "execute_result"
    }
   ],
   "source": [
    "kmeans.predict(x_test)"
   ]
  },
  {
   "cell_type": "code",
   "execution_count": 141,
   "metadata": {},
   "outputs": [
    {
     "data": {
      "text/plain": [
       "10"
      ]
     },
     "execution_count": 141,
     "metadata": {},
     "output_type": "execute_result"
    }
   ],
   "source": [
    "kmeans.n_clusters"
   ]
  },
  {
   "cell_type": "code",
   "execution_count": 142,
   "metadata": {},
   "outputs": [],
   "source": [
    "# These are Cluster labels, let's assign Digits\n",
    "def infer_cluster_labels(kmeans, actual_labels):\n",
    "    inferred_labels = {}\n",
    "    for i in range(kmeans.n_clusters):\n",
    "        # find index of points in cluster\n",
    "        #labels = []\n",
    "        labels = list()\n",
    "        index = np.where(kmeans.labels_ == i)\n",
    "        # append actual labels for each point in cluster\n",
    "        for val in index:\n",
    "            #labels.append(actual_labels[index])\n",
    "            labels.append(actual_labels[val])\n",
    "        # determine most common label\n",
    "        if len(labels[0]) == 1:\n",
    "            counts = np.bincount(labels[0])\n",
    "        else:\n",
    "            counts = np.bincount(np.squeeze(labels))\n",
    "        # assign the cluster to a value in the inferred_labels dictionary\n",
    "        if np.argmax(counts) in inferred_labels:\n",
    "            # append the new number to the existing array at this slot\n",
    "            inferred_labels[np.argmax(counts)].append(i)\n",
    "        else:\n",
    "            # create a new array in this slot\n",
    "            inferred_labels[np.argmax(counts)] = [i]\n",
    "\n",
    "        #print(labels)\n",
    "        #print('Cluster: {}, label: {}'.format(i, np.argmax(counts)))\n",
    "    return inferred_labels\n",
    "\n",
    "def infer_data_labels(X_labels, cluster_labels):\n",
    "    # empty array of len(X)\n",
    "    predicted_labels = np.zeros(len(X_labels)).astype(np.uint8)\n",
    "    for i, cluster in enumerate(X_labels):\n",
    "        for key, value in cluster_labels.items():\n",
    "            if cluster in value:\n",
    "                predicted_labels[i] = key\n",
    "    return predicted_labels\n",
    "\n",
    "\n"
   ]
  },
  {
   "cell_type": "code",
   "execution_count": 109,
   "metadata": {},
   "outputs": [
    {
     "name": "stdout",
     "output_type": "stream",
     "text": [
      "7        3\n",
      "36       3\n",
      "37       1\n",
      "39       4\n",
      "56       2\n",
      "        ..\n",
      "33550    9\n",
      "33555    9\n",
      "33564    9\n",
      "33580    3\n",
      "33588    3\n",
      "Name: label, Length: 3189, dtype: int64\n",
      "0        1\n",
      "11       9\n",
      "23       0\n",
      "25       3\n",
      "28       9\n",
      "        ..\n",
      "33547    1\n",
      "33549    3\n",
      "33560    6\n",
      "33567    7\n",
      "33579    0\n",
      "Name: label, Length: 5078, dtype: int64\n",
      "17       0\n",
      "44       2\n",
      "48       7\n",
      "50       7\n",
      "63       0\n",
      "        ..\n",
      "33592    8\n",
      "33593    5\n",
      "33595    6\n",
      "33596    0\n",
      "33597    0\n",
      "Name: label, Length: 4700, dtype: int64\n",
      "19       5\n",
      "43       4\n",
      "47       7\n",
      "66       4\n",
      "72       6\n",
      "        ..\n",
      "33438    1\n",
      "33488    2\n",
      "33511    6\n",
      "33531    3\n",
      "33578    1\n",
      "Name: label, Length: 2834, dtype: int64\n",
      "9        3\n",
      "21       6\n",
      "52       1\n",
      "64       6\n",
      "67       8\n",
      "        ..\n",
      "33556    6\n",
      "33558    2\n",
      "33571    1\n",
      "33576    3\n",
      "33581    5\n",
      "Name: label, Length: 2633, dtype: int64\n",
      "49       4\n",
      "93       6\n",
      "103      7\n",
      "116      7\n",
      "148      4\n",
      "        ..\n",
      "33554    0\n",
      "33559    2\n",
      "33577    8\n",
      "33586    7\n",
      "33594    9\n",
      "Name: label, Length: 2441, dtype: int64\n",
      "1        0\n",
      "2        1\n",
      "12       1\n",
      "26       6\n",
      "27       9\n",
      "        ..\n",
      "33500    1\n",
      "33518    3\n",
      "33539    3\n",
      "33569    9\n",
      "33587    1\n",
      "Name: label, Length: 2654, dtype: int64\n",
      "13       3\n",
      "14       3\n",
      "15       1\n",
      "31       9\n",
      "34       2\n",
      "        ..\n",
      "33517    5\n",
      "33536    9\n",
      "33552    6\n",
      "33583    9\n",
      "33598    2\n",
      "Name: label, Length: 2480, dtype: int64\n",
      "5        0\n",
      "6        7\n",
      "20       8\n",
      "33       9\n",
      "35       1\n",
      "        ..\n",
      "33574    7\n",
      "33575    0\n",
      "33584    2\n",
      "33591    5\n",
      "33599    2\n",
      "Name: label, Length: 4119, dtype: int64\n",
      "3        4\n",
      "4        0\n",
      "8        5\n",
      "10       8\n",
      "16       2\n",
      "        ..\n",
      "33544    3\n",
      "33561    5\n",
      "33563    1\n",
      "33570    7\n",
      "33572    9\n",
      "Name: label, Length: 3472, dtype: int64\n"
     ]
    }
   ],
   "source": [
    "    for i in range(kmeans.n_clusters):\n",
    "        # find index of points in cluster\n",
    "        #labels = []\n",
    "        labels = list()\n",
    "        #print( i )\n",
    "        index = np.where(kmeans.labels_ == i)\n",
    "        # append actual labels for each point in cluster\n",
    "        #labels.append(y[index])\n",
    "        #print( \"Index:\", index)\n",
    "        #print(\"Y-Index\", y[index[0]])\n",
    "        for val in index:\n",
    "            print(y[val])\n",
    "            labels.append(y[index[0]])\n",
    "        \n",
    "        "
   ]
  },
  {
   "cell_type": "code",
   "execution_count": 143,
   "metadata": {},
   "outputs": [
    {
     "data": {
      "text/plain": [
       "{4: [0], 8: [1, 5], 0: [2], 7: [3], 6: [4], 1: [6, 7], 5: [8], 3: [9]}"
      ]
     },
     "execution_count": 143,
     "metadata": {},
     "output_type": "execute_result"
    }
   ],
   "source": [
    "cluster_labels = infer_cluster_labels(kmeans, y)\n",
    "cluster_labels"
   ]
  },
  {
   "cell_type": "code",
   "execution_count": 144,
   "metadata": {},
   "outputs": [],
   "source": [
    "# test the infer_cluster_labels() and infer_data_labels() functions\n",
    "cluster_labels = infer_cluster_labels(kmeans, y)\n",
    "x_clusters = kmeans.predict(x_test)\n",
    "\n",
    "predicted_labels = infer_data_labels(x_clusters, cluster_labels)\n"
   ]
  },
  {
   "cell_type": "code",
   "execution_count": 145,
   "metadata": {},
   "outputs": [
    {
     "name": "stdout",
     "output_type": "stream",
     "text": [
      "   ImageId  Label\n",
      "0        1      6\n",
      "1        2      0\n",
      "2        3      8\n",
      "3        4      7\n",
      "4        5      3\n",
      "Submission successful\n"
     ]
    }
   ],
   "source": [
    "test_data_norm = test_data.astype(float) / 255.\n",
    "\n",
    "pred = kmeans.predict(test_data_norm)\n",
    "predicted_labels = infer_data_labels(pred, cluster_labels)\n",
    "\n",
    "\n",
    "submission = pd.read_csv('sample_submission.csv')\n",
    "submission['Label'] = predicted_labels\n",
    "print( submission.head() )\n",
    "submission.to_csv('submission_kmeans.csv', index=False)\n",
    "print(\"Submission successful\")"
   ]
  },
  {
   "cell_type": "markdown",
   "metadata": {},
   "source": [
    "# PCA Design Flaw\n",
    "The PCA is dimenion reduction technique which uses Sigle Value Decompsition (SVD) and  eigen vectors and eigen values to choose the optimal feature set that captures the highest variance in the Training data.\n",
    "In our design we have ran PCA on both Training and Test data combined, it used eigen vectors and values from train and test data. This is a flaw as now our training data is projected using test data as well. Here test data is also used to learn a representation of the training data, which is not a good practice.\n",
    "\n",
    "The below is the correct way to perform PCA tranformation\n",
    "\n",
    "pca = PCA(n_components=0.95)\n",
    "pca.fit(x_train)\n",
    "x_train_pca = pca.transform(x_train)\n",
    "x_test_pca = pca.transform(x_test)\n"
   ]
  },
  {
   "cell_type": "code",
   "execution_count": 146,
   "metadata": {},
   "outputs": [
    {
     "name": "stdout",
     "output_type": "stream",
     "text": [
      "Time Taken after PCA reduction: %s 0:00:36.175423\n",
      "Score: %s 0.9354761904761905\n"
     ]
    }
   ],
   "source": [
    "\n",
    "\n",
    "# Split Scaled data into Train and Test sets \n",
    "x_train, x_test, y_train, y_test = train_test_split(x, y, test_size=0.2, random_state=random_st)\n",
    "\n",
    "pca = PCA(n_components=0.95)\n",
    "\n",
    "pca.fit(x_train)\n",
    "x_train_pca = pca.transform(x_train)\n",
    "x_test_pca = pca.transform(x_test)\n",
    "\n",
    "forest_clf = RandomForestClassifier(n_estimators=80, random_state=random_st)\n",
    "\n",
    "\n",
    "start_time = dt.datetime.now()\n",
    "\n",
    "forest_clf.fit(x_train_pca, y_train)\n",
    "\n",
    "end_time = dt.datetime.now()\n",
    "\n",
    "print( \"Time Taken after PCA reduction: %s\", (end_time-start_time) )\n",
    "\n",
    "print( \"Score: %s\", forest_clf.score(x_test_pca,y_test) )\n",
    "\n"
   ]
  },
  {
   "cell_type": "code",
   "execution_count": 147,
   "metadata": {},
   "outputs": [
    {
     "name": "stdout",
     "output_type": "stream",
     "text": [
      "   ImageId  Label\n",
      "0        1      2\n",
      "1        2      0\n",
      "2        3      9\n",
      "3        4      4\n",
      "4        5      3\n",
      "Submission successful\n"
     ]
    }
   ],
   "source": [
    "test_pca = pca.transform(test_data)\n",
    "\n",
    "pred = forest_clf.predict(test_pca)\n",
    "submission = pd.read_csv('sample_submission.csv')\n",
    "submission['Label'] = pred\n",
    "print( submission.head() )\n",
    "submission.to_csv('submission_rf_pca_updated.csv', index=False)\n",
    "print(\"Submission successful\")"
   ]
  },
  {
   "cell_type": "markdown",
   "metadata": {},
   "source": [
    "In this Digit Classification Analysis we used Random Forrest Classifier without PCA, Random Forrest with PCA reduction, \n",
    "and K-Means clustering. There was a design flaw in PCA tranformation, and after fixing it the Kaggle submission score \n",
    "improved a little. The best score we got was without the PCA reduction, when all the features were used though. \n",
    "I felt since this is a Classification problem with labelled training data, perhaps K-means is not the best model here, \n",
    "the clster label inference seems to be not very accurate.\n",
    "\n"
   ]
  },
  {
   "cell_type": "code",
   "execution_count": null,
   "metadata": {},
   "outputs": [],
   "source": []
  }
 ],
 "metadata": {
  "kernelspec": {
   "display_name": "Python 3",
   "language": "python",
   "name": "python3"
  },
  "language_info": {
   "codemirror_mode": {
    "name": "ipython",
    "version": 3
   },
   "file_extension": ".py",
   "mimetype": "text/x-python",
   "name": "python",
   "nbconvert_exporter": "python",
   "pygments_lexer": "ipython3",
   "version": "3.8.12"
  }
 },
 "nbformat": 4,
 "nbformat_minor": 4
}
