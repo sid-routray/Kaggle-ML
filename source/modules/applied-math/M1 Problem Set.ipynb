{
 "cells": [
  {
   "cell_type": "markdown",
   "metadata": {},
   "source": [
    "<div class=\"alert alert-block alert-info\"><b>Note:</b> With the use of this IPython 'magic' command <i>%matplotlib inline</i> , the output of plotting commands is \n",
    "displayed inline within frontends like the Jupyter notebook, directly below the code cell that produced it. The resulting plots will then also be stored in the notebook document.</div>"
   ]
  },
  {
   "cell_type": "markdown",
   "metadata": {},
   "source": [
    "<div class=\"alert alert-block alert-success\"><b>Problem 2:</b> Graph the following equation:<br>\n",
    "y = -2x + 1 </div>"
   ]
  },
  {
   "cell_type": "code",
   "execution_count": 28,
   "metadata": {},
   "outputs": [
    {
     "data": {
      "image/png": "[encoded data removed]",
      "text/plain": [
       "<Figure size 432x288 with 1 Axes>"
      ]
     },
     "metadata": {},
     "output_type": "display_data"
    }
   ],
   "source": [
    "import matplotlib.pyplot as plt\n",
    "import numpy as np\n",
    "%matplotlib inline\n",
    "\n",
    "plt.style.use('seaborn-whitegrid')\n",
    "\n",
    "# The Data\n",
    "x = np.linspace(-5,5,10)\n",
    "\n",
    "y = -2*x + 1\n",
    "\n",
    "# Create the figure and axes objects\n",
    "fig = plt.figure()\n",
    "ax = plt.axes()\n",
    "\n",
    "fig.suptitle('y=-2x+1')\n",
    "\n",
    "# Plot the data\n",
    "ax.plot(x,y,color='red')\n",
    "\n",
    "plt.show()"
   ]
  },
  {
   "cell_type": "markdown",
   "metadata": {},
   "source": [
    "<div class=\"alert alert-block alert-success\"><b>Problem 9: </b>When gases are heated the gas will expand. The expression for a certain gas $ V(T)=0.154T+29 $ calculates the volume V in cubic centimeter of a sample of gas at temperature T in degrees Celsius. <br/><b>(a)</b> Evaluate V(0) = cubic centimeters \n",
    "    <br/><b>(b)</b> If the temperature increases by 10  degrees, by how much does the volume increase? cubic centimeters <br/><b>(c)</b> What is the volume of gas when the temperature is 20 degrees? cubic centimeters​.\n",
    "</div>"
   ]
  },
  {
   "cell_type": "code",
   "execution_count": 29,
   "metadata": {},
   "outputs": [],
   "source": [
    "# Defining a function for the volume (V) of the gas at any temperature (T)\n",
    "def V(T):\n",
    "    volume = 0.154*T+ 29\n",
    "    return volume"
   ]
  },
  {
   "cell_type": "code",
   "execution_count": 30,
   "metadata": {},
   "outputs": [
    {
     "data": {
      "text/plain": [
       "'V(0) = 29.0 cubic centimeters'"
      ]
     },
     "execution_count": 30,
     "metadata": {},
     "output_type": "execute_result"
    }
   ],
   "source": [
    "# (a) \n",
    "f\"V(0) = {V(0)} cubic centimeters\""
   ]
  },
  {
   "cell_type": "code",
   "execution_count": 31,
   "metadata": {},
   "outputs": [
    {
     "data": {
      "text/plain": [
       "'Volume increase after temperature increase: 1.54 cubic centimeters.'"
      ]
     },
     "execution_count": 31,
     "metadata": {},
     "output_type": "execute_result"
    }
   ],
   "source": [
    "# (b)\n",
    "volume_increase = V(10)-V(0)\n",
    "f\"Volume increase after temperature increase: {round(volume_increase,2)} cubic centimeters.\""
   ]
  },
  {
   "cell_type": "code",
   "execution_count": 32,
   "metadata": {},
   "outputs": [
    {
     "data": {
      "text/plain": [
       "'Volume of gas when T is 20 is32.08 cubic centimeters.'"
      ]
     },
     "execution_count": 32,
     "metadata": {},
     "output_type": "execute_result"
    }
   ],
   "source": [
    "# (c)\n",
    "f\"Volume of gas when T is 20 is{round(V(20),2)} cubic centimeters.\""
   ]
  },
  {
   "cell_type": "markdown",
   "metadata": {},
   "source": [
    "<div class=\"alert alert-block alert-success\"><b> 12.</b> 12.\tBased on the data shown below, calculate the correlation coefficient (to three decimal places).</div>"
   ]
  },
  {
   "attachments": {
    "correlation%20table.PNG": {
     "image/png": "[encoded data removed]"
    }
   },
   "cell_type": "markdown",
   "metadata": {},
   "source": [
    "![correlation%20table.PNG](attachment:correlation%20table.PNG)"
   ]
  },
  {
   "cell_type": "markdown",
   "metadata": {},
   "source": [
    "<div class=\"alert alert-block alert-info\"><i>There are two solutions offered below:<br/>\n",
    "    (1) <b>Using corrcoef from numpy</b> - the function returns a 2-d covariance matrix. To get the correlation coefficient itself \n",
    "use the index [0,1] or [1,0] <br/>\n",
    "    (2) <b>Using pearsonr from scipy</b> - the function returns the correlation coefficient along with the 2-tailed p-value. P-values\n",
    "will be discussed a lot more in PREDICT 401 but if the values are less than 0.025 in this case, the correlation coefficient value is considered significant.<br/></i></div>"
   ]
  },
  {
   "cell_type": "code",
   "execution_count": 2,
   "metadata": {},
   "outputs": [
    {
     "data": {
      "text/plain": [
       "'Correlation Coefficient using numpy:0.982'"
      ]
     },
     "execution_count": 2,
     "metadata": {},
     "output_type": "execute_result"
    }
   ],
   "source": [
    "from scipy.stats.stats import pearsonr\n",
    "import scipy.stats as st\n",
    "import numpy as np\n",
    "import matplotlib.pyplot as plt\n",
    "\n",
    "x = np.array([4,5,6,7,8,9,10,11,12,13,14,15])\n",
    "y = np.array([10.44,14.15,15.66,14.67,15.98,18.29,19.5,22.41,22.02,22.83,25.74,26.45])\n",
    "\n",
    "corr_np = np.corrcoef(x, y)[0, 1]\n",
    "f\"Correlation Coefficient using numpy:{round(corr_np,3)}\""
   ]
  },
  {
   "cell_type": "code",
   "execution_count": 36,
   "metadata": {},
   "outputs": [
    {
     "data": {
      "text/plain": [
       "'Correlation Coefficient using scipy:0.982'"
      ]
     },
     "execution_count": 36,
     "metadata": {},
     "output_type": "execute_result"
    }
   ],
   "source": [
    "corr_sci = pearsonr(x, y)[0]\n",
    "f\"Correlation Coefficient using scipy:{round(corr_sci,3)}\""
   ]
  },
  {
   "cell_type": "markdown",
   "metadata": {},
   "source": [
    "<div class=\"alert alert-block alert-success\"><b>Problem 12: </b>The table below show data that has been collected from different fields from various farms in a certain valley. The table contains the grams of Raspberries tested and the amount of their Vitamin C content in mg. Find a linear regression model that express <b>Vitamin C content</b> as a function of the <b>weight of the Raspberries</b>.\n",
    "<br><br>\n",
    "Round your answers to 3 decimal places\n",
    "</div>"
   ]
  },
  {
   "attachments": {
    "vitamin%20c%20content.PNG": {
     "image/png": "[encoded data removed]"
    }
   },
   "cell_type": "markdown",
   "metadata": {},
   "source": [
    "![vitamin%20c%20content.PNG](attachment:vitamin%20c%20content.PNG)"
   ]
  },
  {
   "cell_type": "markdown",
   "metadata": {},
   "source": [
    "<div class=\"alert alert-block alert-info\">\n",
    "Prediction (two options) :<br/>\n",
    "1) linear regression function in scipy.stats is one way to do it <br/>\n",
    "2) polyfit within numpy <br/>\n",
    "\n",
    "<b>Option 1:</b> pass in the parameters x and y to the lingress function of scipy.stats package \n",
    "The function returns 5 values: slope, intercept, rvalue, pvalue, stderr \n",
    "To keep things simple you are mostly concerned with the slope and intercept since these can be used to determine the relationship between x and y\n",
    "</div>"
   ]
  },
  {
   "cell_type": "code",
   "execution_count": 3,
   "metadata": {},
   "outputs": [
    {
     "name": "stdout",
     "output_type": "stream",
     "text": [
      "Slope = 0.44357142857142856 and YIntercept = -12.375000000000004\n"
     ]
    },
    {
     "data": {
      "image/png": "[encoded data removed]",
      "text/latex": [
       "$\\displaystyle y = 0.444 x - 12.375$"
      ],
      "text/plain": [
       "y = 0.444⋅x - 12.375"
      ]
     },
     "execution_count": 3,
     "metadata": {},
     "output_type": "execute_result"
    }
   ],
   "source": [
    "import sympy as sym\n",
    "import scipy.stats as st\n",
    "\n",
    "grams = np.array([70,75,80,85,90,95,100])\n",
    "vitaminc = np.array([18.5,20.8,23.5,25.5,27,30.3,31.7])\n",
    "\n",
    "slope,intercept,rvalue,pvalue,stderr = st.linregress(grams,vitaminc)\n",
    "\n",
    "print ( \"Slope = {} and YIntercept = {}\".format(slope, intercept) )\n",
    "# Use sympy package to display the equation\n",
    "sym.init_printing()\n",
    "x,y = sym.symbols('x,y')\n",
    "f = sym.Eq(y,round(slope,3)*x+round(intercept,3))\n",
    "f"
   ]
  },
  {
   "cell_type": "markdown",
   "metadata": {},
   "source": [
    "<div class=\"alert alert-block alert-info\">\n",
    "    <b>Option 2:</b> This is the second option that can be used for prediction.\n",
    "This is really useful because you can use this to \n",
    "fit non-linear polynomials as well <br/>e.g. y = a*x**2 + b just by\n",
    "specifying the 'degree' of the equation as the third parameter\n",
    "\n",
    "For deeper exploration visit:\n",
    "http://docs.scipy.org/doc/numpy/reference/generated/numpy.polyfit.html \n",
    "</div>"
   ]
  },
  {
   "cell_type": "code",
   "execution_count": 4,
   "metadata": {},
   "outputs": [
    {
     "name": "stdout",
     "output_type": "stream",
     "text": [
      "Slope = 0.444 and YIntercept = -12.375\n"
     ]
    },
    {
     "data": {
      "image/png": "[encoded data removed]",
      "text/latex": [
       "$\\displaystyle y = 0.444 x - 12.375$"
      ],
      "text/plain": [
       "y = 0.444⋅x - 12.375"
      ]
     },
     "execution_count": 4,
     "metadata": {},
     "output_type": "execute_result"
    }
   ],
   "source": [
    "# pass x, y and a degree of 1 since we know there is a linear relationship\n",
    "slope, intercept = np.polyfit(grams, vitaminc, 1)\n",
    "\n",
    "print ( \"Slope = {} and YIntercept = {}\".format(round(slope,3), round(intercept,3)) )\n",
    "\n",
    "# Use sympy package to display the equation\n",
    "sym.init_printing()\n",
    "x,y = sym.symbols('x,y')\n",
    "f = sym.Eq(y,round(slope,3)*x+round(intercept,3))\n",
    "f"
   ]
  },
  {
   "cell_type": "code",
   "execution_count": 5,
   "metadata": {},
   "outputs": [
    {
     "data": {
      "image/png": "[encoded data removed]",
      "text/plain": [
       "<Figure size 432x288 with 1 Axes>"
      ]
     },
     "metadata": {
      "needs_background": "light"
     },
     "output_type": "display_data"
    }
   ],
   "source": [
    "# For demonstration purposes only\n",
    "# Scatter plot of the various points and a least-squares fit line\n",
    "import matplotlib.pyplot as plt\n",
    "plt.figure()\n",
    "plt.plot(grams, vitaminc, 'bs',label='Original datapoints')\n",
    "plt.plot(grams, slope*grams + intercept, 'r-',label='Least-squares Fit Line')\n",
    "plt.xlabel('grams')\n",
    "plt.ylabel('Vitamin C content in mg')\n",
    "plt.legend()\n",
    "plt.show()"
   ]
  },
  {
   "cell_type": "markdown",
   "metadata": {},
   "source": [
    "<div class=\"alert alert-block alert-success\"><b>Problem 15: </b>\n",
    "    The table gives the amount of money (in dollars) spent on football by a major university. Letting  x   represent the number of years since 2009, and letting  y   represent the amount of money spent on football, in thousands of dollars, find the equation of the line of best fit.\n",
    "Round your answers to the nearest hundredth."
   ]
  },
  {
   "attachments": {
    "football%20spending.PNG": {
     "image/png": "[encoded data removed]"
    }
   },
   "cell_type": "markdown",
   "metadata": {},
   "source": [
    "![football%20spending.PNG](attachment:football%20spending.PNG)"
   ]
  },
  {
   "cell_type": "markdown",
   "metadata": {},
   "source": [
    "<div class=\"alert alert-block alert-success\">    \n",
    "<p>\n",
    "    <b>(a)</b> Find the equation of the line of best fit\n",
    "\n",
    "Then, use your equation to make the following predictions.    \n",
    "    \n",
    "<b>(b)</b> Predict the amount of money that will be spent on football in the year 2022.<br/>\n",
    "\n",
    "<b>(c)</b> Predict the amount of money that will be spent on football in the year 2043.<br/>\n",
    "\n",
    "</div>"
   ]
  },
  {
   "cell_type": "markdown",
   "metadata": {},
   "source": [
    "\n",
    "<div class=\"alert alert-block alert-info\">\n",
    " Since x represents the number of years since 2009, our x-values are 0, 1, 2, 3, 4, 5. Since y represents the amount of money in thousands of dollars, our y-values are 170, 193, 210, 226, 234, 285.\n",
    "</div>"
   ]
  },
  {
   "cell_type": "code",
   "execution_count": 6,
   "metadata": {},
   "outputs": [
    {
     "data": {
      "image/png": "[encoded data removed]",
      "text/latex": [
       "$\\displaystyle y = 21.63 x + 167.76$"
      ],
      "text/plain": [
       "y = 21.63⋅x + 167.76"
      ]
     },
     "execution_count": 6,
     "metadata": {},
     "output_type": "execute_result"
    }
   ],
   "source": [
    "import sympy as sym\n",
    "import scipy.stats as st\n",
    "\n",
    "year = np.array([0, 1, 2, 3, 4, 5])     # Starts from 2005 \n",
    "spending = np.array([165, 197, 210, 229, 248, 282])\n",
    "\n",
    "slope,intercept,rvalue,pvalue,stderr = st.linregress(year,spending)\n",
    "\n",
    "slope = round(slope,2)\n",
    "intercept = round(intercept,2)\n",
    "\n",
    "# Use sympy package to display the equation\n",
    "sym.init_printing()\n",
    "x,y = sym.symbols('x,y')\n",
    "f = sym.Eq(y,slope*x+intercept)\n",
    "f"
   ]
  },
  {
   "cell_type": "code",
   "execution_count": 52,
   "metadata": {},
   "outputs": [
    {
     "data": {
      "text/plain": [
       "'It is predicted $513,840.0 will be spent in 2021'"
      ]
     },
     "execution_count": 52,
     "metadata": {},
     "output_type": "execute_result"
    }
   ],
   "source": [
    "# The year 2021 corresponds to x=16\n",
    "expected_spending = slope*16 + intercept\n",
    "\n",
    "f\"It is predicted ${round(expected_spending*1000):,} will be spent in 2021\""
   ]
  },
  {
   "cell_type": "code",
   "execution_count": 53,
   "metadata": {},
   "outputs": [
    {
     "data": {
      "text/plain": [
       "'It is predicted $946,440.0 will be spent in 2043'"
      ]
     },
     "execution_count": 53,
     "metadata": {},
     "output_type": "execute_result"
    }
   ],
   "source": [
    "# The year 2041 corresponds to x=36\n",
    "expected_spending = slope*36 + intercept\n",
    "f\"It is predicted ${round(expected_spending*1000):,} will be spent in 2041\""
   ]
  },
  {
   "cell_type": "code",
   "execution_count": 13,
   "metadata": {},
   "outputs": [
    {
     "name": "stdout",
     "output_type": "stream",
     "text": [
      "Value of m = 15000.0\n",
      "Value of b = 15000.0\n",
      "Value of p9 = 150000.0\n",
      "Value of Years = 17.0\n"
     ]
    }
   ],
   "source": [
    "import math\n",
    "p1 = 30000.00   # 1 year\n",
    "p3 = 60000.00   # 3years\n",
    "m = (p3 - p1)/2\n",
    "print ( \"Value of m = {}\".format(m) )\n",
    "#P(x) = mx + b\n",
    "# p1 = m + b \n",
    "b = p1 - m \n",
    "print ( \"Value of b = {}\".format(b) )\n",
    "\n",
    "p9 = m*9 + b\n",
    "print ( \"Value of p9 = {}\".format(p9) )\n",
    "\n",
    "# 270000 = mx + b, x = (270000 - b)/m\n",
    "x = (270000 - b)/m\n",
    "print ( \"Value of Years = {}\".format(x) )\n"
   ]
  },
  {
   "cell_type": "code",
   "execution_count": 20,
   "metadata": {},
   "outputs": [
    {
     "name": "stdout",
     "output_type": "stream",
     "text": [
      "Value of v40 = 38.08\n",
      "Value of incr_40 = 6.079999999999998\n",
      "Value of v35 = 37.32\n"
     ]
    }
   ],
   "source": [
    "# v = 0.152*t + 32. \n",
    "slope = 0.152\n",
    "yintercept = 32\n",
    "\n",
    "v0 = 32\n",
    "v40 = slope*40 + yintercept\n",
    "print( \"Value of v40 = {}\".format(v40))\n",
    "incr40 = v40 - 32\n",
    "print( \"Value of incr_40 = {}\".format(incr40))\n",
    "\n",
    "v35 = slope*35 + yintercept\n",
    "print( \"Value of v35 = {}\".format(v35))\n"
   ]
  },
  {
   "cell_type": "code",
   "execution_count": 27,
   "metadata": {},
   "outputs": [
    {
     "name": "stdout",
     "output_type": "stream",
     "text": [
      "Value of b = 11000.0\n",
      "71000.0\n",
      "Profit for year 2019 = 83000.0\n"
     ]
    }
   ],
   "source": [
    "# y = m*x + b\n",
    "m = 12000.00\n",
    "y1 = 23000.00  # 2014\n",
    "\n",
    "#y1 = m + b\n",
    "b = y1 - m\n",
    "print( \"Value of b = {}\".format(b) )\n",
    "y5 = m*5 + b\n",
    "print (y5)\n",
    "y6 = m*6 + b\n",
    "print( \"Profit for year 2019 = {}\".format(y6) )\n"
   ]
  },
  {
   "cell_type": "code",
   "execution_count": 43,
   "metadata": {},
   "outputs": [
    {
     "name": "stdout",
     "output_type": "stream",
     "text": [
      "Sales for year 2013 = 235.22199999999998\n",
      "years value = 17.565466101694913\n",
      "2014.565466101695\n"
     ]
    }
   ],
   "source": [
    "# y = mx + b\n",
    "m = 9.44\n",
    "b = 84.182\n",
    "x = 2013 - 1997\n",
    "y2013 = m*x + b\n",
    "print( \"Sales for year 2013 = {}\".format(y2013) )\n",
    "\n",
    "# 250 = m*years + b, years = (250 - b)/m\n",
    "years = (250 - b)/m\n",
    "print( \"years value = {}\".format(years) )\n",
    "\n",
    "print ( 1997 + years )\n",
    "\n",
    "\n"
   ]
  },
  {
   "cell_type": "code",
   "execution_count": null,
   "metadata": {},
   "outputs": [],
   "source": []
  }
 ],
 "metadata": {
  "kernelspec": {
   "display_name": "Python 3",
   "language": "python",
   "name": "python3"
  },
  "language_info": {
   "codemirror_mode": {
    "name": "ipython",
    "version": 3
   },
   "file_extension": ".py",
   "mimetype": "text/x-python",
   "name": "python",
   "nbconvert_exporter": "python",
   "pygments_lexer": "ipython3",
   "version": "3.8.5"
  },
  "varInspector": {
   "cols": {
    "lenName": 16,
    "lenType": 16,
    "lenVar": 40
   },
   "kernels_config": {
    "python": {
     "delete_cmd_postfix": "",
     "delete_cmd_prefix": "del ",
     "library": "var_list.py",
     "varRefreshCmd": "print(var_dic_list())"
    },
    "r": {
     "delete_cmd_postfix": ") ",
     "delete_cmd_prefix": "rm(",
     "library": "var_list.r",
     "varRefreshCmd": "cat(var_dic_list()) "
    }
   },
   "types_to_exclude": [
    "module",
    "function",
    "builtin_function_or_method",
    "instance",
    "_Feature"
   ],
   "window_display": false
  }
 },
 "nbformat": 4,
 "nbformat_minor": 4
}
