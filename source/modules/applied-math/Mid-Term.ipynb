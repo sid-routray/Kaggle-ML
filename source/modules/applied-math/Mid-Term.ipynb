{
 "cells": [
  {
   "cell_type": "code",
   "execution_count": 161,
   "metadata": {},
   "outputs": [
    {
     "name": "stdout",
     "output_type": "stream",
     "text": [
      "Intersectiion is (235.2941176470588, 28235.29411764706) \n"
     ]
    },
    {
     "data": {
      "image/png": "[encoded data removed]",
      "text/plain": [
       "<Figure size 432x288 with 1 Axes>"
      ]
     },
     "metadata": {
      "needs_background": "light"
     },
     "output_type": "display_data"
    }
   ],
   "source": [
    "import sympy as sym\n",
    "import numpy as np\n",
    "import matplotlib.pyplot as plt\n",
    "from numpy import linspace\n",
    "# Use sympy package to display the equation\n",
    "\n",
    "# The fixed cost for the production will be $24,000.  \n",
    "# The variable cost will be $18 per pair of shoes.  \n",
    "# The shoes will sell for $120 for each pair. \n",
    "# Cost C = 24000 + 18x # x = number of pairs of shoes\n",
    "# Revenue R = 120x\n",
    "\n",
    "sym.init_printing()\n",
    "x,y = sym.symbols('x,y')\n",
    "\n",
    "solns = sym.solve([\n",
    "    18*x - 1*y + 24000,   # Set equations equal to 0 for solving\n",
    "    120*x - 1*y ],        # Finding Break even point, Cost = Revenue\n",
    "    [x, y])\n",
    "print(f\"Intersectiion is ({float(solns[x])}, {float(solns[y])}) \")\n",
    "\n",
    "x_vals = np.arange(0, 300)\n",
    "y1= 18*x_vals + 24000\n",
    "y2= 120*x_vals\n",
    "\n",
    "plt.figure()  \n",
    "plt.plot(x_vals, y1, 'r')\n",
    "plt.plot(x_vals, y2, 'b')\n",
    "\n",
    "plt.legend (('cost','revenue', 2))\n",
    "plt.title ('Breakeven Analysis')\n",
    "plt.grid()\n",
    "plt.show()"
   ]
  },
  {
   "cell_type": "code",
   "execution_count": 163,
   "metadata": {},
   "outputs": [
    {
     "data": {
      "image/png": "[encoded data removed]",
      "text/latex": [
       "$\\displaystyle 28320$"
      ],
      "text/plain": [
       "28320"
      ]
     },
     "execution_count": 163,
     "metadata": {},
     "output_type": "execute_result"
    }
   ],
   "source": [
    "24000 + 236*18\n",
    "120*236"
   ]
  },
  {
   "cell_type": "code",
   "execution_count": 17,
   "metadata": {},
   "outputs": [
    {
     "name": "stdout",
     "output_type": "stream",
     "text": [
      "x: 9000.00000000000, y: 4000.00000000000, z: 4500.00000000000\n"
     ]
    }
   ],
   "source": [
    "import sympy as sym\n",
    "# Use sympy package to display the equation\n",
    "\n",
    "# Total Investment, x = multual fund, y = Bonds, z = CD \n",
    "# x + y + z = 17500\n",
    "# Total return in 1 year\n",
    "# 0.11x + 0.07y + 0.05z = 1495\n",
    "# x = 2z\n",
    "\n",
    "sym.init_printing()\n",
    "x,y,z = sym.symbols('x,y,z')\n",
    "\n",
    "solns = sym.solve([\n",
    "    x + y + z - 17500,\n",
    "    0.11*x + 0.07*y + 0.05*z - 1495,\n",
    "    x - 2*z],\n",
    "    [x, y, z])\n",
    "print(f\"x: {solns[x]}, y: {solns[y]}, z: {solns[z]}\")\n"
   ]
  },
  {
   "cell_type": "code",
   "execution_count": 164,
   "metadata": {},
   "outputs": [
    {
     "data": {
      "image/png": "[encoded data removed]",
      "text/latex": [
       "$\\displaystyle 1495.0$"
      ],
      "text/plain": [
       "1495.0"
      ]
     },
     "execution_count": 164,
     "metadata": {},
     "output_type": "execute_result"
    }
   ],
   "source": [
    "0.11*9000 + 0.07*4000 + 0.05*4500"
   ]
  },
  {
   "cell_type": "code",
   "execution_count": 15,
   "metadata": {},
   "outputs": [
    {
     "name": "stdout",
     "output_type": "stream",
     "text": [
      "\n",
      "Right Hand Side of Equation\n",
      "[[17500]\n",
      " [ 1495]\n",
      " [    0]]\n",
      "\n",
      "Matrix A\n",
      "[[ 1.    1.    1.  ]\n",
      " [ 0.11  0.07  0.05]\n",
      " [ 1.    0.   -2.  ]]\n",
      "[[9000.]\n",
      " [4000.]\n",
      " [4500.]]\n",
      "[[9000.]\n",
      " [4000.]\n",
      " [4500.]]\n"
     ]
    }
   ],
   "source": [
    "import numpy as np\n",
    "from numpy.linalg import linalg, inv\n",
    "# Total Investment, x = multual fund, y = Bonds, z = CD \n",
    "# x + y + z = 17500\n",
    "# Total return in 1 year\n",
    "# 0.11x + 0.07y + 0.05z = 1495\n",
    "# x = 2z\n",
    "\n",
    "rhs = [17500, 1495, 0]\n",
    "rhs = np.matrix(rhs)\n",
    "rhs = np.transpose(rhs)\n",
    "print('\\nRight Hand Side of Equation')\n",
    "print(rhs)\n",
    "\n",
    "A = [[1, 1, 1], [0.11, 0.07, 0.05], [1, 0, -2]]\n",
    "A = np.matrix(A)\n",
    "print('\\nMatrix A')\n",
    "print(A)\n",
    "\n",
    "result2 = linalg.solve(A, rhs)\n",
    "# print(np.rint(result2))    # This converts floating point to integer.\n",
    "print(result2)    \n",
    "\n",
    "\n"
   ]
  },
  {
   "cell_type": "code",
   "execution_count": 16,
   "metadata": {},
   "outputs": [
    {
     "data": {
      "image/png": "[encoded data removed]",
      "text/latex": [
       "$\\displaystyle 1495.0$"
      ],
      "text/plain": [
       "1495.0"
      ]
     },
     "execution_count": 16,
     "metadata": {},
     "output_type": "execute_result"
    }
   ],
   "source": [
    "0.11*9000 + 0.07*4000 + 0.05*4500"
   ]
  },
  {
   "cell_type": "code",
   "execution_count": 165,
   "metadata": {},
   "outputs": [
    {
     "data": {
      "image/png": "[encoded data removed]",
      "text/plain": [
       "<Figure size 432x288 with 1 Axes>"
      ]
     },
     "metadata": {
      "needs_background": "light"
     },
     "output_type": "display_data"
    }
   ],
   "source": [
    "# A + B + C + D = 252 , team A, team B, team C, team D \n",
    "# A = 3B\n",
    "# C = 2D\n",
    "# 3B + B + 2D + D -> 4B + 3D = 252 , 4x + 3y = 252 , x = team B, y = team D \n",
    "\n",
    "import sympy as sym\n",
    "import matplotlib.pyplot \n",
    "from matplotlib.pyplot import *\n",
    "import numpy \n",
    "from numpy import arange\n",
    "from mpl_toolkits import mplot3d\n",
    "\n",
    "\n",
    "x_vals = np.arange(3, 63, 3)\n",
    "y1= -(4/3)*x_vals + 84\n",
    "\n",
    "xlim(0,100)\n",
    "ylim(0,100)\n",
    "hlines(0,0,100,color='black')\n",
    "vlines(0,0,100,color='black')\n",
    "plt.title ('Team sizes Analysis')\n",
    "plt.grid()\n",
    "\n",
    "plt.plot(x_vals, y1, 'r')\n",
    "plt.show()\n",
    "\n"
   ]
  },
  {
   "cell_type": "code",
   "execution_count": 66,
   "metadata": {},
   "outputs": [
    {
     "name": "stdout",
     "output_type": "stream",
     "text": [
      "Team A = 9, Team B = 3, team C = 160, team D = 80 \n",
      "Team A = 18, Team B = 6, team C = 152, team D = 76 \n",
      "Team A = 27, Team B = 9, team C = 144, team D = 72 \n",
      "Team A = 36, Team B = 12, team C = 136, team D = 68 \n",
      "Team A = 45, Team B = 15, team C = 128, team D = 64 \n",
      "Team A = 54, Team B = 18, team C = 120, team D = 60 \n",
      "Team A = 63, Team B = 21, team C = 112, team D = 56 \n",
      "Team A = 72, Team B = 24, team C = 104, team D = 52 \n",
      "Team A = 81, Team B = 27, team C = 96, team D = 48 \n",
      "Team A = 90, Team B = 30, team C = 88, team D = 44 \n",
      "Team A = 99, Team B = 33, team C = 80, team D = 40 \n",
      "Team A = 108, Team B = 36, team C = 72, team D = 36 \n",
      "Team A = 117, Team B = 39, team C = 64, team D = 32 \n",
      "Team A = 126, Team B = 42, team C = 56, team D = 28 \n",
      "Team A = 135, Team B = 45, team C = 48, team D = 24 \n",
      "Team A = 144, Team B = 48, team C = 40, team D = 20 \n",
      "Team A = 153, Team B = 51, team C = 32, team D = 16 \n",
      "Team A = 162, Team B = 54, team C = 24, team D = 12 \n",
      "Team A = 171, Team B = 57, team C = 16, team D = 8 \n",
      "Team A = 180, Team B = 60, team C = 8, team D = 4 \n"
     ]
    }
   ],
   "source": [
    "#x = [ 3, 6, 9, 12, 15, 18, 21, 24, 27 ... 63 ] \n",
    "x_vals = np.arange(3, 6, 3)\n",
    "\n",
    "for x in x_vals:\n",
    "    y = int( 252/3 - (4/3)*x )\n",
    "    print( \"Team A = {}, Team B = {}, team C = {}, team D = {} \".format(3*x, x, 2*y, y) )\n",
    "\n"
   ]
  },
  {
   "cell_type": "code",
   "execution_count": 113,
   "metadata": {},
   "outputs": [
    {
     "name": "stdout",
     "output_type": "stream",
     "text": [
      "[[60]\n",
      " [40]\n",
      " [52]]\n",
      "15200\n"
     ]
    }
   ],
   "source": [
    "from numpy import matrix, transpose\n",
    "from numpy import linalg\n",
    "\n",
    "\n",
    "A = [ [6, 8, 1], [6, 4, 1], [5, 7, 1] ]\n",
    "A = np.matrix(A)\n",
    "\n",
    "#prices of supplier K \n",
    "K = [ 3, 5, 2 ]\n",
    "K = np.matrix(K)\n",
    "K = np.transpose(K) \n",
    "\n",
    "\n",
    "result = np.dot(A, K)\n",
    "#result = np.rint(result)\n",
    "# Cost of 1 batch of cherry, almond and resin respectively\n",
    "print ( result )\n",
    "\n",
    "# Cost of 100 batches of each\n",
    "print ( np.sum(result)*100 )\n"
   ]
  },
  {
   "cell_type": "code",
   "execution_count": 107,
   "metadata": {},
   "outputs": [
    {
     "name": "stdout",
     "output_type": "stream",
     "text": [
      "[[4 3]]\n"
     ]
    }
   ],
   "source": [
    "\n",
    "A = np.matrix([[4, 3], [6, 5]])\n",
    "print ( A[:1] )"
   ]
  },
  {
   "cell_type": "code",
   "execution_count": 114,
   "metadata": {},
   "outputs": [
    {
     "name": "stdout",
     "output_type": "stream",
     "text": [
      "x: 3000, y: 2000, z: 10000\n"
     ]
    }
   ],
   "source": [
    "import sympy as sym\n",
    "\n",
    "# x = court-side seats, y = first-level, z = uper-deck\n",
    "# x + y + z = 15000\n",
    "# 8x + 6y + 4z = 76000\n",
    "# 4x + 6y + 2z = 44000\n",
    "\n",
    "# Use sympy package to display the equation\n",
    "\n",
    "\n",
    "sym.init_printing()\n",
    "x,y,z = sym.symbols('x,y,z')\n",
    "\n",
    "solns = sym.solve([\n",
    "    x + y + z - 15000,\n",
    "    8*x + 6*y + 4*z - 76000,\n",
    "    4*x + 6*y + 2*z - 44000],\n",
    "    [x, y, z])\n",
    "print(f\"x: {solns[x]}, y: {solns[y]}, z: {solns[z]}\")\n"
   ]
  },
  {
   "cell_type": "code",
   "execution_count": 178,
   "metadata": {},
   "outputs": [
    {
     "name": "stdout",
     "output_type": "stream",
     "text": [
      "x1 = 2666.6667 , x2 = 1000.0\n",
      "Maximum profit is $ 826.67\n",
      "Rounded to liters values\n",
      "x1 = 2667 , x2 = 1000\n",
      "Maximum profit is $ 826.75\n"
     ]
    }
   ],
   "source": [
    "from pulp import LpVariable, LpProblem, LpMaximize, LpStatus, value, LpMinimize\n",
    " # x1 = liters made using old process. x2 = liters made using new process \n",
    "# declare your variables\n",
    "x1 = LpVariable(\"x1\", 0, None) # x1>=0\n",
    "x2 = LpVariable(\"x2\", 0, None) # x2>=0\n",
    "\n",
    "# defines the problem\n",
    "prob = LpProblem(\"problem\", LpMaximize)\n",
    "\n",
    "# defines the constraints\n",
    "prob += 6*x1 + 2*x2  <= 18000\n",
    "\n",
    "prob += 3*x1 + 4*x2  <= 12000\n",
    "\n",
    "# defines the objective function to maximize\n",
    "prob += 25*x1 + 16*x2 \n",
    "\n",
    "# solve the problem\n",
    "status = prob.solve()\n",
    "LpStatus[status]\n",
    "\n",
    "# print the results (integer values)\n",
    "print( \"x1 =\",(value(x1)),\", x2 =\",(value(x2)) )\n",
    "print(\"Maximum profit is $\",round( (25*value(x1) + 16*value(x2))/100 ,2))\n",
    "\n",
    "print( \"Rounded to liters values\" )\n",
    "print( \"x1 =\",round(value(x1)),\", x2 =\",round(value(x2)) )\n",
    "print(\"Maximum profit is $\",round( (25*round(value(x1)) + 16*value(x2))/100 ,2))\n"
   ]
  },
  {
   "cell_type": "code",
   "execution_count": 175,
   "metadata": {},
   "outputs": [
    {
     "data": {
      "image/png": "[encoded data removed]",
      "text/latex": [
       "$\\displaystyle 82675$"
      ],
      "text/plain": [
       "82675"
      ]
     },
     "execution_count": 175,
     "metadata": {},
     "output_type": "execute_result"
    }
   ],
   "source": [
    "25*2667 + 16*1000"
   ]
  },
  {
   "cell_type": "code",
   "execution_count": 118,
   "metadata": {},
   "outputs": [
    {
     "name": "stdout",
     "output_type": "stream",
     "text": [
      "Scipy Optimize Optimal value: -82666.66380669667 \n",
      " x1, x2, x3, x4 : [2666.66657437  999.99996547]\n",
      "\n",
      "\n"
     ]
    }
   ],
   "source": [
    "from scipy.optimize import linprog\n",
    "\n",
    "# coefficients of objective function\n",
    "z = [-25, -16] \n",
    "\n",
    "# coefficients of the left-hand side of the inequalities\n",
    "lhs = [[6, 2], [3, 4]]\n",
    "\n",
    "# coefficients of the right-hand side of the inequalities\n",
    "rhs = [18000, 12000]\n",
    "\n",
    "# set the bounds for the variables\n",
    "x1_bounds = (0, None)\n",
    "x2_bounds = (0, None)\n",
    "x3_bounds = (0, None)\n",
    "x4_bounds = (0, None)\n",
    "\n",
    "method='simplex'\n",
    "\n",
    "res = linprog(c=z, A_ub=lhs, b_ub=rhs,  bounds=(x1_bounds,x2_bounds))\n",
    "\n",
    "# See scipy documentation for additional details about scipy.optimize.OptimizeResult \n",
    "# https://docs.scipy.org/doc/scipy-0.15.1/reference/generated/scipy.optimize.linprog.html\n",
    "\n",
    "# Print optimal values of x1, x2, x3 and x4 \n",
    "print('Scipy Optimize Optimal value:', res.fun, '\\n x1, x2, x3, x4 :', res.x)\n",
    "print('\\n')"
   ]
  },
  {
   "cell_type": "code",
   "execution_count": 190,
   "metadata": {},
   "outputs": [
    {
     "name": "stdout",
     "output_type": "stream",
     "text": [
      "x1 = 18 , x2 = 12\n",
      "x1 = 18.0 , x2 = 12.0\n",
      "Optimal cost is $ 56400.0\n"
     ]
    }
   ],
   "source": [
    "from pulp import LpVariable, LpProblem, LpMaximize, LpStatus, value, LpMinimize\n",
    " # x1 = number of Teachers. x2 = number of TA's \n",
    "# declare your variables\n",
    "x1 = LpVariable(\"x1\", 1, None) # x1>=1\n",
    "x2 = LpVariable(\"x2\", 10, None) # x2>=10\n",
    "\n",
    "# defines the problem\n",
    "prob = LpProblem(\"problem\", LpMinimize)\n",
    "\n",
    "# defines the constraints\n",
    "prob += 1*x1 + 1*x2  <= 45\n",
    "\n",
    "prob += 1*x1 + 1*x2  >= 30\n",
    "\n",
    "prob += 2*x1  >= 3*x2   \n",
    "\n",
    "# defines the objective function to minimize\n",
    "prob += 2400*x1 + 1100*x2 \n",
    "\n",
    "# solve the problem\n",
    "status = prob.solve()\n",
    "LpStatus[status]\n",
    "\n",
    "# print the results (integer values)\n",
    "#print(\"x1 =\",int(value(x1)),\", x2 =\",int(value(x2)),\", x3 =\",int(value(x3)),\")\")\n",
    "print( \"x1 =\",int(value(x1)),\", x2 =\",int(value(x2)) )\n",
    "print( \"x1 =\",(value(x1)),\", x2 =\",(value(x2)) )\n",
    "\n",
    "\n",
    "print(\"Optimal cost is $\",round( (2400*value(x1) + 1100*value(x2)) ,2))"
   ]
  },
  {
   "cell_type": "code",
   "execution_count": 127,
   "metadata": {},
   "outputs": [
    {
     "name": "stdout",
     "output_type": "stream",
     "text": [
      "x1 = 0 , x2 = 0 , x3 = 12\n",
      "Minimum cost is Cents 12.0\n"
     ]
    }
   ],
   "source": [
    "# x1 = number of pill-1, x2 = pill-2, x3 = pill-3\n",
    "#  A B C\n",
    "#  4 3 0\n",
    "#  1 2 4\n",
    "# 10 1 5\n",
    "# MJ needs A = 10, B = 12, C = 20 \n",
    "from pulp import LpVariable, LpProblem, LpMaximize, LpStatus, value, LpMinimize\n",
    "\n",
    "# declare your variables\n",
    "x1 = LpVariable(\"x1\", 0, None) # x1>=0\n",
    "x2 = LpVariable(\"x2\", 0, None) # x2>=0\n",
    "x3 = LpVariable(\"x3\", 0, None) # x3>=0\n",
    "\n",
    "# defines the problem\n",
    "prob = LpProblem(\"problem\", LpMinimize)\n",
    "\n",
    "# defines the constraints\n",
    "prob += 4*x1 + 1*x2 + 10*x3 >= 10 \n",
    "prob += 3*x1 + 2*x2 + 1*x3 >= 12  \n",
    "prob += 4*x2 + 5*x3 >= 20  \n",
    "\n",
    "# defines the objective function to maximize\n",
    "prob += 6*x1 + 8*x2 + 1*x3\n",
    "\n",
    "# solve the problem\n",
    "status = prob.solve()\n",
    "LpStatus[status]\n",
    "\n",
    "# print the results (integer values)\n",
    "print(\"x1 =\",int(value(x1)),\", x2 =\",int(value(x2)),\", x3 =\",int(value(x3)))\n",
    "\n",
    "print(\"Minimum cost is Cents\",round(6*value(x1) + 8*value(x2) + 1*value(x3),2))"
   ]
  },
  {
   "cell_type": "code",
   "execution_count": 180,
   "metadata": {},
   "outputs": [
    {
     "name": "stdout",
     "output_type": "stream",
     "text": [
      "x1 = 120 , x2 = 60 , x3 = 30\n",
      "x1 = 120.0 , x2 = 60.0 , x3 = 30.0\n",
      "MAximum Revenue is $ 196500.0\n"
     ]
    }
   ],
   "source": [
    "# x1 = number of Dvd players, x2 = Sorround Sound systems count, x3 = Smart Tvs count\n",
    "#  x1 + x2 + x3 <= 210\n",
    "# x1 = 2x2\n",
    "# x3 >= 30 \n",
    "from pulp import LpVariable, LpProblem, LpMaximize, LpStatus, value, LpMinimize\n",
    "\n",
    "# declare your variables\n",
    "x1 = LpVariable(\"x1\", 0, None) # x1>=0\n",
    "x2 = LpVariable(\"x2\", 0, None) # x2>=0\n",
    "x3 = LpVariable(\"x3\", 0, None) # x3>=0\n",
    "\n",
    "# defines the problem\n",
    "prob = LpProblem(\"problem\", LpMaximize)\n",
    "\n",
    "# defines the constraints\n",
    "prob += 1*x1 + 1*x2 + 1*x3 <= 210\n",
    "prob += 1*x1 - 2*x2  == 0  \n",
    "prob += 1*x3 >= 30  \n",
    "\n",
    "# defines the objective function to maximize\n",
    "prob += 450*x1 + 2000*x2 + 750*x3\n",
    "\n",
    "# solve the problem\n",
    "status = prob.solve()\n",
    "LpStatus[status]\n",
    "\n",
    "# print the results (integer values)\n",
    "print(\"x1 =\",int(value(x1)),\", x2 =\",int(value(x2)),\", x3 =\",int(value(x3)))\n",
    "print(\"x1 =\",(value(x1)),\", x2 =\",(value(x2)),\", x3 =\",(value(x3)))\n",
    "\n",
    "\n",
    "print(\"MAximum Revenue is $\",round(450*value(x1) + 2000*value(x2) + 750*value(x3),2))"
   ]
  },
  {
   "cell_type": "code",
   "execution_count": 187,
   "metadata": {},
   "outputs": [
    {
     "name": "stdout",
     "output_type": "stream",
     "text": [
      "0.2283298097251586\n",
      "ronded P =  0.2283\n"
     ]
    }
   ],
   "source": [
    "# A = event, it came from Box A \n",
    "# P(A) = 0.27 , P(winner|A) = 0.04, p(winner|A') = 0.05 , it came from B as AB is mixed\n",
    "# P(A|Winner)\n",
    "\n",
    "# probabilit it came from Box A, given it is a winner\n",
    "# P(A|Winner) = P(A).P(Winner|A) / P(A).P(Winner|A) + P(A').P(Winner|A')\n",
    "\n",
    "p = (0.27 * 0.04) / ( 0.27 * 0.04 + 0.73 * 0.05 )\n",
    "\n",
    "print (p)\n",
    "print( \"ronded P = \", round(p, 4) )\n"
   ]
  },
  {
   "cell_type": "code",
   "execution_count": null,
   "metadata": {},
   "outputs": [],
   "source": []
  },
  {
   "cell_type": "code",
   "execution_count": null,
   "metadata": {},
   "outputs": [],
   "source": []
  }
 ],
 "metadata": {
  "kernelspec": {
   "display_name": "Python 3",
   "language": "python",
   "name": "python3"
  },
  "language_info": {
   "codemirror_mode": {
    "name": "ipython",
    "version": 3
   },
   "file_extension": ".py",
   "mimetype": "text/x-python",
   "name": "python",
   "nbconvert_exporter": "python",
   "pygments_lexer": "ipython3",
   "version": "3.8.12"
  }
 },
 "nbformat": 4,
 "nbformat_minor": 4
}
