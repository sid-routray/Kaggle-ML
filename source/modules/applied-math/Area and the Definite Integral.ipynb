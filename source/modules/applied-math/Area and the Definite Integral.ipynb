{
 "cells": [
  {
   "cell_type": "markdown",
   "metadata": {},
   "source": [
    "# MSDS 400 Area and the Definite Integral"
   ]
  },
  {
   "cell_type": "code",
   "execution_count": 1,
   "metadata": {},
   "outputs": [],
   "source": [
    "import matplotlib.pyplot as plt\n",
    "import math\n",
    "\n",
    "# An example function:\n",
    "\n",
    "def f(x):\n",
    "    return (math.pow(x, 2) + 100) * math.log(x + 2)  # Students can supply their functions at this point.\n"
   ]
  },
  {
   "cell_type": "markdown",
   "metadata": {},
   "source": [
    "`integrate()` is a general numerical integration function. It requires an interval [a,b] and n = the number of subintervals used for integration. The code below uses a function, f, as defined above. "
   ]
  },
  {
   "cell_type": "code",
   "execution_count": 2,
   "metadata": {},
   "outputs": [],
   "source": [
    "def integrate(a, b, n):\n",
    "    total = 0.0\n",
    "    delta = (b - a) / n\n",
    "    i = 0\n",
    "    while i < n:\n",
    "        total = total + delta * (f(a + delta * (i + 1)) + f(a + delta * i)) / 2.0\n",
    "        i = i + 1\n",
    "    return total\n",
    "\n",
    "# This shows list manipulations resulting in a plot\n",
    "y = []\n",
    "x = []\n",
    "b = 4.0\n",
    "a = 0.0\n",
    "rng = [10, 20, 30, 40, 50, 100, 250]"
   ]
  },
  {
   "cell_type": "markdown",
   "metadata": {},
   "source": [
    "We are going to integrate the function at specified points in range[&nbsp;].  The\n",
    "values in range[&nbsp;] will subdivide the interval [a,b] into finer subdivisions\n",
    "thus improving upon the numerical approximation of the limiting area.  The\n",
    "variables x and y are lists and the following for loop concantenates new\n",
    "elements to both x and y for plotting purposes."
   ]
  },
  {
   "cell_type": "code",
   "execution_count": 3,
   "metadata": {},
   "outputs": [
    {
     "data": {
      "image/png": "[encoded data removed]",
      "text/plain": [
       "<Figure size 432x288 with 1 Axes>"
      ]
     },
     "metadata": {
      "needs_background": "light"
     },
     "output_type": "display_data"
    }
   ],
   "source": [
    "for n in rng:\n",
    "    area = integrate(a, b, n)\n",
    "    x = x + [n]\n",
    "    y = y + [area]\n",
    "\n",
    "plt.xlim(0, max(x) + 60)\n",
    "plt.ylim(min(y) - 0.5, max(y) + 0.5)\n",
    "\n",
    "plt.plot(x, y)\n",
    "plt.scatter(x, y, s=30, c='r')\n",
    "plt.scatter(300, 64.0, c='y')  # This plots the limiting value for the area.\n",
    "\n",
    "plt.xlabel('Number of Subintervals')\n",
    "plt.ylabel('Estimated Area')\n",
    "plt.title('Plot Showing Numerical Integration Convergence')\n",
    "plt.show()"
   ]
  },
  {
   "cell_type": "code",
   "execution_count": 4,
   "metadata": {},
   "outputs": [
    {
     "name": "stdout",
     "output_type": "stream",
     "text": [
      "Final Estimate of Area with %r subdivisions = 250\n"
     ]
    }
   ],
   "source": [
    "area = float(format(y[-1], '0.3f'))\n",
    "print(\"Final Estimate of Area with %r subdivisions = {}\".format(x[-1], area))"
   ]
  },
  {
   "cell_type": "code",
   "execution_count": 5,
   "metadata": {},
   "outputs": [],
   "source": [
    "\n",
    "def f(x):\n",
    "    return (math.pow(x, 2) + 100) * math.log(x + 2)  # Students can supply their functions at this point.\n",
    "\n",
    "\n",
    "#Left\n",
    "def RiemannSum_L(a, b, n):\n",
    "    total = 0.0\n",
    "    delta = (b - a) / n\n",
    "    i = 0\n",
    "    while i < n:\n",
    "        total = total + delta *  f(a + delta * i)\n",
    "        i = i + 1\n",
    "    return total\n",
    "\n",
    "#Right\n",
    "def RiemannSum_M(a, b, n):\n",
    "    total = 0.0\n",
    "    delta = (b - a) / n\n",
    "    i = 0\n",
    "    while i < n:\n",
    "        total = total + delta * (f(a + delta * (i + 1)) + f(a + delta * i)) / 2.0\n",
    "        i = i + 1\n",
    "    return total\n",
    "\n",
    "#Med\n",
    "def RiemannSum_R(a, b, n):\n",
    "    total = 0.0\n",
    "    delta = (b - a) / n\n",
    "    i = 0\n",
    "    while i < n:\n",
    "        total = total + delta * f(a + delta * (i + 1)) \n",
    "        i = i + 1\n",
    "    return total\n",
    "\n"
   ]
  },
  {
   "cell_type": "code",
   "execution_count": 14,
   "metadata": {},
   "outputs": [
    {
     "data": {
      "text/plain": [
       "4214"
      ]
     },
     "execution_count": 14,
     "metadata": {},
     "output_type": "execute_result"
    }
   ],
   "source": [
    "14*( 9 + 33 + 59 + 75 + 72 + 53 ) "
   ]
  },
  {
   "cell_type": "code",
   "execution_count": 8,
   "metadata": {},
   "outputs": [
    {
     "data": {
      "text/plain": [
       "985.0"
      ]
     },
     "execution_count": 8,
     "metadata": {},
     "output_type": "execute_result"
    }
   ],
   "source": []
  },
  {
   "cell_type": "code",
   "execution_count": 10,
   "metadata": {},
   "outputs": [
    {
     "data": {
      "text/plain": [
       "985.0"
      ]
     },
     "execution_count": 10,
     "metadata": {},
     "output_type": "execute_result"
    }
   ],
   "source": [
    "10*12 + 10*(55+24)/2.0 + 10*(55+39)/2.0"
   ]
  },
  {
   "cell_type": "code",
   "execution_count": 12,
   "metadata": {},
   "outputs": [
    {
     "data": {
      "text/plain": [
       "3920"
      ]
     },
     "execution_count": 12,
     "metadata": {},
     "output_type": "execute_result"
    }
   ],
   "source": [
    "28*( 9 + 59 + 72 )"
   ]
  },
  {
   "cell_type": "code",
   "execution_count": 23,
   "metadata": {},
   "outputs": [
    {
     "data": {
      "text/plain": [
       "(23.131603908277437, 2.568123925547887e-13)"
      ]
     },
     "execution_count": 23,
     "metadata": {},
     "output_type": "execute_result"
    }
   ],
   "source": [
    "import scipy.integrate as integrate\n",
    "import scipy.special as special\n",
    "import math\n",
    "\n",
    "result = integrate.quad(lambda x: 7/(x+1) + 4/math.sqrt(x+1), 7, 22)\n",
    "result"
   ]
  },
  {
   "cell_type": "code",
   "execution_count": 20,
   "metadata": {},
   "outputs": [
    {
     "data": {
      "text/plain": [
       "640"
      ]
     },
     "execution_count": 20,
     "metadata": {},
     "output_type": "execute_result"
    }
   ],
   "source": [
    "300*1 + 400*1**2 - 60*1**3"
   ]
  },
  {
   "cell_type": "code",
   "execution_count": 24,
   "metadata": {},
   "outputs": [
    {
     "data": {
      "text/plain": [
       "0.75"
      ]
     },
     "execution_count": 24,
     "metadata": {},
     "output_type": "execute_result"
    }
   ],
   "source": [
    "6*0.125"
   ]
  },
  {
   "cell_type": "code",
   "execution_count": null,
   "metadata": {},
   "outputs": [],
   "source": []
  }
 ],
 "metadata": {
  "kernelspec": {
   "display_name": "Python 3",
   "language": "python",
   "name": "python3"
  },
  "language_info": {
   "codemirror_mode": {
    "name": "ipython",
    "version": 3
   },
   "file_extension": ".py",
   "mimetype": "text/x-python",
   "name": "python",
   "nbconvert_exporter": "python",
   "pygments_lexer": "ipython3",
   "version": "3.8.5"
  },
  "varInspector": {
   "cols": {
    "lenName": 16,
    "lenType": 16,
    "lenVar": 40
   },
   "kernels_config": {
    "python": {
     "delete_cmd_postfix": "",
     "delete_cmd_prefix": "del ",
     "library": "var_list.py",
     "varRefreshCmd": "print(var_dic_list())"
    },
    "r": {
     "delete_cmd_postfix": ") ",
     "delete_cmd_prefix": "rm(",
     "library": "var_list.r",
     "varRefreshCmd": "cat(var_dic_list()) "
    }
   },
   "types_to_exclude": [
    "module",
    "function",
    "builtin_function_or_method",
    "instance",
    "_Feature"
   ],
   "window_display": false
  }
 },
 "nbformat": 4,
 "nbformat_minor": 4
}
