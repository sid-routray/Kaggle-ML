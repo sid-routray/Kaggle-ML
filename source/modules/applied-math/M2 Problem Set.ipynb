{
 "cells": [
  {
   "cell_type": "markdown",
   "metadata": {},
   "source": [
    "<div class=\"alert alert-block alert-success\"><b>Problem 2:</b></div>\n",
    "\n"
   ]
  },
  {
   "cell_type": "code",
   "execution_count": 2,
   "metadata": {},
   "outputs": [
    {
     "name": "stdout",
     "output_type": "stream",
     "text": [
      "-224/29 is supposed to be 6\n",
      "-217/29 is supposed to be 8\n"
     ]
    }
   ],
   "source": [
    "import sympy as sym\n",
    "# Use sympy package to display the equation\n",
    "sym.init_printing()\n",
    "#sym.solve()\n",
    "x,y = sym.symbols('x,y')\n",
    "\n",
    "solns = sym.solve([\n",
    "    4*x - 6*y - 14, \n",
    "    -5*x - 7*y - 91],\n",
    "    [x, y])\n",
    "print(f\"{solns[x]} is supposed to be 6\")\n",
    "print(f\"{solns[y]} is supposed to be 8\")"
   ]
  },
  {
   "cell_type": "markdown",
   "metadata": {},
   "source": [
    "<div class=\"alert alert-block alert-success\"><b>Problem 3: </b></div>"
   ]
  },
  {
   "cell_type": "code",
   "execution_count": 5,
   "metadata": {},
   "outputs": [
    {
     "name": "stdout",
     "output_type": "stream",
     "text": [
      "Intersectiion is (-2, -3) \n"
     ]
    },
    {
     "data": {
      "image/png": "[encoded data removed]",
      "text/plain": [
       "<Figure size 432x288 with 1 Axes>"
      ]
     },
     "metadata": {
      "needs_background": "light"
     },
     "output_type": "display_data"
    }
   ],
   "source": [
    "import sympy as sym\n",
    "import numpy as np\n",
    "import matplotlib.pyplot as plt\n",
    "from numpy import linspace\n",
    "# Use sympy package to display the equation\n",
    "sym.init_printing()\n",
    "x,y = sym.symbols('x,y')\n",
    "\n",
    "solns = sym.solve([\n",
    "    -1*x + 1*y + 1,   # Set equations equal to 0 for solving\n",
    "    -4*x + 2*y - 2],\n",
    "    [x, y])\n",
    "print(f\"Intersectiion is ({solns[x]}, {solns[y]}) \")\n",
    "\n",
    "\n",
    "# Eq 1\n",
    "# 2x + y = 1\n",
    "# y = -2x + 1\n",
    "# Eq 2\n",
    "# 3x + 3y = - 3\n",
    "# 3y = -3x - 3\n",
    "# y = -x - 1\n",
    "\n",
    "x_vals = np.arange(-5, 10)\n",
    "#x_vals = linspace(-1, 15, 100)\n",
    "y1 = 1 * x_vals - 1   # Eq 1\n",
    "y2 = 2 * x_vals + 1  # Eq 2\n",
    "\n",
    "plt.plot(x_vals, y1, 'r')\n",
    "plt.plot(x_vals, y2, 'b')\n",
    "plt.grid()\n",
    "plt.show()"
   ]
  },
  {
   "cell_type": "markdown",
   "metadata": {},
   "source": [
    "<div class=\"alert alert-block alert-success\"><b>Problem 4: </b>\n",
    "</div>"
   ]
  },
  {
   "cell_type": "code",
   "execution_count": 10,
   "metadata": {},
   "outputs": [
    {
     "name": "stdout",
     "output_type": "stream",
     "text": [
      "The solution is x:-2 and y:-5\n"
     ]
    }
   ],
   "source": [
    "import sympy as sym\n",
    "# Use sympy package to display the equation\n",
    "sym.init_printing()\n",
    "x,y = sym.symbols('x,y')\n",
    "\n",
    "sollns = sym.solve([\n",
    "    2  * x + 6 * y + 34,\n",
    "    5 * x + 4 * y + 30],\n",
    "    [x, y])\n",
    "print(f\"The solution is x:{sollns[x]} and y:{sollns[y]}\")"
   ]
  },
  {
   "cell_type": "markdown",
   "metadata": {},
   "source": [
    "<div class=\"alert alert-block alert-success\"><b>Problem 5: </b>\n",
    "</div>"
   ]
  },
  {
   "cell_type": "code",
   "execution_count": 11,
   "metadata": {},
   "outputs": [
    {
     "name": "stdout",
     "output_type": "stream",
     "text": [
      "There are 671 old pennies and 626 new pennies\n"
     ]
    }
   ],
   "source": [
    "import sympy as sym\n",
    "# Use sympy package to display the equation\n",
    "sym.init_printing()\n",
    "\n",
    "# X is old pennies, Y is new pennies\n",
    "x,y = sym.symbols('x,y')\n",
    "\n",
    "solns = sym.solve([\n",
    "    3.1*x + 2.5*y - 3645.1,   # weight\n",
    "    x + y - 1297],  # count\n",
    "    [x, y])\n",
    "print(f\"There are {int(solns[x])} old pennies and {int(solns[y])} new pennies\")"
   ]
  },
  {
   "cell_type": "markdown",
   "metadata": {},
   "source": [
    "<div class=\"alert alert-block alert-success\"><b>Problem 6:</b></div>"
   ]
  },
  {
   "cell_type": "code",
   "execution_count": 12,
   "metadata": {},
   "outputs": [
    {
     "name": "stdout",
     "output_type": "stream",
     "text": [
      "Ken ate at astounding 5 tacos and 1 burriots\n"
     ]
    }
   ],
   "source": [
    "import sympy as sym\n",
    "# Use sympy package to display the equation\n",
    "sym.init_printing()\n",
    "\n",
    "# X is tacos, Y is burritos\n",
    "x,y = sym.symbols('x,y')\n",
    "\n",
    "solns = sym.solve([\n",
    "    260 * x + 350 * y - 1650,   # callories\n",
    "    x + y - 6],  # count\n",
    "    [x, y])\n",
    "print(f\"Ken ate at astounding {solns[x]} tacos and {solns[y]} burriots\")"
   ]
  },
  {
   "cell_type": "markdown",
   "metadata": {},
   "source": [
    "<div class=\"alert alert-block alert-success\"><b>Problem 7:</b></div>"
   ]
  },
  {
   "cell_type": "code",
   "execution_count": 13,
   "metadata": {},
   "outputs": [
    {
     "name": "stdout",
     "output_type": "stream",
     "text": [
      "\n",
      "Small box and large box costs\n",
      "\n",
      "[[ 9.5]\n",
      " [19. ]]\n"
     ]
    }
   ],
   "source": [
    "from numpy import matrix, transpose\n",
    "from numpy import linalg\n",
    "M= [[24, 23], # Roberto's sales\n",
    "    [25, 25]]  # Rosa's sales\n",
    "M= matrix(M)\n",
    "O= [665,  # Roberto total\n",
    "    712.50]  # Rosa total\n",
    "O= transpose(matrix(O)) \n",
    "result= linalg.solve(M,O)\n",
    "print ('\\nSmall box and large box costs\\n') \n",
    "print (result)"
   ]
  },
  {
   "cell_type": "markdown",
   "metadata": {},
   "source": [
    "<div class=\"alert alert-block alert-success\"><b>Problem 8:</b></div>"
   ]
  },
  {
   "cell_type": "code",
   "execution_count": 14,
   "metadata": {},
   "outputs": [
    {
     "name": "stdout",
     "output_type": "stream",
     "text": [
      "x: -1, y: 2, z: 2\n"
     ]
    }
   ],
   "source": [
    "import sympy as sym\n",
    "# Use sympy package to display the equation\n",
    "sym.init_printing()\n",
    "x,y,z = sym.symbols('x,y,z')\n",
    "\n",
    "solns = sym.solve([\n",
    "    x - 2 * y + z + 3,\n",
    "    y + 2 * z - 6,\n",
    "    x + y + 3 * z - 7],\n",
    "    [x, y, z])\n",
    "print(f\"x: {solns[x]}, y: {solns[y]}, z: {solns[z]}\")"
   ]
  },
  {
   "cell_type": "markdown",
   "metadata": {},
   "source": [
    "<div class=\"alert alert-block alert-success\"><b>Problem 9:</b></div>"
   ]
  },
  {
   "cell_type": "code",
   "execution_count": 8,
   "metadata": {},
   "outputs": [
    {
     "name": "stdout",
     "output_type": "stream",
     "text": [
      "\n",
      "Right Hand Side of Equation\n",
      "[[   155]\n",
      " [161970]\n",
      " [     0]]\n",
      "\n",
      "Matrix A\n",
      "[[   1    1    1]\n",
      " [ 469 1496 1846]\n",
      " [   1   -2    0]]\n",
      "\n",
      "Small box and large box costs\n",
      "\n",
      "[[80.]\n",
      " [40.]\n",
      " [35.]]\n"
     ]
    }
   ],
   "source": [
    "rhs = [155, 161970, 0]\n",
    "rhs = np.matrix(rhs)\n",
    "rhs = np.transpose(rhs)\n",
    "print('\\nRight Hand Side of Equation')\n",
    "print(rhs)\n",
    "\n",
    "A = [[1, 1, 1],\n",
    "     [469, 1496, 1846],\n",
    "     [1, -2, 0]]\n",
    "A = np.matrix(A)\n",
    "print('\\nMatrix A')\n",
    "print(A)\n",
    "IA = np.linalg.inv(A)\n",
    "\n",
    "result = np.dot(IA, rhs)\n",
    "result = np.rint(result)\n",
    "result\n"
   ]
  },
  {
   "cell_type": "code",
   "execution_count": 6,
   "metadata": {},
   "outputs": [
    {
     "name": "stdout",
     "output_type": "stream",
     "text": [
      "x: 80, y: 40, z: 35\n"
     ]
    }
   ],
   "source": [
    "sym.init_printing()\n",
    "x,y,z = sym.symbols('x,y,z')\n",
    "\n",
    "solns = sym.solve([\n",
    "    x + y + z - 155,\n",
    "    469*x + 1496*y + 1846 * z - 161970,\n",
    "    x - 2*y + 0],\n",
    "    [x, y, z])\n",
    "print(f\"x: {solns[x]}, y: {solns[y]}, z: {solns[z]}\")"
   ]
  },
  {
   "cell_type": "markdown",
   "metadata": {},
   "source": [
    "<div class=\"alert alert-block alert-success\"><b>Problem 10:</b></div>"
   ]
  },
  {
   "cell_type": "code",
   "execution_count": 16,
   "metadata": {},
   "outputs": [
    {
     "name": "stdout",
     "output_type": "stream",
     "text": [
      "\n",
      "Matrix A\n",
      "[[0.65 0.6  0.95]\n",
      " [0.35 0.4  0.05]]\n",
      "\n",
      "Matrix B\n",
      "[[13  8]\n",
      " [ 2  5]\n",
      " [27 32]]\n",
      "\n",
      "Product\n",
      "[[35.3 38.6]\n",
      " [ 6.7  6.4]]\n",
      "\n",
      "Cost\n",
      "[[127078. 138226.]]\n"
     ]
    }
   ],
   "source": [
    "blends = [[.65, .6, .95], \n",
    "          [.35, .4, .05]]\n",
    "A = np.matrix(blends)\n",
    "print('\\nMatrix A')\n",
    "print(A)\n",
    "\n",
    "\n",
    "print('\\nMatrix B')\n",
    "demands = [[13, 8],\n",
    "           [2, 5],\n",
    "           [27, 32]]\n",
    "\n",
    "B = np.matrix(demands)\n",
    "print(B)\n",
    "\n",
    "prod = np.dot(A, B)\n",
    "print('\\nProduct')\n",
    "print(prod)\n",
    "\n",
    "# Because these are in thousands of pounds\n",
    "thous_prod = 1000 * prod\n",
    "\n",
    "prices = [3.45, 0.79]\n",
    "cost = np.dot(prices, thous_prod)\n",
    "print(\"\\nCost\")\n",
    "print(cost)"
   ]
  },
  {
   "cell_type": "markdown",
   "metadata": {},
   "source": [
    "<div class=\"alert alert-block alert-success\"><b>Problem 11:</b></div>"
   ]
  },
  {
   "cell_type": "code",
   "execution_count": 19,
   "metadata": {},
   "outputs": [
    {
     "name": "stdout",
     "output_type": "stream",
     "text": [
      "\n",
      "Matrix A\n",
      "[[0.1  0.   0.   0.  ]\n",
      " [0.   0.14 0.   0.  ]\n",
      " [0.   0.   0.13 0.  ]\n",
      " [0.   0.   0.   0.2 ]]\n",
      "\n",
      "Matrix B\n",
      "[[12 11]\n",
      " [19 22]\n",
      " [29 28]\n",
      " [57 46]]\n",
      "\n",
      "Profit\n",
      "[[ 1200.  1100.]\n",
      " [ 2660.  3080.]\n",
      " [ 3770.  3640.]\n",
      " [11400.  9200.]]\n",
      "\n",
      "Two Brand A Compact Car Profits\n",
      "2400.0000000000005\n"
     ]
    }
   ],
   "source": [
    "markups = [[.1, 0, 0, 0],[0, .14, 0, 0], [0, 0, .13, 0], [0, 0 , 0, .2]]\n",
    "A = np.matrix(markups)\n",
    "print('\\nMatrix A')\n",
    "print(A)\n",
    "\n",
    "\n",
    "print('\\nMatrix B')\n",
    "prices  = [[12, 11],\n",
    "           [19, 22],\n",
    "           [29, 28],\n",
    "           [57, 46]]\n",
    "\n",
    "B = np.matrix(prices)\n",
    "print(B)\n",
    "\n",
    "profit = A * B \n",
    "profit_thou = profit * 1000\n",
    "print('\\nProfit')\n",
    "print(profit_thou)\n",
    "\n",
    "compact_a_two_prof = profit_thou[0, 0] * 2\n",
    "print('\\nTwo Brand A Compact Car Profits')\n",
    "print(compact_a_two_prof)\n"
   ]
  },
  {
   "cell_type": "markdown",
   "metadata": {},
   "source": [
    "<div class=\"alert alert-block alert-success\"><b>Problem 12:</b></div>"
   ]
  },
  {
   "cell_type": "code",
   "execution_count": 10,
   "metadata": {},
   "outputs": [
    {
     "name": "stdout",
     "output_type": "stream",
     "text": [
      "Coefficient Matrix\n",
      "[[  3 -10]\n",
      " [ -1   5]]\n",
      "Inverse of it is\n",
      "[[1.  2. ]\n",
      " [0.2 0.6]]\n",
      "The solutions are [[8. ]\n",
      " [2.2]]\n"
     ]
    }
   ],
   "source": [
    "lhs = np.matrix([[3, -10], [-1, 5]])\n",
    "rhs = [2, 3]\n",
    "rhs = np.matrix(rhs)\n",
    "rhs = np.transpose(rhs)\n",
    "\n",
    "print(\"Coefficient Matrix\")\n",
    "print(lhs)\n",
    "\n",
    "print(\"Inverse of it is\")\n",
    "inv_lhs = np.linalg.inv(lhs)\n",
    "print(inv_lhs)\n",
    "\n",
    "sol = np.dot(inv_lhs, rhs)\n",
    "print(f\"The solutions are {sol}\")"
   ]
  },
  {
   "cell_type": "markdown",
   "metadata": {},
   "source": [
    "<div class=\"alert alert-block alert-success\"><b>Problem 13:</b></div>"
   ]
  },
  {
   "cell_type": "code",
   "execution_count": 21,
   "metadata": {},
   "outputs": [
    {
     "name": "stdout",
     "output_type": "stream",
     "text": [
      "\n",
      "Right Hand Side of Equation\n",
      "[[318]\n",
      " [272]\n",
      " [209]]\n",
      "\n",
      "Matrix A\n",
      "[[40  5 31]\n",
      " [ 0 13 69]\n",
      " [ 2 20 33]]\n"
     ]
    },
    {
     "data": {
      "text/plain": [
       "matrix([[5.],\n",
       "        [5.],\n",
       "        [3.]])"
      ]
     },
     "execution_count": 21,
     "metadata": {},
     "output_type": "execute_result"
    }
   ],
   "source": [
    "rhs = [318, 272, 209]  # carbs, fat, protein \n",
    "rhs = np.matrix(rhs)\n",
    "rhs = np.transpose(rhs)\n",
    "print('\\nRight Hand Side of Equation')\n",
    "print(rhs)\n",
    "\n",
    "A = [[40, 5, 31],\n",
    "     [0, 13, 69],\n",
    "     [2, 20, 33]]\n",
    "A = np.matrix(A)\n",
    "print('\\nMatrix A')\n",
    "print(A)\n",
    "IA = np.linalg.inv(A)\n",
    "\n",
    "result = np.dot(IA, rhs)\n",
    "result = np.rint(result)\n",
    "result"
   ]
  },
  {
   "cell_type": "markdown",
   "metadata": {},
   "source": [
    "<div class=\"alert alert-block alert-success\"><b>Problem 14:</b></div>"
   ]
  },
  {
   "cell_type": "code",
   "execution_count": 28,
   "metadata": {},
   "outputs": [
    {
     "name": "stdout",
     "output_type": "stream",
     "text": [
      "D is -14\n",
      "Dx is 70\n",
      "Dy is 42\n",
      "The solution is (-5.0, -3.0)\n"
     ]
    }
   ],
   "source": [
    "a1 = -2\n",
    "a2 = 4\n",
    "b1 = 2\n",
    "b2 = 3\n",
    "c1 = 4\n",
    "c2 = -29\n",
    "\n",
    "D = (a1 * b2) - (a2 * b1)\n",
    "print(f'D is {D}')\n",
    "\n",
    "Dx = (c1 * b2) - (c2 * b1)\n",
    "Dy = (a1 * c2) - (a2 * c1)\n",
    "print(f'Dx is {Dx}')\n",
    "print(f'Dy is {Dy}')\n",
    "\n",
    "x = Dx/D\n",
    "y = Dy/D\n",
    "print(f\"The solution is ({x}, {y})\")"
   ]
  },
  {
   "cell_type": "code",
   "execution_count": 30,
   "metadata": {},
   "outputs": [
    {
     "data": {
      "image/png": "[encoded data removed]",
      "text/latex": [
       "$\\displaystyle 4$"
      ],
      "text/plain": [
       "4"
      ]
     },
     "execution_count": 30,
     "metadata": {},
     "output_type": "execute_result"
    }
   ],
   "source": [
    "4 * (-5) + 3 * (-3)\n",
    "-2 * (-5) + 2 * (-3)"
   ]
  },
  {
   "cell_type": "code",
   "execution_count": 38,
   "metadata": {},
   "outputs": [
    {
     "name": "stdout",
     "output_type": "stream",
     "text": [
      "D is -7\n",
      "Dx is -7\n",
      "Dy is -14\n",
      "Dz is -21\n",
      "The solution is (1.0, 2.0, 3.0)\n"
     ]
    }
   ],
   "source": [
    "a1 = -6\n",
    "a2 = 5\n",
    "a3 = -3\n",
    "b1 = 1\n",
    "b2 = -4\n",
    "b3 = -1\n",
    "c1 = -5\n",
    "c2 = 6\n",
    "c3 = -2\n",
    "d1 = -19\n",
    "d2 = 15\n",
    "d3 = -11\n",
    "\n",
    "D = (a1 * b2 * c3) + (b1*c2*a3) + (c1*a2*b3) - (a3 * b2 * c1) - (b3*c2*a1) - (c3*a2*b1)    \n",
    "# D = 𝑎1𝑏2𝑐3+𝑏1𝑐2𝑎3+𝑐1𝑎2𝑏3−𝑎3𝑏2𝑐1−𝑏3𝑐2𝑎1−𝑐3𝑎2𝑏1\n",
    "# Dx -> replace \"a*\"\" values with \"d*\"\" values,  Dy -> replace \"b*\"\" values with \"d*\"\" values, Dz -> replace \"c*\" with \"d*\" \n",
    "\n",
    "print(f'D is {D}')\n",
    "\n",
    "Dx = (d1 * b2 * c3) + (b1*c2*d3) + (c1*d2*b3) - (d3 * b2 * c1) - (b3*c2*d1) - (c3*d2*b1) \n",
    "Dy = (a1 * d2 * c3) + (d1*c2*a3) + (c1*a2*d3) - (a3 * d2 * c1) - (d3*c2*a1) - (c3*a2*d1) \n",
    "Dz = (a1 * b2 * d3) + (b1*d2*a3) + (d1*a2*b3) - (a3 * b2 * d1) - (b3*d2*a1) - (d3*a2*b1) \n",
    "print(f'Dx is {Dx}')\n",
    "print(f'Dy is {Dy}')\n",
    "print(f'Dz is {Dz}')\n",
    "\n",
    "x = Dx/D\n",
    "y = Dy/D\n",
    "z = Dz/D\n",
    "print(f\"The solution is ({x}, {y}, {z})\")\n"
   ]
  },
  {
   "cell_type": "code",
   "execution_count": null,
   "metadata": {},
   "outputs": [],
   "source": []
  }
 ],
 "metadata": {
  "kernelspec": {
   "display_name": "Python 3",
   "language": "python",
   "name": "python3"
  },
  "language_info": {
   "codemirror_mode": {
    "name": "ipython",
    "version": 3
   },
   "file_extension": ".py",
   "mimetype": "text/x-python",
   "name": "python",
   "nbconvert_exporter": "python",
   "pygments_lexer": "ipython3",
   "version": "3.8.5"
  },
  "varInspector": {
   "cols": {
    "lenName": 16,
    "lenType": 16,
    "lenVar": 40
   },
   "kernels_config": {
    "python": {
     "delete_cmd_postfix": "",
     "delete_cmd_prefix": "del ",
     "library": "var_list.py",
     "varRefreshCmd": "print(var_dic_list())"
    },
    "r": {
     "delete_cmd_postfix": ") ",
     "delete_cmd_prefix": "rm(",
     "library": "var_list.r",
     "varRefreshCmd": "cat(var_dic_list()) "
    }
   },
   "types_to_exclude": [
    "module",
    "function",
    "builtin_function_or_method",
    "instance",
    "_Feature"
   ],
   "window_display": false
  }
 },
 "nbformat": 4,
 "nbformat_minor": 4
}
