{
 "cells": [
  {
   "cell_type": "markdown",
   "metadata": {},
   "source": [
    "# Multivariate Calculus\n",
    "## Functions of two variables\n",
    "Solving for two variables will be very similar to how we solved things in the previous week. Instead of a single variable however we will be using multiple. Suppose we have the following equation:\n",
    "\n",
    "f(x, y) = 4x^2 - 9xy +6y^3\n",
    "\n",
    "Let us find partial derivitives for x and y individually. It is incredibly easy with sympy as we saw last week."
   ]
  },
  {
   "cell_type": "code",
   "execution_count": 13,
   "metadata": {
    "tags": []
   },
   "outputs": [
    {
     "name": "stdout",
     "output_type": "stream",
     "text": [
      "Partial Derivitive of our equation with respect to x: 8*x - 9*y\n",
      "Partial Derivitive of our equation with respect to y: -9*x + 18*y**2\n"
     ]
    }
   ],
   "source": [
    "import math\n",
    "from sympy import symbols\n",
    "\n",
    "x, y = symbols('x, y')\n",
    "f_x_y = 4 * x**2 - 9 * x * y + 6 * y**3\n",
    "\n",
    "partial_f_x = f_x_y.diff(x)  # Differentiate our equation with respect to x\n",
    "print(f\"Partial Derivitive of our equation with respect to x: {partial_f_x}\")\n",
    "\n",
    "partial_f_y = f_x_y.diff(y)  # Differentiate our equation with respect to y\n",
    "print(f\"Partial Derivitive of our equation with respect to y: {partial_f_y}\")"
   ]
  },
  {
   "cell_type": "markdown",
   "metadata": {},
   "source": [
    "We can continue by taking the second derivitive of either. "
   ]
  },
  {
   "cell_type": "code",
   "execution_count": 2,
   "metadata": {
    "tags": []
   },
   "outputs": [
    {
     "name": "stdout",
     "output_type": "stream",
     "text": [
      "Second derivitive fyy(x,y): 36*y\n",
      "Second derivitive fyx(x,y): -9\n"
     ]
    }
   ],
   "source": [
    "partial_y_y = partial_f_y.diff(y) \n",
    "partial_y_x = partial_f_y.diff(x)\n",
    "\n",
    "print(f\"Second derivitive fyy(x,y): {partial_y_y}\")\n",
    "print(f\"Second derivitive fyx(x,y): {partial_y_x}\")"
   ]
  },
  {
   "cell_type": "markdown",
   "metadata": {},
   "source": [
    "## Finding Extrema\n",
    "We can also find extrema with multiple variables in the same way we found them last week: use sympy's solve or solveset to get our answer. Suppose we have the equation:\n",
    "\n",
    "f(x, y) = 6*x^2 + 6 * y^2 + 6 * x * y + 36 * x  - 5\n",
    "\n",
    "Let us find all critical points for this equation. We begin by getting the partials for x and y. This gives us a system of linear equations. We can use sympy's linsolve function to solve this system of equations for x and y values respectively. "
   ]
  },
  {
   "cell_type": "code",
   "execution_count": 6,
   "metadata": {
    "tags": []
   },
   "outputs": [
    {
     "name": "stdout",
     "output_type": "stream",
     "text": [
      "The x and y value for critical points are FiniteSet((-4, 2))\n"
     ]
    }
   ],
   "source": [
    "from sympy import symbols, S, linsolve\n",
    "\n",
    "x, y = symbols('x, y')\n",
    "\n",
    "f_x_y = 6*x**2 + 6*y**2 + 6*x*y + 36*x - 5\n",
    "partial_x = f_x_y.diff(x)\n",
    "partial_y = f_x_y.diff(y)\n",
    "\n",
    "results = linsolve([partial_x, partial_y], x, y)\n",
    "\n",
    "print(f\"The x and y value for critical points are {results}\")\n"
   ]
  },
  {
   "cell_type": "markdown",
   "metadata": {},
   "source": [
    "We now want to see if the critical point we've found is a relative maxima, minima, saddle point, or none of them. We do this by calculating the discriminant D. To help do this, let us create a helper function that implements the discremint formula and use it on our results of (-4, 2)"
   ]
  },
  {
   "cell_type": "code",
   "execution_count": 7,
   "metadata": {
    "tags": []
   },
   "outputs": [
    {
     "name": "stdout",
     "output_type": "stream",
     "text": [
      "The discriminant of our critical value is 108\n",
      "This is a relative minima\n"
     ]
    }
   ],
   "source": [
    "from sympy import lambdify, Abs\n",
    "\n",
    "def D(func, x_sym, y_sym, x_crit, y_crit):\n",
    "    # Calculate the discriminant for a given function\n",
    "    f_x_x = func.diff(x_sym, x_sym)\n",
    "    f_y_y = func.diff(y_sym, y_sym)\n",
    "    f_x_y = func.diff(x_sym, y_sym)\n",
    "    \n",
    "    # Create callable functions for each of the derivitives we created\n",
    "    lambd_x_x = lambdify([x_sym, y_sym], f_x_x)\n",
    "    lambd_y_y = lambdify([x_sym, y_sym], f_y_y)\n",
    "    lambd_x_y = lambdify([x_sym, y_sym], f_x_y)\n",
    "\n",
    "    fxx_ab = lambd_x_x(x_crit, y_crit)\n",
    "    fyy_ab = lambd_y_y(x_crit, y_crit) \n",
    "    fxy_ab = lambd_x_y(x_crit, y_crit)\n",
    "\n",
    "    d = fxx_ab * fyy_ab - Abs(fxy_ab)**2\n",
    "\n",
    "    print(f\"The discriminant of our critical value is {d}\")\n",
    "\n",
    "    if d < 0:\n",
    "        print(\"This is a saddle point\")\n",
    "    elif d > 0:\n",
    "        if fxx_ab < 0:\n",
    "            print(\"This is relative maxima\")\n",
    "        else:\n",
    "            print(\"This is a relative minima\")\n",
    "    \n",
    "\n",
    "# Call our new function and pass in the values\n",
    "D(f_x_y, x, y, -4, 2)"
   ]
  },
  {
   "cell_type": "markdown",
   "metadata": {},
   "source": [
    "Let us try another equation that has multiple points to test. We will use the nonlinsolve this time as the system of equations is nonlinear. You will notice that one of the solutions given includes non-real numbers. We use the is_real parameter to ignore that solution.\n",
    "\n",
    "f(x, y) = 9xy - x^3 - y^3 - 6"
   ]
  },
  {
   "cell_type": "code",
   "execution_count": 8,
   "metadata": {
    "tags": []
   },
   "outputs": [
    {
     "name": "stdout",
     "output_type": "stream",
     "text": [
      "The x and y value for critical points are FiniteSet((0, 0), (3, 3), ((-3/2 - 3*sqrt(3)*I/2)**2/3, -3/2 - 3*sqrt(3)*I/2), ((-3/2 + 3*sqrt(3)*I/2)**2/3, -3/2 + 3*sqrt(3)*I/2))\n",
      "Analyzing critical point (0, 0)\n",
      "The discriminant of our critical value is -81\n",
      "This is a saddle point\n",
      "Analyzing critical point (3, 3)\n",
      "The discriminant of our critical value is 243\n",
      "This is relative maxima\n"
     ]
    }
   ],
   "source": [
    "from sympy import symbols, S, nonlinsolve\n",
    "\n",
    "x, y = symbols('x, y', real=True)\n",
    "\n",
    "f_x_y = 9*x*y - x**3 - y**3 - 6\n",
    "partial_x = f_x_y.diff(x)\n",
    "partial_y = f_x_y.diff(y)\n",
    "\n",
    "# Get nonlinear solution and remove imaginary numbers\n",
    "results = nonlinsolve([partial_x, partial_y], [x, y])\n",
    "\n",
    "print(f\"The x and y value for critical points are {results}\")\n",
    "\n",
    "for result in list(results):\n",
    "    if result[0].is_real and result[1].is_real:  # Ignore any solutions that are not real numbers\n",
    "        print(f\"Analyzing critical point {result}\")\n",
    "        D(f_x_y, x, y, result[0], result[1])  "
   ]
  },
  {
   "cell_type": "markdown",
   "metadata": {},
   "source": [
    "## Lagrange Multipliers\n",
    "When solving problems with greater dimensionality, it is helpful to use lagrange multipliers. In python we will create an extra symbol l to represent our new variable lambda. The rest of the process is similar to that above.\n",
    "\n",
    "Suppose we want to maximize the area of a rectangle x/y with the function f(x, y) = x *y\n",
    "\n",
    "This is constrained however by the function:\n",
    "\n",
    "g(x, y) = xy + 20y + 20x + 474000 = 500000\n",
    "\n",
    "We first set our constraint equal to zero, and then solve for x and y.\n"
   ]
  },
  {
   "cell_type": "code",
   "execution_count": 9,
   "metadata": {
    "tags": []
   },
   "outputs": [
    {
     "name": "stdout",
     "output_type": "stream",
     "text": [
      "Max value of x is 142.480768092719\n",
      "Max value of y is 142.480768092719\n",
      "Max area is of (142.480768092719, 142.480768092719) is 20300.7692762912\n",
      "Max value of x is -182.480768092719\n",
      "Max value of y is -182.480768092719\n",
      "Max area is of (-182.480768092719, -182.480768092719) is 33299.2307237088\n"
     ]
    }
   ],
   "source": [
    "from sympy import symbols, nonlinsolve, nsimplify, expand, powsimp\n",
    "\n",
    "x, y, l = symbols('x, y, l', real=True)\n",
    "\n",
    "f_xy = x * y\n",
    "g_xy = x * y + 20 * y + 20 * x + 474000 - 500000  # Constraint is equal to zero when subtracting right side\n",
    "\n",
    "# Implement lagrange function and solve system\n",
    "f_xyl = f_xy - l *g_xy\n",
    "f_xyl_x = f_xyl.diff(x)\n",
    "f_xyl_y = f_xyl.diff(y)\n",
    "f_xyl_l = f_xyl.diff(l)\n",
    "\n",
    "results = nonlinsolve([\n",
    "    f_xyl_x,\n",
    "    f_xyl_y,\n",
    "    f_xyl_l,\n",
    "], [x, y, l])\n",
    "\n",
    "# Analyze each of the solutions\n",
    "for sol in list(results):\n",
    "    x_sol, y_sol, l_sol = sol\n",
    "\n",
    "    x_sol = x_sol.evalf()  # Evaluate the value so we're not getting sqrt equation\n",
    "    y_sol = y_sol.evalf()\n",
    "    print(f\"Max value of x is {x_sol}\")\n",
    "    print(f\"Max value of y is {y_sol}\")\n",
    "\n",
    "    print(f\"Max area is of ({x_sol}, {y_sol}) is {x_sol * y_sol}\")"
   ]
  },
  {
   "cell_type": "code",
   "execution_count": 21,
   "metadata": {},
   "outputs": [
    {
     "name": "stdout",
     "output_type": "stream",
     "text": [
      "Partial Derivitive of our equation with respect to x: 12*x*exp(x**2 - 4*y)\n",
      "Partial Derivitive of our equation with respect to y: -24*exp(x**2 - 4*y)\n",
      "-24.0\n"
     ]
    }
   ],
   "source": [
    "\n",
    "from sympy import symbols\n",
    "import sympy as sy\n",
    "\n",
    "x, y = symbols('x, y')\n",
    "f_x_y = 6 * sy.exp(x**2 - 4*y)\n",
    "\n",
    "partial_f_x = f_x_y.diff(x)  # Differentiate our equation with respect to x\n",
    "print(f\"Partial Derivitive of our equation with respect to x: {partial_f_x}\")\n",
    "\n",
    "partial_f_y = f_x_y.diff(y)  # Differentiate our equation with respect to y\n",
    "print(f\"Partial Derivitive of our equation with respect to y: {partial_f_y}\")\n",
    "\n",
    "    # Create callable functions for each of the derivitives we created\n",
    "lambda_xy = lambdify([x, y], f_x_y)\n",
    "lambd_x = lambdify([x, y], partial_f_x)\n",
    "lambd_y = lambdify([x, y], partial_f_y)\n",
    "    \n",
    "# z = f(x0,y0) + fx(x0,y0)(x-x0) + fy(x0,y0)(y-y0)\n",
    "print (lambd_y(8,16))\n"
   ]
  },
  {
   "cell_type": "markdown",
   "metadata": {},
   "source": [
    "You can see that we were given two solutions for (x, y) that maximize the area  with the given constraint. The first solution of (142.5, 142.5) seems to have a lower max area than our second solution. The second solution however uses negative values for x and y which are not possible when calculating the area of a rectangle. "
   ]
  },
  {
   "cell_type": "markdown",
   "metadata": {},
   "source": [
    "#6 + 96(x-8) - 24(y-16) \n"
   ]
  },
  {
   "cell_type": "code",
   "execution_count": 25,
   "metadata": {},
   "outputs": [
    {
     "name": "stdout",
     "output_type": "stream",
     "text": [
      "Partial Derivitive of our equation with respect to x: sqrt(x*y)/x\n",
      "Partial Derivitive of our equation with respect to y: sqrt(x*y)/y\n",
      "2.0\n"
     ]
    }
   ],
   "source": [
    "from sympy import symbols\n",
    "import sympy as sy\n",
    "\n",
    "x, y = symbols('x, y')\n",
    "f_x_y = 2 * sy.sqrt(x*y)\n",
    "\n",
    "partial_f_x = f_x_y.diff(x)  # Differentiate our equation with respect to x\n",
    "print(f\"Partial Derivitive of our equation with respect to x: {partial_f_x}\")\n",
    "\n",
    "partial_f_y = f_x_y.diff(y)  # Differentiate our equation with respect to y\n",
    "print(f\"Partial Derivitive of our equation with respect to y: {partial_f_y}\")\n",
    "\n",
    "    # Create callable functions for each of the derivitives we created\n",
    "lambda_xy = lambdify([x, y], f_x_y)\n",
    "lambd_x = lambdify([x, y], partial_f_x)\n",
    "lambd_y = lambdify([x, y], partial_f_y)\n",
    "    \n",
    "# z = f(x0,y0) + fx(x0,y0)(x-x0) + fy(x0,y0)(y-y0)\n",
    "print (lambd_x(2,8))"
   ]
  },
  {
   "cell_type": "code",
   "execution_count": 26,
   "metadata": {},
   "outputs": [
    {
     "data": {
      "text/plain": [
       "8.26"
      ]
     },
     "execution_count": 26,
     "metadata": {},
     "output_type": "execute_result"
    }
   ],
   "source": [
    "# 8 + 2(x-2) + 0.5(y-8)\n",
    "\n",
    "8 + 2*0.1 + 0.5*0.12"
   ]
  },
  {
   "cell_type": "code",
   "execution_count": 32,
   "metadata": {},
   "outputs": [
    {
     "name": "stdout",
     "output_type": "stream",
     "text": [
      "Partial Derivitive of our equation with respect to x: -16*x - 9*y + 5\n",
      "Partial Derivitive of our equation with respect to y: -9*x - 8*y + 2\n",
      "The x and y value for critical points are FiniteSet((22/47, -13/47))\n",
      "Analyzing critical point (22/47, -13/47)\n",
      "The discriminant of our critical value is 47\n",
      "This is relative maxima\n",
      "42/47\n"
     ]
    }
   ],
   "source": [
    "from sympy import symbols, S, nonlinsolve\n",
    "\n",
    "x, y = symbols('x, y', real=True)\n",
    "\n",
    "f_x_y = 5*x + 2*y - 8*x**2 - 4*y**2 -9*x*y \n",
    "partial_x = f_x_y.diff(x)\n",
    "partial_y = f_x_y.diff(y)\n",
    "\n",
    "print(f\"Partial Derivitive of our equation with respect to x: {partial_x}\")\n",
    "print(f\"Partial Derivitive of our equation with respect to y: {partial_y}\")\n",
    "\n",
    "# Get nonlinear solution and remove imaginary numbers\n",
    "results = nonlinsolve([partial_x, partial_y], [x, y])\n",
    "\n",
    "print(f\"The x and y value for critical points are {results}\")\n",
    "\n",
    "lambda_xy = lambdify([x, y], f_x_y)\n",
    "\n",
    "for result in list(results):\n",
    "    if result[0].is_real and result[1].is_real:  # Ignore any solutions that are not real numbers\n",
    "        print(f\"Analyzing critical point {result}\")\n",
    "        D(f_x_y, x, y, result[0], result[1]) \n",
    "        print ( lambda_xy(result[0], result[1]) )"
   ]
  },
  {
   "cell_type": "code",
   "execution_count": null,
   "metadata": {},
   "outputs": [],
   "source": []
  },
  {
   "cell_type": "code",
   "execution_count": 38,
   "metadata": {},
   "outputs": [
    {
     "name": "stdout",
     "output_type": "stream",
     "text": [
      "Max value of x is 4.74252440598675\n",
      "Max value of y is 8.89223326122516\n",
      "Max value of z is 4.74252440598675\n",
      "Max area is of (4.74252440598675, 8.89223326122516, 4.74252440598675) is 200.000000000000\n",
      "Max value of x is -2.37126220299338 - 4.10714661365223*I\n",
      "Max value of y is -4.44611663061258 - 7.70089990059793*I\n",
      "Max value of z is -2.37126220299338 - 4.10714661365223*I\n",
      "Max area is of (-2.37126220299338 - 4.10714661365223*I, -4.44611663061258 - 7.70089990059793*I, -2.37126220299338 - 4.10714661365223*I) is (-4.44611663061258 - 7.70089990059793*I)*(-2.37126220299338 - 4.10714661365223*I)**2\n",
      "Max value of x is -2.37126220299338 + 4.10714661365223*I\n",
      "Max value of y is -4.44611663061258 + 7.70089990059793*I\n",
      "Max value of z is -2.37126220299338 + 4.10714661365223*I\n",
      "Max area is of (-2.37126220299338 + 4.10714661365223*I, -4.44611663061258 + 7.70089990059793*I, -2.37126220299338 + 4.10714661365223*I) is (-4.44611663061258 + 7.70089990059793*I)*(-2.37126220299338 + 4.10714661365223*I)**2\n"
     ]
    }
   ],
   "source": [
    "from sympy import symbols, nonlinsolve, nsimplify, expand, powsimp\n",
    "\n",
    "# x = width, y = depth, z = height , base 8, frnt 11, 3 sides 4\n",
    "x, y, z, l = symbols('x, y, z, l', real=True)\n",
    "\n",
    "f_xyz = 8*x*y + 15*x*z + 8*y*z \n",
    "g_xyz = x * y * z - 200  # Constraint is equal to zero when subtracting right side\n",
    "\n",
    "# Implement lagrange function and solve system\n",
    "f_xyzl = f_xyz - l *g_xyz\n",
    "f_xyzl_x = f_xyzl.diff(x)\n",
    "f_xyzl_y = f_xyzl.diff(y)\n",
    "f_xyzl_z = f_xyzl.diff(z)\n",
    "f_xyzl_l = f_xyzl.diff(l)\n",
    "\n",
    "results = nonlinsolve([\n",
    "    f_xyzl_x,\n",
    "    f_xyzl_y,\n",
    "    f_xyzl_z,\n",
    "    f_xyzl_l,\n",
    "], [x, y, z, l])\n",
    "\n",
    "# Analyze each of the solutions\n",
    "for sol in list(results):\n",
    "    x_sol, y_sol, z_sol, l_sol = sol\n",
    "\n",
    "    x_sol = x_sol.evalf()  # Evaluate the value so we're not getting sqrt equation\n",
    "    y_sol = y_sol.evalf()\n",
    "    z_sol = z_sol.evalf()\n",
    "    print(f\"Max value of x is {x_sol}\")\n",
    "    print(f\"Max value of y is {y_sol}\")\n",
    "    print(f\"Max value of z is {z_sol}\")\n",
    "\n",
    "    #print(f\"Max area is of ({x_sol}, {y_sol}) is {x_sol * y_sol}\")\n",
    "    print(f\"Max area is of ({x_sol}, {y_sol}, {z_sol}) is {x_sol * y_sol * z_sol}\")\n",
    "    "
   ]
  },
  {
   "cell_type": "code",
   "execution_count": 45,
   "metadata": {},
   "outputs": [
    {
     "name": "stdout",
     "output_type": "stream",
     "text": [
      "Max value of x is 1416.66666666667\n",
      "Max value of y is 283.333333333333\n",
      "Max area is of (1416.66666666667, 283.333333333333) is 5058300.00000000\n",
      "5058301\n"
     ]
    }
   ],
   "source": [
    "from sympy import symbols, nonlinsolve, nsimplify, expand, powsimp\n",
    "\n",
    "x, y, l = symbols('x, y, l', real=True)\n",
    "\n",
    "f_xy = 2*x**2 + x*y + 8*y**2 + 800 \n",
    "g_xy = x + y - 1700  # Constraint is equal to zero when subtracting right side\n",
    "\n",
    "lambda_xy = lambdify([x, y], f_xy)\n",
    "\n",
    "# Implement lagrange function and solve system\n",
    "f_xyl = f_xy - l *g_xy\n",
    "f_xyl_x = f_xyl.diff(x)\n",
    "f_xyl_y = f_xyl.diff(y)\n",
    "f_xyl_l = f_xyl.diff(l)\n",
    "\n",
    "results = nonlinsolve([\n",
    "    f_xyl_x,\n",
    "    f_xyl_y,\n",
    "    f_xyl_l,\n",
    "], [x, y, l])\n",
    "\n",
    "# Analyze each of the solutions\n",
    "for sol in list(results):\n",
    "    x_sol, y_sol, l_sol = sol\n",
    "\n",
    "    x_sol = x_sol.evalf()  # Evaluate the value so we're not getting sqrt equation\n",
    "    y_sol = y_sol.evalf()\n",
    "    print(f\"Max value of x is {x_sol}\")\n",
    "    print(f\"Max value of y is {y_sol}\")\n",
    "\n",
    "    print(f\"Max area is of ({x_sol}, {y_sol}) is {lambda_xy(x_sol, y_sol)}\")\n",
    "\n",
    "print ( lambda_xy(1417, 283) )"
   ]
  },
  {
   "cell_type": "code",
   "execution_count": null,
   "metadata": {},
   "outputs": [],
   "source": []
  }
 ],
 "metadata": {
  "kernelspec": {
   "display_name": "Python 3",
   "language": "python",
   "name": "python3"
  },
  "language_info": {
   "codemirror_mode": {
    "name": "ipython",
    "version": 3
   },
   "file_extension": ".py",
   "mimetype": "text/x-python",
   "name": "python",
   "nbconvert_exporter": "python",
   "pygments_lexer": "ipython3",
   "version": "3.8.5"
  }
 },
 "nbformat": 4,
 "nbformat_minor": 4
}
