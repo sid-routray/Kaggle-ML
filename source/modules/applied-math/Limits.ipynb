{
 "cells": [
  {
   "cell_type": "markdown",
   "metadata": {},
   "source": [
    "# MSDS 400 Limits"
   ]
  },
  {
   "cell_type": "code",
   "execution_count": 1,
   "metadata": {},
   "outputs": [],
   "source": [
    "import numpy \n",
    "from numpy import sin, arange\n",
    "import matplotlib.pyplot \n",
    "from matplotlib.pyplot import *"
   ]
  },
  {
   "cell_type": "markdown",
   "metadata": {},
   "source": [
    "Students can substitute their own functions to observe convergence\n",
    "to limiting values."
   ]
  },
  {
   "cell_type": "code",
   "execution_count": 4,
   "metadata": {},
   "outputs": [],
   "source": [
    "def g(x):\n",
    "    g = (sin(x))  #This is where a student's function can be substituted.\n",
    "    return g"
   ]
  },
  {
   "cell_type": "markdown",
   "metadata": {},
   "source": [
    "An example will be used to show right and left convergence to a value. Convergence at x = 0 will be shown graphically using g(x)."
   ]
  },
  {
   "cell_type": "code",
   "execution_count": 14,
   "metadata": {},
   "outputs": [
    {
     "data": {
      "text/plain": [
       "array([ 1.,  2.,  4.,  8., 16., 32.])"
      ]
     },
     "execution_count": 14,
     "metadata": {},
     "output_type": "execute_result"
    }
   ],
   "source": [
    "n=5  # This determines the number of values calculated on each side of x=0.\n",
    "powers=arange(0,n+1)\n",
    "denominator=2.0**powers  # denominator contains exponentiated values of 2.0. \n",
    "delta=2.0  #This is the interval used on either side of the origin.\n",
    "\n",
    "denominator"
   ]
  },
  {
   "cell_type": "markdown",
   "metadata": {},
   "source": [
    "The following are values of x and f(x) trending to the limit.\n",
    "Delta is being divided by powers of 2 to reduce the distance from the limit.\n",
    "The letter \"r\" denotes from the right, and \"l\" denotes from the left."
   ]
  },
  {
   "cell_type": "code",
   "execution_count": 16,
   "metadata": {},
   "outputs": [
    {
     "data": {
      "text/plain": [
       "array([-2.    , -1.    , -0.5   , -0.25  , -0.125 , -0.0625])"
      ]
     },
     "execution_count": 16,
     "metadata": {},
     "output_type": "execute_result"
    }
   ],
   "source": [
    "x_r=delta/denominator\n",
    "y_r=g(x_r) \n",
    "x_l=-x_r   # The negative sign generates a symmetric point on the left.\n",
    "y_l=g(x_l)\n",
    "x_l"
   ]
  },
  {
   "cell_type": "markdown",
   "metadata": {},
   "source": [
    "The following determines the vertical boundaries of the resulting plot. Plotting is being done in layers.  First the line plot then the points."
   ]
  },
  {
   "cell_type": "code",
   "execution_count": 7,
   "metadata": {},
   "outputs": [
    {
     "data": {
      "image/png": "[encoded data removed]",
      "text/plain": [
       "<Figure size 432x288 with 1 Axes>"
      ]
     },
     "metadata": {
      "needs_background": "light"
     },
     "output_type": "display_data"
    }
   ],
   "source": [
    "ymax=max(abs(y_r))+0.5\n",
    "ymin=-ymax\n",
    "figure()\n",
    "xlim(-delta-0.5,delta+0.5)\n",
    "ylim(ymin,ymax)\n",
    "plot(x_r,y_r, color='b')\n",
    "plot(x_l,y_l,color='r')\n",
    "\n",
    "# The black points were computed.  The yellow point marks the limit.\n",
    "scatter(x_r,y_r,color='k',s=30)\n",
    "scatter(x_l,y_l,color='k',s=30)\n",
    "scatter(0.0,g(0.0),c='y',s=40)\n",
    "title ('Example of Convergence to a Functional Value')\n",
    "xlabel('x-axis')\n",
    "ylabel('y-axis')\n",
    "show()"
   ]
  },
  {
   "cell_type": "markdown",
   "metadata": {},
   "source": [
    "Define a different function then find the limit:\n",
    "\n",
    "$\\lim_{x \\to\\infty}\\frac{8x + 6}{3x - 1}$"
   ]
  },
  {
   "cell_type": "code",
   "execution_count": 9,
   "metadata": {},
   "outputs": [],
   "source": [
    "def f(x):\n",
    "    f = (8.0*x)/(3*x-1)\n",
    "    return f"
   ]
  },
  {
   "cell_type": "markdown",
   "metadata": {},
   "source": [
    "The next section shows convergence to a limit at infinity.\n",
    "The coding shows list manipulations resulting in a plot.\n",
    "For simplicity, equal intervals between calculated points will be used."
   ]
  },
  {
   "cell_type": "code",
   "execution_count": 10,
   "metadata": {},
   "outputs": [],
   "source": [
    "number = 210  # This is the number of points calculated (minus the increment).\n",
    "increment =10  # This is the increment between the points.\n",
    " \n",
    "y = []\n",
    "x = []"
   ]
  },
  {
   "cell_type": "markdown",
   "metadata": {},
   "source": [
    "The for loop traverses between 10 and 200 in increments of 10.  \n",
    "A range statement is inclusive of the first number and exclusive of the last."
   ]
  },
  {
   "cell_type": "code",
   "execution_count": 11,
   "metadata": {},
   "outputs": [
    {
     "name": "stdout",
     "output_type": "stream",
     "text": [
      "Final value equals 2.671118530884808\n"
     ]
    }
   ],
   "source": [
    "for k in range(increment, number, increment):\n",
    "    w=float(k)\n",
    "    x = x + [k]\n",
    "    y = y + [f(w)]\n",
    "    \n",
    "print ('Final value equals' , y[-1])  #Floating point with 4 decimals."
   ]
  },
  {
   "cell_type": "code",
   "execution_count": 12,
   "metadata": {},
   "outputs": [
    {
     "data": {
      "image/png": "[encoded data removed]",
      "text/plain": [
       "<Figure size 432x288 with 1 Axes>"
      ]
     },
     "metadata": {
      "needs_background": "light"
     },
     "output_type": "display_data"
    }
   ],
   "source": [
    "figure()\n",
    "xlim(0,number+increment)\n",
    "ylim(min(y)-0.1, max(y)+0.1)\n",
    "plot(x,y, color='r')\n",
    "scatter(x,y,color='k',s=30)\n",
    "scatter(number,y[-1],c='y',s=40)\n",
    "title ('Example of Convergence to a Limit at Infinity')\n",
    "xlabel('x-axis')\n",
    "ylabel('y-axis')\n",
    "show()  # Plot shows convergence to limit at infinity "
   ]
  },
  {
   "cell_type": "code",
   "execution_count": null,
   "metadata": {},
   "outputs": [],
   "source": []
  }
 ],
 "metadata": {
  "kernelspec": {
   "display_name": "Python 3",
   "language": "python",
   "name": "python3"
  },
  "language_info": {
   "codemirror_mode": {
    "name": "ipython",
    "version": 3
   },
   "file_extension": ".py",
   "mimetype": "text/x-python",
   "name": "python",
   "nbconvert_exporter": "python",
   "pygments_lexer": "ipython3",
   "version": "3.8.5"
  },
  "varInspector": {
   "cols": {
    "lenName": 16,
    "lenType": 16,
    "lenVar": 40
   },
   "kernels_config": {
    "python": {
     "delete_cmd_postfix": "",
     "delete_cmd_prefix": "del ",
     "library": "var_list.py",
     "varRefreshCmd": "print(var_dic_list())"
    },
    "r": {
     "delete_cmd_postfix": ") ",
     "delete_cmd_prefix": "rm(",
     "library": "var_list.r",
     "varRefreshCmd": "cat(var_dic_list()) "
    }
   },
   "types_to_exclude": [
    "module",
    "function",
    "builtin_function_or_method",
    "instance",
    "_Feature"
   ],
   "window_display": false
  }
 },
 "nbformat": 4,
 "nbformat_minor": 4
}
