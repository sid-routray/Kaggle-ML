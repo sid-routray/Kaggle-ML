{
 "cells": [
  {
   "cell_type": "markdown",
   "metadata": {},
   "source": [
    "# MSDS 400 Rates of Change"
   ]
  },
  {
   "cell_type": "code",
   "execution_count": 19,
   "metadata": {},
   "outputs": [],
   "source": [
    "import numpy \n",
    "from numpy import arange, cos\n",
    "import matplotlib.pyplot \n",
    "from matplotlib.pyplot import *"
   ]
  },
  {
   "cell_type": "markdown",
   "metadata": {},
   "source": [
    "A general function for calculating the slope between two points: x and x + delta."
   ]
  },
  {
   "cell_type": "code",
   "execution_count": 20,
   "metadata": {},
   "outputs": [],
   "source": [
    "def der(x, delta):\n",
    "    delta = float(delta)\n",
    "    if delta < 0.0000001:\n",
    "        print('Value chosen for delta is too small.')\n",
    "        return 1 / delta\n",
    "    else:\n",
    "        slope = (f(x + delta) - f(x)) / delta \n",
    "        return slope"
   ]
  },
  {
   "cell_type": "markdown",
   "metadata": {},
   "source": [
    "Define a function for demonstration.  This function may be changed."
   ]
  },
  {
   "cell_type": "code",
   "execution_count": 21,
   "metadata": {},
   "outputs": [],
   "source": [
    "def f(x):\n",
    "    f = cos(x)    \n",
    "    return f\n",
    "\n",
    "# The following statements initialize variables for computation.\n",
    "point = 1.0  #This is a point at which a derivative will be calculated.\n",
    "number = 510\n",
    "increment =10\n",
    "y = []\n",
    "x = []"
   ]
  },
  {
   "cell_type": "markdown",
   "metadata": {},
   "source": [
    "What follows shows calculations and list manipulations. Recall that a range statement is inclusive of the first number and exclusive of the last. In this example we are incrementing by units of 10 from 1 to 500. We are reducing the distance between x = 1.0 and x = 1.0 + delta by reducing delta. The slopes being calculated are stored in the list y."
   ]
  },
  {
   "cell_type": "code",
   "execution_count": 22,
   "metadata": {},
   "outputs": [
    {
     "name": "stdout",
     "output_type": "stream",
     "text": [
      "Final value equals\n"
     ]
    },
    {
     "data": {
      "text/plain": [
       "-0.8414712548976411"
      ]
     },
     "execution_count": 22,
     "metadata": {},
     "output_type": "execute_result"
    }
   ],
   "source": [
    "for k in range(increment, number, increment):\n",
    "    delta = 1.0/(k+1)\n",
    "    d = der(point,delta)\n",
    "    x = x + [k]\n",
    "    y = y + [d]\n",
    "    max_x = k + increment\n",
    "\n",
    "limit=der(point,0.000001)    \n",
    "print ('Final value equals')\n",
    "limit"
   ]
  },
  {
   "cell_type": "markdown",
   "metadata": {},
   "source": [
    "The plot shows convergence of the slopes to the instantaneous rate of change. \n",
    "Black dots mark computed slopes as delta was reduced.  The x-axis is plotted\n",
    "using values of k from the range statement in the for loop."
   ]
  },
  {
   "cell_type": "code",
   "execution_count": 23,
   "metadata": {},
   "outputs": [
    {
     "data": {
      "image/png": "[encoded data removed]",
      "text/plain": [
       "<Figure size 432x288 with 1 Axes>"
      ]
     },
     "metadata": {
      "needs_background": "light"
     },
     "output_type": "display_data"
    }
   ],
   "source": [
    "figure()\n",
    "xlim(0, max_x+50 )\n",
    "ylim(min(y)-0.05, max(y)+0.05)\n",
    "\n",
    "scatter(540,limit,color='g',s=40,label='limiting slope')\n",
    "legend(('limiting slope'),loc='best')\n",
    "scatter(x,y,c='k',s=20)\n",
    "\n",
    "title ('Example of Convergence to Instanteous Rate of Change')\n",
    "xlabel('x-axis')\n",
    "ylabel('y-axis')\n",
    "ylabel('y-axis')\n",
    "plot(x,y)\n",
    "show()"
   ]
  },
  {
   "cell_type": "markdown",
   "metadata": {},
   "source": [
    "The next section will show the tangent line at the point x = 1.0. We are using the equation for a straight line y=mx+b where the slope is y[-1] from above and the point given above is x = 1.0. We are only going to plot this tangent line over a limited distance given by w defined below."
   ]
  },
  {
   "cell_type": "code",
   "execution_count": 24,
   "metadata": {},
   "outputs": [],
   "source": [
    "# Calculate values for the tangent.\n",
    "w=arange(point-1.0,point+1.1,0.1)\n",
    "t=f(point)+limit*(w-point)\n",
    "\n",
    "# Now we are going to plot the original function over a wider range.\n",
    "# Define a domain for the function.\n",
    "domain=3.14\n",
    "\n",
    "# Calculate values for the function on both sides of x=1.0.\n",
    "u=arange(point-domain,point+domain+0.1,0.1)\n",
    "z=f(u)"
   ]
  },
  {
   "cell_type": "markdown",
   "metadata": {},
   "source": [
    "This allows us to plot in layers showing the tangent and the function.\n",
    "The scatter command allows a single point to be plotted."
   ]
  },
  {
   "cell_type": "code",
   "execution_count": 25,
   "metadata": {},
   "outputs": [
    {
     "data": {
      "image/png": "[encoded data removed]",
      "text/plain": [
       "<Figure size 432x288 with 1 Axes>"
      ]
     },
     "metadata": {
      "needs_background": "light"
     },
     "output_type": "display_data"
    }
   ],
   "source": [
    "figure()\n",
    "xlim(point-domain-.1,point+domain+0.1)\n",
    "ylim(max(z)+.5,min(z)-.5)\n",
    "\n",
    "plot(w,t,c='r')  # This plots the tangent line.\n",
    "plot(u,z,c='b')  # This plots the curve itself.\n",
    "scatter(point,f(point),c='g',s=40)  # This is the point of contact.\n",
    "xlabel('x-axis')\n",
    "ylabel('y-axis')\n",
    "title('Plot showing function and tangent at a point')\n",
    "show()"
   ]
  },
  {
   "cell_type": "code",
   "execution_count": 18,
   "metadata": {},
   "outputs": [
    {
     "ename": "TypeError",
     "evalue": "can't multiply sequence by non-int of type 'list'",
     "output_type": "error",
     "traceback": [
      "\u001b[0;31m---------------------------------------------------------------------------\u001b[0m",
      "\u001b[0;31mTypeError\u001b[0m                                 Traceback (most recent call last)",
      "\u001b[0;32m<ipython-input-18-45ee7ad53879>\u001b[0m in \u001b[0;36m<module>\u001b[0;34m\u001b[0m\n\u001b[1;32m     10\u001b[0m \u001b[0;31m#y1= -(4/3)*x_vals + 84\u001b[0m\u001b[0;34m\u001b[0m\u001b[0;34m\u001b[0m\u001b[0;34m\u001b[0m\u001b[0m\n\u001b[1;32m     11\u001b[0m \u001b[0;31m#y1= abs(x_vals)\u001b[0m\u001b[0;34m\u001b[0m\u001b[0;34m\u001b[0m\u001b[0;34m\u001b[0m\u001b[0m\n\u001b[0;32m---> 12\u001b[0;31m \u001b[0my1\u001b[0m \u001b[0;34m=\u001b[0m \u001b[0mx\u001b[0m\u001b[0;34m*\u001b[0m\u001b[0mx\u001b[0m\u001b[0;34m\u001b[0m\u001b[0;34m\u001b[0m\u001b[0m\n\u001b[0m\u001b[1;32m     13\u001b[0m \u001b[0;34m\u001b[0m\u001b[0m\n\u001b[1;32m     14\u001b[0m \u001b[0;34m\u001b[0m\u001b[0m\n",
      "\u001b[0;31mTypeError\u001b[0m: can't multiply sequence by non-int of type 'list'"
     ]
    }
   ],
   "source": [
    "import sympy as sym\n",
    "import matplotlib.pyplot as plt\n",
    "from matplotlib.pyplot import *\n",
    "import numpy \n",
    "from numpy import arange\n",
    "from mpl_toolkits import mplot3d\n",
    "\n",
    "\n",
    "x_vals = np.arange(-100, 100)\n",
    "#y1= -(4/3)*x_vals + 84\n",
    "#y1= abs(x_vals) \n",
    "y1 = \n",
    "\n",
    "\n",
    "figure()\n",
    "xlim(-1-100,100)\n",
    "ylim(-100,100)\n",
    "hlines(0,0,100,color='black')\n",
    "vlines(0,0,100,color='black')\n",
    "plt.title ('Team sizes Analysis')\n",
    "plt.grid()\n",
    "\n",
    "plt.plot(x_vals, y1, 'r')\n",
    "plt.show()"
   ]
  },
  {
   "cell_type": "code",
   "execution_count": null,
   "metadata": {},
   "outputs": [],
   "source": []
  },
  {
   "cell_type": "code",
   "execution_count": null,
   "metadata": {},
   "outputs": [],
   "source": []
  }
 ],
 "metadata": {
  "kernelspec": {
   "display_name": "Python 3",
   "language": "python",
   "name": "python3"
  },
  "language_info": {
   "codemirror_mode": {
    "name": "ipython",
    "version": 3
   },
   "file_extension": ".py",
   "mimetype": "text/x-python",
   "name": "python",
   "nbconvert_exporter": "python",
   "pygments_lexer": "ipython3",
   "version": "3.8.5"
  },
  "varInspector": {
   "cols": {
    "lenName": 16,
    "lenType": 16,
    "lenVar": 40
   },
   "kernels_config": {
    "python": {
     "delete_cmd_postfix": "",
     "delete_cmd_prefix": "del ",
     "library": "var_list.py",
     "varRefreshCmd": "print(var_dic_list())"
    },
    "r": {
     "delete_cmd_postfix": ") ",
     "delete_cmd_prefix": "rm(",
     "library": "var_list.r",
     "varRefreshCmd": "cat(var_dic_list()) "
    }
   },
   "types_to_exclude": [
    "module",
    "function",
    "builtin_function_or_method",
    "instance",
    "_Feature"
   ],
   "window_display": false
  }
 },
 "nbformat": 4,
 "nbformat_minor": 4
}
