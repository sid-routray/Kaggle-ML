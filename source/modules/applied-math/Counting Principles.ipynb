{
 "cells": [
  {
   "cell_type": "markdown",
   "metadata": {},
   "source": [
    "# MSDS 400 Counting Principles\n",
    "\n",
    "The following is an example creates three functions used in counting principles."
   ]
  },
  {
   "cell_type": "code",
   "execution_count": 1,
   "metadata": {},
   "outputs": [],
   "source": [
    "def factorial(n):\n",
    "    if n == 0:\n",
    "        return 1\n",
    "    else:\n",
    "        recurse = factorial(n - 1)\n",
    "        result = n * recurse\n",
    "        return result\n",
    "\n",
    "\n",
    "def perm(n, k):\n",
    "    if n == 0:\n",
    "        return 1\n",
    "    if k > n:\n",
    "        return -1\n",
    "    else:\n",
    "        return (factorial(n)) / factorial(n - k)\n",
    "\n",
    "\n",
    "def comb(n, k):\n",
    "    result = perm(n, k)\n",
    "    result = result / factorial(k)\n",
    "    result = int(result)\n",
    "    return result"
   ]
  },
  {
   "cell_type": "markdown",
   "metadata": {},
   "source": [
    "Blewo you are prompted to enter an integer when you run the cell.\n",
    "\n",
    "Enter a positive integer to obtain the factorial value.<br>\n",
    "Enter a negative integer to stop.<br>\n",
    "In either case, hit enter or the code will not work.\n",
    "\n",
    "The statement `input()` accepts keyboard input and produces a string which must be converted to a numeric variable for further calculations."
   ]
  },
  {
   "cell_type": "code",
   "execution_count": 2,
   "metadata": {},
   "outputs": [
    {
     "name": "stdin",
     "output_type": "stream",
     "text": [
      "What number should we get the factorial for? 8\n"
     ]
    },
    {
     "name": "stdout",
     "output_type": "stream",
     "text": [
      "Factorial of 8 is equal to 40320\n"
     ]
    }
   ],
   "source": [
    "inp1 = input(\"What number should we get the factorial for?\")\n",
    "int_inp1 = int(inp1)\n",
    "\n",
    "if int_inp1 > 0:\n",
    "    fact_of_inp = factorial(int_inp1)\n",
    "    print('Factorial of {} is equal to {}'.format(int_inp1, fact_of_inp))\n",
    "else:\n",
    "    print('No calculation.')"
   ]
  },
  {
   "cell_type": "code",
   "execution_count": 4,
   "metadata": {},
   "outputs": [
    {
     "name": "stdout",
     "output_type": "stream",
     "text": [
      "Permutation of 10 elements taken 5 at a time =30240.0\n",
      "Combination of 10 elements taken 5 at a time = 252\n"
     ]
    }
   ],
   "source": [
    "# Example calculations follow.\n",
    "permutation = perm(10, 5)\n",
    "print('Permutation of 10 elements taken 5 at a time ={}'.format(permutation))\n",
    "\n",
    "combination = comb(10, 5)\n",
    "print('Combination of 10 elements taken 5 at a time = {}'.format(combination))"
   ]
  },
  {
   "cell_type": "markdown",
   "metadata": {},
   "source": [
    "In the code which follows, note the type conversions from string to integer, integer to floating point and back.\\\n",
    "\n",
    "In each instance, hit enter after submitting the requested number. Enter a positive integer for the number of repeated trials."
   ]
  },
  {
   "cell_type": "code",
   "execution_count": 6,
   "metadata": {},
   "outputs": [
    {
     "name": "stdin",
     "output_type": "stream",
     "text": [
      "Number of Trials: 20\n",
      "Number of Successes: 15\n",
      "Probability of Success: 0.5\n"
     ]
    },
    {
     "name": "stdout",
     "output_type": "stream",
     "text": [
      "Binomial probability with n = 20, k= 15, p= 0.5 is 0.0147857666015625\n",
      "\n"
     ]
    }
   ],
   "source": [
    "inp = input(\"Number of Trials:\")\n",
    "int_inp = int(inp)  # This converts n from a string to an integer.\n",
    "\n",
    "success = input(\"Number of Successes:\")\n",
    "int_success_int = int(success)\n",
    "\n",
    "prob_of_s = input(\"Probability of Success:\")\n",
    "int_prob_of_s = float(prob_of_s)  # This converts p from a string to a floating point number.\n",
    "\n",
    "prob = (comb(int_inp, int_success_int)) *\\\n",
    "       (int_prob_of_s ** int_success_int) * \\\n",
    "       ((1.0 - int_prob_of_s) ** (int_inp - int_success_int))\n",
    "print('Binomial probability with n = {}, k= {}, p= {} is {}\\n'.format(int_inp, int_success_int, int_prob_of_s, prob))"
   ]
  },
  {
   "cell_type": "markdown",
   "metadata": {},
   "source": [
    "The following example shows how to calculate a binomial distribution\n",
    "and print the result.  First a binomial function will be defined.  The\n",
    "values previously entered for the number of repeated trials, the\n",
    "number of successes and the probability of success will be used."
   ]
  },
  {
   "cell_type": "code",
   "execution_count": 7,
   "metadata": {},
   "outputs": [
    {
     "name": "stdout",
     "output_type": "stream",
     "text": [
      "Binomial distribution with 20 trials and p=0.5 follows\n",
      "# of successes = 0 probability = 0.00\n",
      "# of successes = 1 probability = 0.00\n",
      "# of successes = 2 probability = 0.00\n",
      "# of successes = 3 probability = 0.00\n",
      "# of successes = 4 probability = 0.00\n",
      "# of successes = 5 probability = 0.01\n",
      "# of successes = 6 probability = 0.04\n",
      "# of successes = 7 probability = 0.07\n",
      "# of successes = 8 probability = 0.12\n",
      "# of successes = 9 probability = 0.16\n",
      "# of successes = 10 probability = 0.18\n",
      "# of successes = 11 probability = 0.16\n",
      "# of successes = 12 probability = 0.12\n",
      "# of successes = 13 probability = 0.07\n",
      "# of successes = 14 probability = 0.04\n",
      "# of successes = 15 probability = 0.01\n",
      "# of successes = 16 probability = 0.00\n",
      "# of successes = 17 probability = 0.00\n",
      "# of successes = 18 probability = 0.00\n",
      "# of successes = 19 probability = 0.00\n",
      "# of successes = 20 probability = 0.00\n"
     ]
    }
   ],
   "source": [
    "def binomial(n, k, p):\n",
    "    return (comb(n, k)) * (p ** k) * ((1.0 - p) ** (n - k))\n",
    "\n",
    "\n",
    "print('Binomial distribution with {} trials and p={} follows'.format(int_inp, int_prob_of_s))\n",
    "distribution = []\n",
    "for i in range(0, int_inp + 1):\n",
    "    prob = binomial(int_inp, i, int_prob_of_s)\n",
    "    print('# of successes = {} probability = {:2.2f}'.format(i, prob))\n",
    "    distribution = distribution + [prob]\n",
    "\n",
    "x = range(0, int_inp + 1, 1)  # x and y are both lists with the same number of elements.\n",
    "y = distribution"
   ]
  },
  {
   "cell_type": "markdown",
   "metadata": {},
   "source": [
    "The plot is produced in layers.  bar() places the red bars of width 0.4\n",
    "centered on x values. The heigth is determined by y.  The plot()\n",
    "statement places the line plot on the chart.  With only one show()\n",
    "statement, the figure() statement is unnecessary."
   ]
  },
  {
   "cell_type": "code",
   "execution_count": 8,
   "metadata": {},
   "outputs": [
    {
     "data": {
      "image/png": "[encoded data removed]",
      "text/plain": [
       "<Figure size 432x288 with 1 Axes>"
      ]
     },
     "metadata": {
      "needs_background": "light"
     },
     "output_type": "display_data"
    }
   ],
   "source": [
    "import matplotlib.pyplot as plt\n",
    "plt.figure()\n",
    "plt.bar(x, y, width=0.4, align='center', color='r')\n",
    "plt.plot(x, y)\n",
    "plt.xlabel('Total Number of Trials')\n",
    "plt.ylabel('Probability of Success')\n",
    "plt.title('Binomial Probabilities ')\n",
    "plt.show()"
   ]
  },
  {
   "cell_type": "code",
   "execution_count": 11,
   "metadata": {},
   "outputs": [
    {
     "data": {
      "text/plain": [
       "0.42168674698795183"
      ]
     },
     "execution_count": 11,
     "metadata": {},
     "output_type": "execute_result"
    }
   ],
   "source": [
    "35/83"
   ]
  },
  {
   "cell_type": "code",
   "execution_count": 14,
   "metadata": {},
   "outputs": [
    {
     "name": "stdout",
     "output_type": "stream",
     "text": [
      "Binomial distribution with 5 trials and p=0.2 follows\n",
      "# of successes = 0 probability = 0.33\n",
      "# of successes = 1 probability = 0.41\n",
      "# of successes = 2 probability = 0.20\n",
      "# of successes = 3 probability = 0.05\n",
      "# of successes = 4 probability = 0.01\n",
      "# of successes = 5 probability = 0.00\n",
      "Total P : 1.0000000000000002\n"
     ]
    }
   ],
   "source": [
    "def binomial(n, k, p):\n",
    "    return (comb(n, k)) * (p ** k) * ((1.0 - p) ** (n - k))\n",
    "\n",
    "int_inp = 5\n",
    "int_prob_of_s = 0.2\n",
    "\n",
    "print('Binomial distribution with {} trials and p={} follows'.format(int_inp, int_prob_of_s))\n",
    "distribution = []\n",
    "total_p = 0\n",
    "for i in range(0, int_inp + 1):\n",
    "    prob = binomial(int_inp, i, int_prob_of_s)\n",
    "    print('# of successes = {} probability = {:2.2f}'.format(i, prob))\n",
    "    distribution = distribution + [prob]\n",
    "    total_p = total_p + prob\n",
    "\n",
    "print ('Total P :', total_p)\n"
   ]
  },
  {
   "cell_type": "code",
   "execution_count": 22,
   "metadata": {},
   "outputs": [
    {
     "data": {
      "text/plain": [
       "0.11764705882352941"
      ]
     },
     "execution_count": 22,
     "metadata": {},
     "output_type": "execute_result"
    }
   ],
   "source": [
    "2/17"
   ]
  },
  {
   "cell_type": "code",
   "execution_count": 23,
   "metadata": {},
   "outputs": [
    {
     "data": {
      "text/plain": [
       "0.0027700831024930744"
      ]
     },
     "execution_count": 23,
     "metadata": {},
     "output_type": "execute_result"
    }
   ],
   "source": [
    "(1/19) * (1/19)"
   ]
  },
  {
   "cell_type": "code",
   "execution_count": 24,
   "metadata": {},
   "outputs": [
    {
     "data": {
      "text/plain": [
       "0.77"
      ]
     },
     "execution_count": 24,
     "metadata": {},
     "output_type": "execute_result"
    }
   ],
   "source": [
    "1 - 0.23"
   ]
  },
  {
   "cell_type": "code",
   "execution_count": 34,
   "metadata": {},
   "outputs": [
    {
     "data": {
      "text/plain": [
       "0.0225"
      ]
     },
     "execution_count": 34,
     "metadata": {},
     "output_type": "execute_result"
    }
   ],
   "source": [
    "(0.15)**2"
   ]
  },
  {
   "cell_type": "code",
   "execution_count": 31,
   "metadata": {},
   "outputs": [
    {
     "data": {
      "text/plain": [
       "0.72"
      ]
     },
     "execution_count": 31,
     "metadata": {},
     "output_type": "execute_result"
    }
   ],
   "source": [
    "(0.12)*6"
   ]
  },
  {
   "cell_type": "markdown",
   "metadata": {},
   "source": [
    "# (0.85)**5"
   ]
  },
  {
   "cell_type": "code",
   "execution_count": 36,
   "metadata": {},
   "outputs": [
    {
     "data": {
      "text/plain": [
       "0.44370531249999995"
      ]
     },
     "execution_count": 36,
     "metadata": {},
     "output_type": "execute_result"
    }
   ],
   "source": [
    "(0.85)**5"
   ]
  },
  {
   "cell_type": "code",
   "execution_count": 37,
   "metadata": {},
   "outputs": [
    {
     "data": {
      "text/plain": [
       "0.5562946875000001"
      ]
     },
     "execution_count": 37,
     "metadata": {},
     "output_type": "execute_result"
    }
   ],
   "source": [
    "1 - (0.85)**5 "
   ]
  },
  {
   "cell_type": "code",
   "execution_count": 38,
   "metadata": {},
   "outputs": [
    {
     "data": {
      "text/plain": [
       "0.14444444444444443"
      ]
     },
     "execution_count": 38,
     "metadata": {},
     "output_type": "execute_result"
    }
   ],
   "source": [
    "(26/60) * (20/60)"
   ]
  },
  {
   "cell_type": "code",
   "execution_count": 39,
   "metadata": {},
   "outputs": [
    {
     "data": {
      "text/plain": [
       "0.35"
      ]
     },
     "execution_count": 39,
     "metadata": {},
     "output_type": "execute_result"
    }
   ],
   "source": [
    "7/20"
   ]
  },
  {
   "cell_type": "code",
   "execution_count": 41,
   "metadata": {},
   "outputs": [
    {
     "data": {
      "text/plain": [
       "0.031111111111111107"
      ]
     },
     "execution_count": 41,
     "metadata": {},
     "output_type": "execute_result"
    }
   ],
   "source": [
    "(2/27) * 0.42"
   ]
  },
  {
   "cell_type": "code",
   "execution_count": 45,
   "metadata": {},
   "outputs": [
    {
     "data": {
      "text/plain": [
       "0.031111111111111107"
      ]
     },
     "execution_count": 45,
     "metadata": {},
     "output_type": "execute_result"
    }
   ],
   "source": [
    "0.42 * (2/27)"
   ]
  },
  {
   "cell_type": "code",
   "execution_count": 46,
   "metadata": {},
   "outputs": [
    {
     "data": {
      "text/plain": [
       "7.501607717041801"
      ]
     },
     "execution_count": 46,
     "metadata": {},
     "output_type": "execute_result"
    }
   ],
   "source": [
    "0.2333/0.0311"
   ]
  },
  {
   "cell_type": "code",
   "execution_count": 49,
   "metadata": {},
   "outputs": [
    {
     "data": {
      "text/plain": [
       "0.07407407407407407"
      ]
     },
     "execution_count": 49,
     "metadata": {},
     "output_type": "execute_result"
    }
   ],
   "source": [
    "2/27"
   ]
  },
  {
   "cell_type": "code",
   "execution_count": 50,
   "metadata": {},
   "outputs": [
    {
     "data": {
      "text/plain": [
       "0.30851063829787234"
      ]
     },
     "execution_count": 50,
     "metadata": {},
     "output_type": "execute_result"
    }
   ],
   "source": [
    "29/94"
   ]
  },
  {
   "cell_type": "code",
   "execution_count": 54,
   "metadata": {},
   "outputs": [
    {
     "data": {
      "text/plain": [
       "0.9858860428646106"
      ]
     },
     "execution_count": 54,
     "metadata": {},
     "output_type": "execute_result"
    }
   ],
   "source": [
    "# P(A|B) = P(A)*P(B|A)/( P(A)*P(B|A) + P(A`)*P(B|A`) )\n",
    "# A = Has covid-19, P(A) = 0.82\n",
    "# B = Tests positive, P(B) = 0.765\n",
    "\n",
    "(0.82*0.92)/( 0.82*0.92 + 0.18*.06 )\n"
   ]
  },
  {
   "cell_type": "code",
   "execution_count": 55,
   "metadata": {},
   "outputs": [
    {
     "data": {
      "text/plain": [
       "0.2796610169491525"
      ]
     },
     "execution_count": 55,
     "metadata": {},
     "output_type": "execute_result"
    }
   ],
   "source": [
    "# P(A|B) = P(A)*P(B|A)/( P(A)*P(B|A) + P(A`)*P(B|A`) )\n",
    "# A = Wearing a seatbelt, P(A) = 0.66\n",
    "# B = Ejected, P(B) \n",
    "\n",
    "(0.66*0.1)/( 0.66*0.1 + 0.34*.5 )"
   ]
  },
  {
   "cell_type": "code",
   "execution_count": 56,
   "metadata": {},
   "outputs": [
    {
     "data": {
      "text/plain": [
       "0.2225130890052356"
      ]
     },
     "execution_count": 56,
     "metadata": {},
     "output_type": "execute_result"
    }
   ],
   "source": [
    "# P(A|B) = P(A)*P(B|A)/( P(A)*P(B|A) + P(A`)*P(B|A`) )\n",
    "# A = Not Wearing a seatbelt, P(A) = 0.34\n",
    "# B = Not Ejected, P(B) \n",
    "\n",
    "(0.34*0.5)/( 0.34*0.5 + 0.66*.9 )"
   ]
  },
  {
   "cell_type": "code",
   "execution_count": 57,
   "metadata": {},
   "outputs": [
    {
     "data": {
      "text/plain": [
       "67600000"
      ]
     },
     "execution_count": 57,
     "metadata": {},
     "output_type": "execute_result"
    }
   ],
   "source": [
    "10 * 26 * 26 * 10 * 10 * 10 * 10 "
   ]
  },
  {
   "cell_type": "code",
   "execution_count": 58,
   "metadata": {},
   "outputs": [
    {
     "name": "stdout",
     "output_type": "stream",
     "text": [
      "Permutation of 10 elements taken 5 at a time =8204716800.0\n",
      "Combination of 10 elements taken 5 at a time = 203490\n"
     ]
    }
   ],
   "source": [
    "permutation = perm(21, 8)\n",
    "print('Permutation of 10 elements taken 5 at a time ={}'.format(permutation))\n",
    "\n",
    "combination = comb(21, 8)\n",
    "print('Combination of 10 elements taken 5 at a time = {}'.format(combination))"
   ]
  },
  {
   "cell_type": "code",
   "execution_count": 59,
   "metadata": {},
   "outputs": [
    {
     "data": {
      "text/plain": [
       "2.48015873015873e-05"
      ]
     },
     "execution_count": 59,
     "metadata": {},
     "output_type": "execute_result"
    }
   ],
   "source": [
    "203490/8204716800.0"
   ]
  },
  {
   "cell_type": "code",
   "execution_count": 62,
   "metadata": {},
   "outputs": [
    {
     "data": {
      "text/plain": [
       "0.0001984126984126984"
      ]
     },
     "execution_count": 62,
     "metadata": {},
     "output_type": "execute_result"
    }
   ],
   "source": [
    "1/factorial(7)"
   ]
  },
  {
   "cell_type": "code",
   "execution_count": 109,
   "metadata": {},
   "outputs": [
    {
     "data": {
      "text/plain": [
       "3679075400"
      ]
     },
     "execution_count": 109,
     "metadata": {},
     "output_type": "execute_result"
    }
   ],
   "source": [
    "comb(52, 9)"
   ]
  },
  {
   "cell_type": "code",
   "execution_count": 87,
   "metadata": {},
   "outputs": [
    {
     "data": {
      "text/plain": [
       "362880.0"
      ]
     },
     "execution_count": 87,
     "metadata": {},
     "output_type": "execute_result"
    }
   ],
   "source": [
    "perm(9, 8)"
   ]
  },
  {
   "cell_type": "code",
   "execution_count": null,
   "metadata": {},
   "outputs": [],
   "source": [
    "A/comb(52, 9)"
   ]
  },
  {
   "cell_type": "code",
   "execution_count": 122,
   "metadata": {},
   "outputs": [
    {
     "data": {
      "text/plain": [
       "9"
      ]
     },
     "execution_count": 122,
     "metadata": {},
     "output_type": "execute_result"
    }
   ],
   "source": [
    "comb(9,8)"
   ]
  },
  {
   "cell_type": "code",
   "execution_count": 121,
   "metadata": {},
   "outputs": [
    {
     "data": {
      "text/plain": [
       "40320.0"
      ]
     },
     "execution_count": 121,
     "metadata": {},
     "output_type": "execute_result"
    }
   ],
   "source": [
    "362880.0/9"
   ]
  },
  {
   "cell_type": "code",
   "execution_count": 91,
   "metadata": {},
   "outputs": [
    {
     "data": {
      "text/plain": [
       "5.894"
      ]
     },
     "execution_count": 91,
     "metadata": {},
     "output_type": "execute_result"
    }
   ],
   "source": [
    " 0.999*6 -100*0.001 "
   ]
  },
  {
   "cell_type": "code",
   "execution_count": 96,
   "metadata": {},
   "outputs": [
    {
     "data": {
      "text/plain": [
       "0.03111111111111111"
      ]
     },
     "execution_count": 96,
     "metadata": {},
     "output_type": "execute_result"
    }
   ],
   "source": [
    "0.42*2/27"
   ]
  },
  {
   "cell_type": "code",
   "execution_count": 100,
   "metadata": {},
   "outputs": [
    {
     "data": {
      "text/plain": [
       "0.2897727272727273"
      ]
     },
     "execution_count": 100,
     "metadata": {},
     "output_type": "execute_result"
    }
   ],
   "source": [
    "(17*9)/(7*19 + 17*9 + 58*2 + 18*7)"
   ]
  },
  {
   "cell_type": "code",
   "execution_count": 98,
   "metadata": {},
   "outputs": [
    {
     "data": {
      "text/plain": [
       "153"
      ]
     },
     "execution_count": 98,
     "metadata": {},
     "output_type": "execute_result"
    }
   ],
   "source": []
  },
  {
   "cell_type": "code",
   "execution_count": null,
   "metadata": {},
   "outputs": [],
   "source": []
  }
 ],
 "metadata": {
  "kernelspec": {
   "display_name": "Python 3",
   "language": "python",
   "name": "python3"
  },
  "language_info": {
   "codemirror_mode": {
    "name": "ipython",
    "version": 3
   },
   "file_extension": ".py",
   "mimetype": "text/x-python",
   "name": "python",
   "nbconvert_exporter": "python",
   "pygments_lexer": "ipython3",
   "version": "3.8.5"
  }
 },
 "nbformat": 4,
 "nbformat_minor": 4
}
