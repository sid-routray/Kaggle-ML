{
 "cells": [
  {
   "cell_type": "markdown",
   "metadata": {},
   "source": [
    "# FX Trading Strategy\n",
    "\n",
    "# Currencies, USD, EUR, GBP, HKG, JPY \n",
    "\n",
    " Convert \\ to\tUSD\tEUR\tGBP\tHKD\tJPY\n",
    " USD\t1\t1.01864\t0.64090\t7.79850\t118.55000\n",
    " EUR\t0.97240\t1\t0.62950\t7.65520\t116.41000\n",
    " GBP\t1.55930\t1.58810\t1\t12.15400\t184.97000\n",
    " HKD\t0.12812\t0.13040\t0.08210\t1\t15.10050\n",
    " JPY\t0.00843\t0.00856\t0.00540\t0.06580\t1\n",
    "\n",
    " Baldwin’s current portfolio of cash holdings includes 2 million USD, 5 million EUR, 1 million GBP, 3 million HKD,\n",
    " and 30 million JPY. This portfolio is equivalent to $9,058,560 USD under the current exchange rates \n",
    " (given earlier). Wes has asked you to design a currency trading plan that would increase Baldwin’s euro and \n",
    " yen holdings to 8 million EUR and 54 JPY, respectively, while maintaining the equivalent of at least $250,000 USD\n",
    " in each currency. Baldwin measures transaction costs as the change in the USD equivalent value of the portfolio.\n",
    "\n",
    " 1. Create a model for this problem and solve it.\n",
    "\n",
    " 2. What is the optimal trading plan?\n",
    "\n",
    " 3. What is the optimal transaction cost (in equivalent USD)?\n",
    "\n",
    " 4. Suppose another executive thinks that holding $250,000 USD in each currency is excessive and wants to lower \n",
    " the amount to $50,000 USD in each currency. Does this help to lower the transaction cost? Why or why not?\n",
    "\n",
    " 5. Suppose the exchange rate for converting USD to GBP increased from 0.6409 to 0.6414. What happens to the \n",
    " optimal solution in this case?\n",
    " \n",
    " \n",
    " # Assumptions\n",
    " - the FX rates stay the same after our Trading (given traded value of Fx market, it will most likely)\n",
    "\n",
    " - We can trade currencies like HKG to JPY directly, without going through USD\n",
    " - We are using one step converion, not many hops to get Jpy or Eur\n",
    "\n",
    "\n",
    "# What are our Decision Variables\n",
    " We need to increase out JPY and EUR holdings, which means we need to sell some of USD, GBP and HKG to buy EUR and JPY\n",
    "\n",
    " X1 = millions of USD sold to buy Jpy, X2 = millions of GBP sold to buy Jpy, X3 = millions of HKG sold for jpy\n",
    " X4 = millions of USD sold to buy EUR, X5 = millions of GBP sold to buy EUR, X6 = millions of HKG sold for EUR\n",
    "\n",
    "\n",
    "30 + X1*usd/jpy + X2*gbp/jpy + X3*Hkg/Jpy >= 54. ## JPY holding\n",
    "5 + X4*usd/eur + X5*Gbp/Eur + X6*Hkg/Eur >= 8  ## new EUR holding \n",
    "(2 -  X1 - X4) >= 0.25 ## in Millions USD\n",
    "(1 - X2 - X5)*Gbp/Usd  >= 0.25 mill USD\n",
    "(3 - X3 - X6)*Hkg?Usd  >= 0.25 mill USD \n",
    "\n",
    " # Objective Function, reducing Transaction Cost in USD, LPMinimize\n",
    " The Portfolio shrunk by this value , (Original value - new Value)\n",
    " \n",
    "2000000 + 5000000*0.97240 + 1000000*1.55930 + 3000000*0.12812 + 30000000*0.00843 - \n",
    "(2000000-(X1+X4)*1mill) + 8000000*0.97240 + (1000000-(X2+X5)*1mill)*1.55930 + (3000000-(X3+X6)*1mill)*0.12812 + 54000000*0.00843\n",
    " == , cancelling 2mill usd, 1mill Gbp, 3mill Hkd from the equation \n",
    "\n",
    " LPMinimize this value (USD)\n",
    "(X1+X4)*1mill - 3000000*0.97240 + (X2+X5)*1mill*1.55930 + (X3+X6)*1mill*0.12812 - 24000000**0.00843\n",
    "\n"
   ]
  },
  {
   "cell_type": "code",
   "execution_count": 3,
   "metadata": {},
   "outputs": [
    {
     "data": {
      "text/plain": [
       "9058560.0"
      ]
     },
     "execution_count": 3,
     "metadata": {},
     "output_type": "execute_result"
    }
   ],
   "source": [
    "# Just making sure I got the convesions correct, to Evaluate the Net value of the portfolio, and thus the\n",
    "# net Transaction cost \n",
    "#2 million USD, 5 million EUR, 1 million GBP, 3 million HKD, and 30 million JPY == $9,058,560 USD\n",
    "2000000 + 5000000*0.97240 + 1000000*1.55930 + 3000000*0.12812 + 30000000*0.00843"
   ]
  },
  {
   "cell_type": "code",
   "execution_count": 6,
   "metadata": {},
   "outputs": [
    {
     "name": "stdout",
     "output_type": "stream",
     "text": [
      "Problem FX Tradiing\n",
      "status=Optimal\n",
      "GBP_SOLD_FOR_EUR = 709920.88\n",
      "GBP_SOLD_FOR_JPY = 129750.77\n",
      "HKG_SOLD_FOR_EUR = 689836.31\n",
      "HKG_SOLD_FOR_JPY = 0.0\n",
      "USD_SOLD_FOR_EUR = 1750000.0\n",
      "USD_SOLD_FOR_JPY = 0.0\n",
      "Objective Tx Cost = 230480.6778572969\n",
      "\n"
     ]
    }
   ],
   "source": [
    "# import pulp\n",
    "from pulp import LpVariable, LpProblem, LpMaximize, LpStatus, value, LpMinimize\n",
    "\n",
    "\n",
    "# Problem FX Trading \n",
    "# define variables\n",
    "USD_SOLD_JPY = LpVariable(\"USD_SOLD_FOR_JPY\", 0, None) # Tables>=0   X1 \n",
    "GBP_SOLD_JPY = LpVariable(\"GBP_SOLD_FOR_JPY\", 0, None) # Tables>=0   X2 \n",
    "HKG_SOLD_JPY = LpVariable(\"HKG_SOLD_FOR_JPY\", 0, None) # Tables>=0   X3\n",
    "\n",
    "USD_SOLD_EUR = LpVariable(\"USD_SOLD_FOR_EUR\", 0, None) # Tables>=0   X4\n",
    "GBP_SOLD_EUR = LpVariable(\"GBP_SOLD_FOR_EUR\", 0, None) # Tables>=0   X5\n",
    "HKG_SOLD_EUR = LpVariable(\"HKG_SOLD_FOR_EUR\", 0, None) # Tables>=0   X6\n",
    "\n",
    "\n",
    "\n",
    "# defines the problem\n",
    "prob = LpProblem(\"problem\", LpMinimize)   # Minimize the Transaction Cost  \n",
    "# Note, LpMaximize for a maximization problem, \n",
    "# and LpMinimize for a minimization problem\n",
    "\n",
    "# Constraints\n",
    "#30 + X1*usd/jpy + X2*gbp/jpy + X3*Hkg/Jpy >= 54. ## JPY holding\n",
    "#5 + X4*usd/eur + X5*Gbp/Eur + X6*Hkg/Eur >= 8  ## new EUR holding \n",
    "#(2 -  X1 - X4) >= 0.25 ## in Millions USD\n",
    "#(1 - X2 - X5)*Gbp/Usd  >= 0.25 mill USD\n",
    "#(3 - X3 - X6)*Hkg?Usd  >= 0.25 mill USD\n",
    "\n",
    "# define constraints\n",
    "prob += 30000000 + USD_SOLD_JPY*118.55000 + GBP_SOLD_JPY*184.97000  + HKG_SOLD_JPY*15.10050  >= 54000000   # Target JPY Holding \n",
    "prob += 5000000 + USD_SOLD_EUR*1.01864   + GBP_SOLD_EUR*1.58810   +  HKG_SOLD_EUR*0.13040    >= 8000000\n",
    "\n",
    "prob += 2000000 - USD_SOLD_JPY - USD_SOLD_EUR >= 250000\n",
    "prob += (1000000 - GBP_SOLD_JPY - GBP_SOLD_EUR)*1.55930 >= 250000\n",
    "prob += (3000000 - HKG_SOLD_JPY - HKG_SOLD_EUR)*0.12812 >= 250000\n",
    "\n",
    "\n",
    "\n",
    "\n",
    "# define objective function, which is the Transaction Cost Minimize\n",
    "# This Portfolio value before - porfolio value after \n",
    "prob += USD_SOLD_JPY + USD_SOLD_EUR  - 3000000*0.97240 + (GBP_SOLD_JPY+GBP_SOLD_EUR)*1.55930 + (HKG_SOLD_JPY+HKG_SOLD_EUR)*0.12812 - 24000000**0.00843\n",
    "\n",
    "\n",
    "# solve the problem\n",
    "status = prob.solve()\n",
    "print(f\"Problem FX Tradiing\")\n",
    "print(f\"status={LpStatus[status]}\")\n",
    "\n",
    "# print the results\n",
    "for variable in prob.variables():\n",
    "    #print(f\"{variable.name} = {round(variable.varValue)}\")\n",
    "    print(f\"{variable.name} = {variable.varValue}\")\n",
    "  \n",
    "print(f\"Objective Tx Cost = {value(prob.objective)}\")\n",
    "print(f\"\")\n",
    "\n"
   ]
  },
  {
   "cell_type": "code",
   "execution_count": 29,
   "metadata": {},
   "outputs": [
    {
     "name": "stdout",
     "output_type": "stream",
     "text": [
      "Problem FX Tradiing\n",
      "status=Optimal\n",
      "GBP_SOLD_FOR_EUR = 638279.71\n",
      "GBP_SOLD_FOR_JPY = 129750.77\n",
      "HKG_SOLD_FOR_EUR = 0.0\n",
      "HKG_SOLD_FOR_JPY = 0.0\n",
      "USD_SOLD_FOR_EUR = 1950000.0\n",
      "USD_SOLD_FOR_JPY = 0.0\n",
      "Objective Tx Cost = 230388.77343909675\n",
      "\n"
     ]
    }
   ],
   "source": [
    "# Decreasing the Minimum portfolio holdingd to 50000 USD\n",
    "# This decreases the Transaction Cost a little \n",
    "# Decreasing the resver amount to 50K, allows us to spend mor USD to get EUR, as we can get more EUR with USD,\n",
    "# this helps bring down the transaction cost\n",
    "\n",
    "\n",
    "# define variables\n",
    "USD_SOLD_JPY = LpVariable(\"USD_SOLD_FOR_JPY\", 0, None) # Tables>=0   X1 \n",
    "GBP_SOLD_JPY = LpVariable(\"GBP_SOLD_FOR_JPY\", 0, None) # Tables>=0   X2 \n",
    "HKG_SOLD_JPY = LpVariable(\"HKG_SOLD_FOR_JPY\", 0, None) # Tables>=0   X3\n",
    "\n",
    "USD_SOLD_EUR = LpVariable(\"USD_SOLD_FOR_EUR\", 0, None) # Tables>=0   X4\n",
    "GBP_SOLD_EUR = LpVariable(\"GBP_SOLD_FOR_EUR\", 0, None) # Tables>=0   X5\n",
    "HKG_SOLD_EUR = LpVariable(\"HKG_SOLD_FOR_EUR\", 0, None) # Tables>=0   X6\n",
    "\n",
    "# defines the problem\n",
    "prob = LpProblem(\"problem\", LpMinimize)   # Minimize the Transaction Cost  \n",
    "\n",
    "# define constraints\n",
    "prob += 30000000 + USD_SOLD_JPY*118.55000 + GBP_SOLD_JPY*184.97000  + HKG_SOLD_JPY*15.10050  >= 54000000   # Target JPY Holding \n",
    "prob += 5000000 + USD_SOLD_EUR*1.01864   + GBP_SOLD_EUR*1.58810   +  HKG_SOLD_EUR*0.13040    >= 8000000\n",
    "\n",
    "prob += 2000000 - USD_SOLD_JPY - USD_SOLD_EUR >= 50000\n",
    "prob += (1000000 - GBP_SOLD_JPY - GBP_SOLD_EUR)*1.55930 >= 50000\n",
    "prob += (3000000 - HKG_SOLD_JPY - HKG_SOLD_EUR)*0.12812 >= 50000\n",
    "\n",
    "\n",
    "# define objective function, which is the Transaction Cost Minimize\n",
    "# This Portfolio value before - porfolio value after \n",
    "prob += USD_SOLD_JPY + USD_SOLD_EUR  - 3000000*0.97240 + (GBP_SOLD_JPY+GBP_SOLD_EUR)*1.55930 + (HKG_SOLD_JPY+HKG_SOLD_EUR)*0.12812 - 24000000**0.00843\n",
    "\n",
    "# solve the problem\n",
    "status = prob.solve()\n",
    "print(f\"Problem FX Tradiing\")\n",
    "print(f\"status={LpStatus[status]}\")\n",
    "\n",
    "# print the results\n",
    "for variable in prob.variables():\n",
    "    #print(f\"{variable.name} = {round(variable.varValue)}\")\n",
    "    print(f\"{variable.name} = {variable.varValue}\")\n",
    "  \n",
    "print(f\"Objective Tx Cost = {value(prob.objective)}\")\n",
    "print(f\"\")"
   ]
  },
  {
   "cell_type": "code",
   "execution_count": 30,
   "metadata": {},
   "outputs": [
    {
     "name": "stdout",
     "output_type": "stream",
     "text": [
      "Problem FX Tradiing\n",
      "status=Optimal\n",
      "GBP_SOLD_FOR_EUR = 709899.28\n",
      "GBP_SOLD_FOR_JPY = 129750.77\n",
      "HKG_SOLD_FOR_EUR = 690099.31\n",
      "HKG_SOLD_FOR_JPY = 0.0\n",
      "USD_SOLD_FOR_EUR = 1750000.0\n",
      "USD_SOLD_FOR_JPY = 0.0\n",
      "Objective Tx Cost = 230304.3660267968\n",
      "\n"
     ]
    }
   ],
   "source": [
    "# USD/GBP increased from 0.6409 to 0.6414  , Dollar became stronger \n",
    "# The Optimal soltion changes a little, and this decreases the Transaction Cost a little too, \n",
    "# just by around $176.31\n",
    "\n",
    "# define variables\n",
    "USD_SOLD_JPY = LpVariable(\"USD_SOLD_FOR_JPY\", 0, None) # Tables>=0   X1 \n",
    "GBP_SOLD_JPY = LpVariable(\"GBP_SOLD_FOR_JPY\", 0, None) # Tables>=0   X2 \n",
    "HKG_SOLD_JPY = LpVariable(\"HKG_SOLD_FOR_JPY\", 0, None) # Tables>=0   X3\n",
    "\n",
    "USD_SOLD_EUR = LpVariable(\"USD_SOLD_FOR_EUR\", 0, None) # Tables>=0   X4\n",
    "GBP_SOLD_EUR = LpVariable(\"GBP_SOLD_FOR_EUR\", 0, None) # Tables>=0   X5\n",
    "HKG_SOLD_EUR = LpVariable(\"HKG_SOLD_FOR_EUR\", 0, None) # Tables>=0   X6\n",
    "\n",
    "# defines the problem\n",
    "prob = LpProblem(\"problem\", LpMinimize)   # Minimize the Transaction Cost  \n",
    "\n",
    "# define constraints\n",
    "prob += 30000000 + USD_SOLD_JPY*118.55000 + GBP_SOLD_JPY*184.97000  + HKG_SOLD_JPY*15.10050  >= 54000000   # Target JPY Holding \n",
    "prob += 5000000 + USD_SOLD_EUR*1.01864   + GBP_SOLD_EUR*1.58810   +  HKG_SOLD_EUR*0.13040    >= 8000000\n",
    "\n",
    "prob += 2000000 - USD_SOLD_JPY - USD_SOLD_EUR >= 250000\n",
    "prob += (1000000 - GBP_SOLD_JPY - GBP_SOLD_EUR)*round(1/0.6414, 5) >= 250000\n",
    "prob += (3000000 - HKG_SOLD_JPY - HKG_SOLD_EUR)*0.12812 >= 250000\n",
    "\n",
    "\n",
    "# define objective function, which is the Transaction Cost Minimize\n",
    "# This Portfolio value before - porfolio value after \n",
    "prob += USD_SOLD_JPY + USD_SOLD_EUR  - 3000000*0.97240 + (GBP_SOLD_JPY+GBP_SOLD_EUR)*round(1/0.6414, 5) + (HKG_SOLD_JPY+HKG_SOLD_EUR)*0.12812 - 24000000**0.00843\n",
    "\n",
    "# solve the problem\n",
    "status = prob.solve()\n",
    "print(f\"Problem FX Tradiing\")\n",
    "print(f\"status={LpStatus[status]}\")\n",
    "\n",
    "# print the results\n",
    "for variable in prob.variables():\n",
    "    #print(f\"{variable.name} = {round(variable.varValue)}\")\n",
    "    print(f\"{variable.name} = {variable.varValue}\")\n",
    "  \n",
    "print(f\"Objective Tx Cost = {value(prob.objective)}\")\n",
    "print(f\"\")"
   ]
  },
  {
   "cell_type": "code",
   "execution_count": 14,
   "metadata": {},
   "outputs": [
    {
     "data": {
      "text/plain": [
       "1.56031"
      ]
     },
     "execution_count": 14,
     "metadata": {},
     "output_type": "execute_result"
    }
   ],
   "source": [
    "round(1/0.6409, 5)"
   ]
  },
  {
   "cell_type": "code",
   "execution_count": 15,
   "metadata": {},
   "outputs": [
    {
     "data": {
      "text/plain": [
       "1.55909"
      ]
     },
     "execution_count": 15,
     "metadata": {},
     "output_type": "execute_result"
    }
   ],
   "source": [
    "round(1/0.6414, 5)"
   ]
  },
  {
   "cell_type": "code",
   "execution_count": 22,
   "metadata": {},
   "outputs": [
    {
     "data": {
      "text/plain": [
       "176.31183050008258"
      ]
     },
     "execution_count": 22,
     "metadata": {},
     "output_type": "execute_result"
    }
   ],
   "source": [
    "230480.6778572969 - 230304.3660267968"
   ]
  },
  {
   "cell_type": "code",
   "execution_count": 1,
   "metadata": {},
   "outputs": [
    {
     "data": {
      "text/plain": [
       "249487.99999999997"
      ]
     },
     "execution_count": 1,
     "metadata": {},
     "output_type": "execute_result"
    }
   ],
   "source": [
    "160000 * 1.55930"
   ]
  },
  {
   "cell_type": "code",
   "execution_count": 3,
   "metadata": {},
   "outputs": [
    {
     "data": {
      "text/plain": [
       "249999.99615499994"
      ]
     },
     "execution_count": 3,
     "metadata": {},
     "output_type": "execute_result"
    }
   ],
   "source": [
    "(1000000 - 709920.88 - 129750.77) * 1.55930"
   ]
  },
  {
   "cell_type": "code",
   "execution_count": null,
   "metadata": {},
   "outputs": [],
   "source": []
  }
 ],
 "metadata": {
  "kernelspec": {
   "display_name": "Python 3 (ipykernel)",
   "language": "python",
   "name": "python3"
  },
  "language_info": {
   "codemirror_mode": {
    "name": "ipython",
    "version": 3
   },
   "file_extension": ".py",
   "mimetype": "text/x-python",
   "name": "python",
   "nbconvert_exporter": "python",
   "pygments_lexer": "ipython3",
   "version": "3.9.7"
  }
 },
 "nbformat": 4,
 "nbformat_minor": 4
}
