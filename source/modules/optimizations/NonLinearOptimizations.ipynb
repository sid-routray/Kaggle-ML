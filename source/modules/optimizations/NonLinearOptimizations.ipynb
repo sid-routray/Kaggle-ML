{
 "cells": [
  {
   "cell_type": "code",
   "execution_count": 4,
   "id": "8b3ed14c",
   "metadata": {},
   "outputs": [
    {
     "name": "stdout",
     "output_type": "stream",
     "text": [
      "Status : CONVERGENCE: NORM_OF_PROJECTED_GRADIENT_<=_PGTOL\n",
      "Total Evaluations: 9\n",
      "Solution: f([ 5.34384483e-08 -1.54623350e-08]) = 0.00000\n"
     ]
    }
   ],
   "source": [
    "# l-bfgs-b algorithm local optimization of a convex function\n",
    "from scipy.optimize import minimize\n",
    "from numpy.random import rand\n",
    " \n",
    "# objective function\n",
    "def objective(x):\n",
    "\treturn x[0]**2.0 + x[1]**2.0\n",
    " \n",
    "# define range for input\n",
    "r_min, r_max = -5.0, 5.0\n",
    "# define the starting point as a random sample from the domain\n",
    "pt = r_min + rand(2) * (r_max - r_min)\n",
    "# perform the l-bfgs-b algorithm search\n",
    "result = minimize(objective, pt, method='L-BFGS-B')\n",
    "# summarize the result\n",
    "print('Status : %s' % result['message'])\n",
    "print('Total Evaluations: %d' % result['nfev'])\n",
    "# evaluate solution\n",
    "solution = result['x']\n",
    "evaluation = objective(solution)\n",
    "print('Solution: f(%s) = %.5f' % (solution, evaluation))"
   ]
  },
  {
   "cell_type": "code",
   "execution_count": 10,
   "id": "ce53a4d8",
   "metadata": {},
   "outputs": [
    {
     "name": "stdout",
     "output_type": "stream",
     "text": [
      "Status : ['Maximum number of iteration reached']\n",
      "Total Evaluations: 4031\n",
      "Solution: f([ 3.58442826 -1.84812665]) = 0.00000\n"
     ]
    }
   ],
   "source": [
    "# simulated annealing global optimization for a multimodal objective function\n",
    "from scipy.optimize import dual_annealing\n",
    " \n",
    "# objective function\n",
    "def objective(v):\n",
    "\tx, y = v\n",
    "\treturn (x**2 + y - 11)**2 + (x + y**2 -7)**2\n",
    " \n",
    "# define range for input\n",
    "r_min, r_max = -5.0, 5.0\n",
    "# define the bounds on the search\n",
    "bounds = [[r_min, r_max], [r_min, r_max]]\n",
    "# perform the simulated annealing search\n",
    "result = dual_annealing(objective, bounds)\n",
    "# summarize the result\n",
    "print('Status : %s' % result['message'])\n",
    "print('Total Evaluations: %d' % result['nfev'])\n",
    "# evaluate solution\n",
    "solution = result['x']\n",
    "evaluation = objective(solution)\n",
    "print('Solution: f(%s) = %.5f' % (solution, evaluation))"
   ]
  },
  {
   "cell_type": "code",
   "execution_count": null,
   "id": "5f2a54d0",
   "metadata": {},
   "outputs": [],
   "source": [
    "# l-bfgs-b algorithm local optimization of a convex function\n",
    "from scipy.optimize import minimize\n",
    "from numpy.random import rand\n",
    " \n",
    "# objective function\n",
    "def objective(x):\n",
    "\treturn x[0]**2.0 + x[1]**2.0\n",
    " \n",
    "# define range for input\n",
    "r_min, r_max = -5.0, 5.0\n",
    "# define the starting point as a random sample from the domain\n",
    "pt = r_min + rand(2) * (r_max - r_min)\n",
    "# perform the l-bfgs-b algorithm search\n",
    "result = minimize(objective, pt, method='L-BFGS-B')\n",
    "# summarize the result\n",
    "print('Status : %s' % result['message'])\n",
    "print('Total Evaluations: %d' % result['nfev'])\n",
    "# evaluate solution\n",
    "solution = result['x']\n",
    "evaluation = objective(solution)\n",
    "print('Solution: f(%s) = %.5f' % (solution, evaluation))"
   ]
  },
  {
   "cell_type": "code",
   "execution_count": 11,
   "id": "06752da2",
   "metadata": {},
   "outputs": [
    {
     "name": "stdout",
     "output_type": "stream",
     "text": [
      "Initial SSE Objective: 16.0\n",
      "Final SSE Objective: 17.01401724563517\n",
      "Solution\n",
      "x1 = 1.0\n",
      "x2 = 4.742996096883977\n",
      "x3 = 3.8211546234095715\n",
      "x4 = 1.379407645075325\n"
     ]
    }
   ],
   "source": [
    "import numpy as np\n",
    "from scipy.optimize import minimize\n",
    "\n",
    "def objective(x):\n",
    "    return x[0]*x[3]*(x[0]+x[1]+x[2])+x[2]\n",
    "\n",
    "def constraint1(x):\n",
    "    return x[0]*x[1]*x[2]*x[3]-25.0\n",
    "\n",
    "def constraint2(x):\n",
    "    sum_eq = 40.0\n",
    "    for i in range(4):\n",
    "        sum_eq = sum_eq - x[i]**2\n",
    "    return sum_eq\n",
    "\n",
    "# initial guesses\n",
    "n = 4\n",
    "x0 = np.zeros(n)\n",
    "x0[0] = 1.0\n",
    "x0[1] = 5.0\n",
    "x0[2] = 5.0\n",
    "x0[3] = 1.0\n",
    "\n",
    "# show initial objective\n",
    "print('Initial SSE Objective: ' + str(objective(x0)))\n",
    "\n",
    "# optimize\n",
    "b = (1.0,5.0)\n",
    "bnds = (b, b, b, b)\n",
    "con1 = {'type': 'ineq', 'fun': constraint1} \n",
    "con2 = {'type': 'eq', 'fun': constraint2}\n",
    "cons = ([con1,con2])\n",
    "solution = minimize(objective,x0,method='SLSQP',\\\n",
    "                    bounds=bnds,constraints=cons)\n",
    "x = solution.x\n",
    "\n",
    "# show final objective\n",
    "print('Final SSE Objective: ' + str(objective(x)))\n",
    "\n",
    "# print solution\n",
    "print('Solution')\n",
    "print('x1 = ' + str(x[0]))\n",
    "print('x2 = ' + str(x[1]))\n",
    "print('x3 = ' + str(x[2]))\n",
    "print('x4 = ' + str(x[3]))"
   ]
  },
  {
   "cell_type": "code",
   "execution_count": 29,
   "id": "09ce9bdc",
   "metadata": {},
   "outputs": [
    {
     "name": "stdout",
     "output_type": "stream",
     "text": [
      "3.141592653589793\n"
     ]
    },
    {
     "data": {
      "text/plain": [
       "array([[0.66624876, 0.70960491, 0.1399937 ],\n",
       "       [0.18866374, 0.23819429, 0.21686265]])"
      ]
     },
     "execution_count": 29,
     "metadata": {},
     "output_type": "execute_result"
    }
   ],
   "source": [
    "import math \n",
    "\n",
    "# Print the value of pi\n",
    "print (math.pi)\n",
    "\n",
    "#4**2\\\n",
    "from numpy.random import rand\n",
    "\n",
    "rand(2, 3)"
   ]
  },
  {
   "cell_type": "code",
   "execution_count": 81,
   "id": "7d49d10f",
   "metadata": {},
   "outputs": [
    {
     "name": "stdout",
     "output_type": "stream",
     "text": [
      "Initial SSE Objective: 10.919777951024543\n",
      "Final SSE Objective: 111.34480912629874\n",
      "Solution\n",
      "x1 = 1.1675443249722577\n",
      "x2 = 4.670177299889031\n"
     ]
    }
   ],
   "source": [
    "import numpy as np\n",
    "from scipy.optimize import minimize\n",
    "import math\n",
    "from numpy.random import rand\n",
    "\n",
    "\n",
    "# r = x[0], h = x[1]\n",
    "\n",
    "def objective(x):\n",
    "    return 2 * ( math.pi*(x[0]**2) + 2*math.pi*x[0]*x[1] ) + 8*math.pi*(x[0]**2)\n",
    "\n",
    "def constraint1(x):\n",
    "    return x[1] - 4*x[0]\n",
    "\n",
    "def constraint2(x):\n",
    "    return 20 - math.pi*(x[0]**2)*x[1]\n",
    "\n",
    "# initial guesses\n",
    "n = 2\n",
    "x0 = np.zeros(n)\n",
    "x0[0] = rand()  # or 1.0\n",
    "x0[1] = rand()  # or 1.0\n",
    "\n",
    "\n",
    "# show initial objective\n",
    "print('Initial SSE Objective: ' + str(objective(x0)))\n",
    "\n",
    "# optimize\n",
    "b = (0, None)\n",
    "bnds = (b, b)\n",
    "con1 = {'type': 'eq', 'fun': constraint1} \n",
    "con2 = {'type': 'eq', 'fun': constraint2}\n",
    "cons = ([con1,con2])\n",
    "solution = minimize(objective,x0,method='SLSQP',\\\n",
    "                    bounds=bnds,constraints=cons)\n",
    "x = solution.x\n",
    "\n",
    "# show final objective\n",
    "print('Final SSE Objective: ' + str(objective(x)))\n",
    "\n",
    "# print solution\n",
    "print('Solution')\n",
    "print('x1 = ' + str(x[0]))\n",
    "print('x2 = ' + str(x[1]))\n"
   ]
  },
  {
   "cell_type": "code",
   "execution_count": 82,
   "id": "71f38b92",
   "metadata": {},
   "outputs": [
    {
     "data": {
      "text/plain": [
       "     fun: 111.34480912629874\n",
       "     jac: array([132.04615211,  14.67179298])\n",
       " message: 'Optimization terminated successfully'\n",
       "    nfev: 23\n",
       "     nit: 7\n",
       "    njev: 7\n",
       "  status: 0\n",
       " success: True\n",
       "       x: array([1.16754432, 4.6701773 ])"
      ]
     },
     "execution_count": 82,
     "metadata": {},
     "output_type": "execute_result"
    }
   ],
   "source": [
    "solution"
   ]
  },
  {
   "cell_type": "code",
   "execution_count": 35,
   "id": "d7627bf7",
   "metadata": {},
   "outputs": [
    {
     "name": "stdout",
     "output_type": "stream",
     "text": [
      "Collecting pyomo\n",
      "  Downloading Pyomo-6.4.0-cp39-cp39-macosx_10_15_x86_64.whl (4.6 MB)\n",
      "\u001b[K     |████████████████████████████████| 4.6 MB 1.0 MB/s eta 0:00:01\n",
      "\u001b[?25hRequirement already satisfied: ply in /usr/local/anaconda3/lib/python3.9/site-packages (from pyomo) (3.11)\n",
      "Installing collected packages: pyomo\n",
      "Successfully installed pyomo-6.4.0\n"
     ]
    }
   ],
   "source": [
    "!pip install pyomo"
   ]
  },
  {
   "cell_type": "code",
   "execution_count": 36,
   "id": "fb4d4e6f",
   "metadata": {},
   "outputs": [
    {
     "name": "stdout",
     "output_type": "stream",
     "text": [
      "( X1 , X2 ) = ( 20.0 , 0.0 )\n",
      "f1 = 20.0\n",
      "f2 = 60.0\n",
      "( X1 , X2 ) = ( 8.0 , 40.0 )\n",
      "f1 = 8.0\n",
      "f2 = 184.0\n"
     ]
    },
    {
     "data": {
      "image/png": "[encoded data removed]",
      "text/plain": [
       "<Figure size 720x288 with 2 Axes>"
      ]
     },
     "metadata": {
      "needs_background": "light"
     },
     "output_type": "display_data"
    }
   ],
   "source": [
    "from pyomo.environ import *\n",
    "import matplotlib.pyplot as plt\n",
    "\n",
    "# max \t\t\tf1 = X1\n",
    "# max \t\t\tf2 = 3 X1 + 4 X2\n",
    "# constraints\tX1 <= 20\n",
    "#     \t\t\tX2 <= 40\n",
    "# \t\t\t\t5 X1 + 4 X2 <= 200\n",
    "\n",
    "model = ConcreteModel()\n",
    "\n",
    "model.X1 = Var(within=NonNegativeReals)\n",
    "model.X2 = Var(within=NonNegativeReals)\n",
    "\n",
    "model.C1 = Constraint(expr = model.X1 <= 20)\n",
    "model.C2 = Constraint(expr = model.X2 <= 40)\n",
    "model.C3 = Constraint(expr = 5 * model.X1 + 4 * model.X2 <= 200)\n",
    "\n",
    "model.f1 = Var()\n",
    "model.f2 = Var()\n",
    "model.C_f1 = Constraint(expr = model.f1 == model.X1)\n",
    "model.C_f2 = Constraint(expr = model.f2 == 3 * model.X1 + 4 * model.X2)\n",
    "model.O_f1 = Objective(expr = model.f1, sense=maximize)\n",
    "model.O_f2 = Objective(expr = model.f2, sense=maximize)\n",
    "\n",
    "# max f1 separately\n",
    "# install glpk solver:  sudo apt-get install glpk-utils\n",
    "model.O_f2.deactivate()\n",
    "solver = SolverFactory('glpk')  #'cplex', 'ipopt'\n",
    "solver.solve(model)\n",
    "\n",
    "print('( X1 , X2 ) = ( ' + str(value(model.X1)) + ' , ' + str(value(model.X2)) + ' )')\n",
    "print('f1 = ' + str(value(model.f1)))\n",
    "print('f2 = ' + str(value(model.f2)))\n",
    "f2_min = value(model.f2)\n",
    "\n",
    "# max f2 separately\n",
    "model.O_f2.activate()\n",
    "model.O_f1.deactivate()\n",
    "solver = SolverFactory('glpk')  #'cplex', 'ipopt'\n",
    "solver.solve(model)\n",
    "\n",
    "print('( X1 , X2 ) = ( ' + str(value(model.X1)) + ' , ' + str(value(model.X2)) + ' )')\n",
    "print('f1 = ' + str(value(model.f1)))\n",
    "print('f2 = ' + str(value(model.f2)))\n",
    "f2_max = value(model.f2)\n",
    "\n",
    "# apply augmented $\\epsilon$-Constraint\n",
    "# max   \t\tf1 + delta*s\n",
    "# constraint \tf2 - s = e\n",
    "model.O_f1.activate()\n",
    "model.O_f2.deactivate()\n",
    "\n",
    "model.del_component(model.O_f1)\n",
    "model.del_component(model.O_f2)\n",
    "\n",
    "model.e = Param(initialize=0, mutable=True)\n",
    "model.delta = Param(initialize=0.00001)\n",
    "model.slack = Var(within=NonNegativeReals)\n",
    "model.O_f1 = Objective(expr = model.f1 + model.delta * model.slack, sense=maximize)\n",
    "model.C_e = Constraint(expr = model.f2 - model.slack == model.e)\n",
    "\n",
    "n = 100\n",
    "step = int((f2_max - f2_min) / n)\n",
    "steps = list(range(int(f2_min),int(f2_max),step)) + [f2_max]\n",
    "\n",
    "x1_l, x2_l = [], []\n",
    "f1_l, f2_l = [], []\n",
    "for i in steps:\n",
    "    model.e = i\n",
    "    solver.solve(model)\n",
    "    x1_l.append(value(model.X1))\n",
    "    x2_l.append(value(model.X2))\n",
    "    f1_l.append(value(model.f1))\n",
    "    f2_l.append(value(model.f2))\n",
    "    # print(i, value(model.X1), value(model.X2), value(model.f1), value(model.slack), value(model.f2))\n",
    "\n",
    "fig, (ax1, ax2) = plt.subplots(nrows=1, ncols=2, sharex=True, figsize=(10,4))\n",
    "edge, = ax1.plot(x1_l,x2_l,'o', markersize=6, markerfacecolor='none', c='b')\n",
    "shaded = ax1.fill_between(x1_l, x2_l, color='azure', alpha=0.85)\n",
    "ax1.legend([(edge, shaded)], ['Decision/coordinate space'], loc='best')\n",
    "ax1.set_xlabel('X1')\n",
    "ax1.set_ylabel('X2')\n",
    "ax1.set_xlim((7.5,20.5))\n",
    "ax1.set_ylim((24,40.5))\n",
    "ax1.grid(True)\n",
    "\n",
    "ax2.plot(f1_l, f2_l, 'o-', c='r', label='Pareto optimal front')\n",
    "ax2.legend(loc='best')\n",
    "ax2.set_xlabel('Objective function F1')\n",
    "ax2.set_ylabel('Objective function F2')\n",
    "ax2.grid(True)\n",
    "fig.tight_layout()\n",
    "plt.show()"
   ]
  },
  {
   "cell_type": "code",
   "execution_count": 37,
   "id": "ae4bd2a6",
   "metadata": {},
   "outputs": [
    {
     "name": "stdout",
     "output_type": "stream",
     "text": [
      "[[ 12.64   7.68  -9.6 ]\n",
      " [  7.68  17.36 -13.8 ]\n",
      " [ -9.6  -13.8   14.8 ]]\n"
     ]
    }
   ],
   "source": [
    "\n",
    "import numpy as np\n",
    "\n",
    "A = [45,37,42,35,39]\n",
    "B = [38,31,26,28,33]\n",
    "C = [10,15,17,21,12]\n",
    "\n",
    "data = np.array([A,B,C])\n",
    "\n",
    "covMatrix = np.cov(data,bias=True)\n",
    "print (covMatrix)\n"
   ]
  },
  {
   "cell_type": "code",
   "execution_count": null,
   "id": "2ceae020",
   "metadata": {},
   "outputs": [],
   "source": [
    "import numpy as np\n",
    "\n",
    "A = [45,37,42,35,39]\n",
    "B = [38,31,26,28,33]\n",
    "C = [10,15,17,21,12]\n",
    "D = [38,31,26,28,33]\n",
    "E = [10,15,17,21,12]\n",
    "\n",
    "# Portfolio variance = pTCp\n",
    "\n",
    "data = np.array([A,B,C])\n",
    "\n",
    "covMatrix = np.cov(data,bias=True)\n",
    "print (covMatrix)\n",
    "\n",
    "\n",
    "A = [ 0.0012, 0.0013, 0.0013, 0.0011, 0.0011, 0.0013, 0.0012, 0.0013, 0.0013, 0.0011, 0.0008, 0.0007, 0.0097, 0.0007, 0.0007, 0.0006, 0.0006, 0.0005, 0.0006, 0.0006, 0.0006, 0.0007, 0.0011, 0.0013, 0.0017 ]\n",
    "Amu = np.mean(A)\n",
    "print(\"mean of A : \", Amu)\n",
    "\n",
    "B = [ -0.0032, 0.0030, -0.0004, -0.0086, -0.0018, .0115, 0.0074, 0.0034, 0.0082, -.0123, -.0145, -0.0071, 0.0750, 0.0014, 0.0099, -0.0042, -0.0003, -0.0081, 0.0149, 0.0063, 0.0046, 0.0178, -0.0064, 0.0182, 0.0191 ] \n",
    "\n",
    "C = [ 0.0448, -0.0069, 0.0700, -0.0465, 0.0303, 0.0237, 0.0233, 0.0069, 0.0533, 0.0438, 0.0276, -0.0101, 0.1831, 0.0384, 0.1095, -0.0266, -0.0380, 0.0719, 0.0564, 0.0199, 0.0476, 0.1281, -0.1240, -0.0824, -0.0004 ]\n",
    "\n",
    "D = [ 0.0058, -0.0503, 0.0543, -0.0400, 0.0200, -0.0124, 0.0346, -0.0066, 0.0423, -0.0039, 0.0521, 0.0285, 0.3185, 0.0724, 0.1826, 0.0050, -0.0304, 0.0720, 0.0571, 0.0400, 0.0879, 0.1581, -0.2140, -0.0801, -0.0062 ]\n",
    "\n",
    "E = [ 5.10, -0.0466, 0.0246, -0.0281, 0.0176, 0.0072, -0.0144, 0.0361, 0.0309, 0.0235, 0.0226, -0.0109, 0.0817, 0.0464, 0.1554, -0.0397, -0.0260, 0.0512, 0.0233, 0.0344, 0.0450, 0.0642, -0.1387, -0.0774, -0.0273 ] \n",
    "\n",
    "   \n",
    "data = np.array([A, B, C, D, E])\n",
    "\n",
    "covMatrix = np.cov(data,bias=True)\n",
    "print (covMatrix)\n",
    "sn.heatmap(covMatrix, annot=True, fmt='g')\n",
    "plt.show()\n",
    "     "
   ]
  },
  {
   "cell_type": "code",
   "execution_count": 121,
   "id": "8caf2478",
   "metadata": {},
   "outputs": [
    {
     "name": "stdout",
     "output_type": "stream",
     "text": [
      "mean of A :  0.0013239999999999999\n",
      "mean of B :  0.005352000000000001\n",
      "mean of C :  0.025748000000000004\n",
      "mean of D :  0.03149199999999999\n",
      "mean of E :  0.21419999999999997\n",
      "[[ 3.02662400e-06  2.50179520e-05  5.05012480e-05  8.94893920e-05 -6.71200000e-06]\n",
      " [ 2.50179520e-05  2.88131296e-04  5.56346704e-04  9.89896416e-04 -1.46978640e-03]\n",
      " [ 5.05012480e-05  5.56346704e-04  3.95864570e-03  5.56744678e-03  6.93648280e-03]\n",
      " [ 8.94893920e-05  9.89896416e-04  5.56744678e-03  9.01748074e-03 -7.09982000e-04]\n",
      " [-6.71200000e-06 -1.46978640e-03  6.93648280e-03 -7.09982000e-04  9.97689252e-01]]\n"
     ]
    },
    {
     "data": {
      "image/png": "[encoded data removed]",
      "text/plain": [
       "<Figure size 432x288 with 2 Axes>"
      ]
     },
     "metadata": {
      "needs_background": "light"
     },
     "output_type": "display_data"
    },
    {
     "data": {
      "text/html": [
       "<div>\n",
       "<style scoped>\n",
       "    .dataframe tbody tr th:only-of-type {\n",
       "        vertical-align: middle;\n",
       "    }\n",
       "\n",
       "    .dataframe tbody tr th {\n",
       "        vertical-align: top;\n",
       "    }\n",
       "\n",
       "    .dataframe thead th {\n",
       "        text-align: right;\n",
       "    }\n",
       "</style>\n",
       "<table border=\"1\" class=\"dataframe\">\n",
       "  <thead>\n",
       "    <tr style=\"text-align: right;\">\n",
       "      <th></th>\n",
       "      <th>0</th>\n",
       "      <th>1</th>\n",
       "      <th>2</th>\n",
       "      <th>3</th>\n",
       "      <th>4</th>\n",
       "    </tr>\n",
       "  </thead>\n",
       "  <tbody>\n",
       "    <tr>\n",
       "      <th>0</th>\n",
       "      <td>0.0000030266</td>\n",
       "      <td>0.0000250180</td>\n",
       "      <td>0.0000505012</td>\n",
       "      <td>0.0000894894</td>\n",
       "      <td>-0.0000067120</td>\n",
       "    </tr>\n",
       "    <tr>\n",
       "      <th>1</th>\n",
       "      <td>0.0000250180</td>\n",
       "      <td>0.0002881313</td>\n",
       "      <td>0.0005563467</td>\n",
       "      <td>0.0009898964</td>\n",
       "      <td>-0.0014697864</td>\n",
       "    </tr>\n",
       "    <tr>\n",
       "      <th>2</th>\n",
       "      <td>0.0000505012</td>\n",
       "      <td>0.0005563467</td>\n",
       "      <td>0.0039586457</td>\n",
       "      <td>0.0055674468</td>\n",
       "      <td>0.0069364828</td>\n",
       "    </tr>\n",
       "    <tr>\n",
       "      <th>3</th>\n",
       "      <td>0.0000894894</td>\n",
       "      <td>0.0009898964</td>\n",
       "      <td>0.0055674468</td>\n",
       "      <td>0.0090174807</td>\n",
       "      <td>-0.0007099820</td>\n",
       "    </tr>\n",
       "    <tr>\n",
       "      <th>4</th>\n",
       "      <td>-0.0000067120</td>\n",
       "      <td>-0.0014697864</td>\n",
       "      <td>0.0069364828</td>\n",
       "      <td>-0.0007099820</td>\n",
       "      <td>0.9976892520</td>\n",
       "    </tr>\n",
       "  </tbody>\n",
       "</table>\n",
       "</div>"
      ],
      "text/plain": [
       "              0             1             2             3             4\n",
       "0  0.0000030266  0.0000250180  0.0000505012  0.0000894894 -0.0000067120\n",
       "1  0.0000250180  0.0002881313  0.0005563467  0.0009898964 -0.0014697864\n",
       "2  0.0000505012  0.0005563467  0.0039586457  0.0055674468  0.0069364828\n",
       "3  0.0000894894  0.0009898964  0.0055674468  0.0090174807 -0.0007099820\n",
       "4 -0.0000067120 -0.0014697864  0.0069364828 -0.0007099820  0.9976892520"
      ]
     },
     "execution_count": 121,
     "metadata": {},
     "output_type": "execute_result"
    }
   ],
   "source": [
    "import numpy as np\n",
    "import seaborn as sn\n",
    "import matplotlib.pyplot as plt\n",
    "import pandas as pd \n",
    "\n",
    "A = [ 0.0012, 0.0013, 0.0013, 0.0011, 0.0011, 0.0013, 0.0012, 0.0013, 0.0013, 0.0011, 0.0008, 0.0007, 0.0097, 0.0007, 0.0007, 0.0006, 0.0006, 0.0005, 0.0006, 0.0006, 0.0006, 0.0007, 0.0011, 0.0013, 0.0017 ]\n",
    "Amu = np.mean(A)\n",
    "print(\"mean of A : \", Amu)\n",
    "\n",
    "B = [ -0.0032, 0.0030, -0.0004, -0.0086, -0.0018, .0115, 0.0074, 0.0034, 0.0082, -.0123, -.0145, -0.0071, 0.0750, 0.0014, 0.0099, -0.0042, -0.0003, -0.0081, 0.0149, 0.0063, 0.0046, 0.0178, -0.0064, 0.0182, 0.0191 ] \n",
    "Bmu = np.mean(B)\n",
    "print(\"mean of B : \", Bmu)\n",
    "\n",
    "C = [ 0.0448, -0.0069, 0.0700, -0.0465, 0.0303, 0.0237, 0.0233, 0.0069, 0.0533, 0.0438, 0.0276, -0.0101, 0.1831, 0.0384, 0.1095, -0.0266, -0.0380, 0.0719, 0.0564, 0.0199, 0.0476, 0.1281, -0.1240, -0.0824, -0.0004 ]\n",
    "Cmu = np.mean(C)\n",
    "print(\"mean of C : \", Cmu)\n",
    "\n",
    "D = [ 0.0058, -0.0503, 0.0543, -0.0400, 0.0200, -0.0124, 0.0346, -0.0066, 0.0423, -0.0039, 0.0521, 0.0285, 0.3185, 0.0724, 0.1826, 0.0050, -0.0304, 0.0720, 0.0571, 0.0400, 0.0879, 0.1581, -0.2140, -0.0801, -0.0062 ]\n",
    "Dmu = np.mean(D)\n",
    "print(\"mean of D : \", Dmu)\n",
    "\n",
    "E = [ 5.10, -0.0466, 0.0246, -0.0281, 0.0176, 0.0072, -0.0144, 0.0361, 0.0309, 0.0235, 0.0226, -0.0109, 0.0817, 0.0464, 0.1554, -0.0397, -0.0260, 0.0512, 0.0233, 0.0344, 0.0450, 0.0642, -0.1387, -0.0774, -0.0273 ] \n",
    "Emu = np.mean(E)\n",
    "print(\"mean of E : \", Emu)\n",
    "   \n",
    "data = np.array([A, B, C, D, E])\n",
    "\n",
    "# Population Covariance Matrix \n",
    "covMatrix = np.cov(data,bias=True)\n",
    "np.set_printoptions( linewidth=100)\n",
    "print (covMatrix)\n",
    "\n",
    "#sn.heatmap(covMatrix, annot=True, fmt='g')\n",
    "sn.heatmap(covMatrix, annot=True, fmt='0.8f', linewidths=.5, annot_kws={\"size\": 8}, vmin=0.0, vmax=100.0)\n",
    "plt.show()\n",
    "\n",
    "pd.set_option('precision',10)\n",
    "df = pd.DataFrame(data=covMatrix)\n",
    "df\n",
    "\n",
    "\n"
   ]
  },
  {
   "cell_type": "code",
   "execution_count": 98,
   "id": "06c69d49",
   "metadata": {},
   "outputs": [
    {
     "data": {
      "text/plain": [
       "3.0266239999999998e-06"
      ]
     },
     "execution_count": 98,
     "metadata": {},
     "output_type": "execute_result"
    }
   ],
   "source": [
    "covMatrix[0, 0]"
   ]
  },
  {
   "cell_type": "code",
   "execution_count": 122,
   "id": "4646f54d",
   "metadata": {},
   "outputs": [
    {
     "name": "stdout",
     "output_type": "stream",
     "text": [
      "Initial SSE Objective: 0.8213207863830663\n",
      "Final SSE Objective: 0.00011345034311015671\n",
      "Solution\n",
      "xA = 0.5022568388525697\n",
      "xB = 0.4525875571517092\n",
      "xC = 0.041175296820393927\n",
      "xD = 1.3010426069826053e-18\n",
      "xE = 0.0039803071753272395\n",
      "Sum = 1.0\n",
      "Final SSE Objective: 0.000427886046489604\n",
      "Solution\n",
      "xA = 0.39091244248744306\n",
      "xB = 0.3856659078849941\n",
      "xC = 0.21458286121940104\n",
      "xD = 0.0\n",
      "xE = 0.008838788408161788\n",
      "Sum = 1.0\n",
      "Final SSE Objective: 0.0010264225336439573\n",
      "Solution\n",
      "xA = 0.2784552083777493\n",
      "xB = 0.3190389712186235\n",
      "xC = 0.38892088170778594\n",
      "xD = 5.594483210025203e-17\n",
      "xE = 0.013584938695841254\n",
      "Sum = 1.0000000000000002\n",
      "Final SSE Objective: 0.0019358569179077178\n",
      "Solution\n",
      "xA = 0.18611647856009197\n",
      "xB = 0.25711729005336453\n",
      "xC = 0.4992254585465709\n",
      "xD = 0.03722771088706432\n",
      "xE = 0.020313061952908114\n",
      "Sum = 0.9999999999999999\n",
      "Final SSE Objective: 0.0031923585479135836\n",
      "Solution\n",
      "xA = 0.1052453730744141\n",
      "xB = 0.19578466532740313\n",
      "xC = 0.5425263101003288\n",
      "xD = 0.12953117537174147\n",
      "xE = 0.026912476126112538\n",
      "Sum = 1.0\n",
      "Final SSE Objective: 0.004785452450761062\n",
      "Solution\n",
      "xA = 0.05594052779773284\n",
      "xB = 0.09844305128824107\n",
      "xC = 0.5897633056752138\n",
      "xD = 0.22215718726758577\n",
      "xE = 0.033695927971226475\n",
      "Sum = 0.9999999999999999\n"
     ]
    }
   ],
   "source": [
    "import numpy as np\n",
    "from scipy.optimize import minimize\n",
    "import math\n",
    "from numpy.random import rand\n",
    "\n",
    "# Expected Value portfolio return = 0.005\n",
    "# Proportion of Investment A == x[0]\n",
    "# invest_A = x[0], B = x[1], C = x[2], D = x[3], E = x[4]\n",
    "\n",
    "# Objective Function, Minimize Portfolio Variance\n",
    "# Portfolio variance = Sum( (variance of A)*(Proportion_of_invst-A)^^2 ) + 2 Sum( covariance of A n B * proprtion of A n B)\n",
    "\n",
    "\n",
    "# Constraint profit at least expected return\n",
    "# ( Amu * x0 + Bmu * x1 + Cmu * x2 + Dmu * x3 + Emu * x4 ) >= Ex[0]\n",
    "\n",
    "# Sum of investment proportion == 1\n",
    "# x0 + x1 + X2 + x3 + x4 == 1\n",
    "\n",
    "# All proportions greater than 0 and less than 1, bounds variable below\n",
    "\n",
    "# Expected Values, we will start with Ex[0]\n",
    "Ex = [ 0.005, 0.01, 0.015, 0.02, 0.025, 0.03 ] \n",
    "\n",
    "def objective(x):\n",
    "    sum1 = covMatrix[0,0]*(x[0]**2) + covMatrix[1,1]*(x[1]**2) + covMatrix[2,2]*(x[2]**2) + covMatrix[3,3]*(x[3]**2) + covMatrix[4,4]*(x[4]**2)\n",
    "    sum2 = covMatrix[1,0]*x[1]*x[0] + covMatrix[2,0]*x[2]*x[0] + covMatrix[3,0]*x[3]*x[0] + covMatrix[4,0]*x[4]*x[0] + \\\n",
    "    covMatrix[2,1]*x[2]*x[1] + covMatrix[3,1]*x[3]*x[1] + covMatrix[4,1]*x[4]*x[1] + covMatrix[3,2]*x[3]*x[2] + \\\n",
    "    covMatrix[4,2]*x[4]*x[2] + covMatrix[4,3]*x[4]*x[3] \n",
    "    \n",
    "    return sum1 + 2 * sum2 \n",
    "        \n",
    "\n",
    "def constraint1(x):\n",
    "    return 1 - (x[0] + x[1] + x[2] + x[3] + x[4]) \n",
    "\n",
    "def constraint2_1(x):\n",
    "    return  Amu*x[0] + Bmu * x[1] + Cmu * x[2] + Dmu * x[3] + Emu * x[4] - Ex[0]\n",
    "\n",
    "def constraint2_2(x):\n",
    "    return  Amu*x[0] + Bmu * x[1] + Cmu * x[2] + Dmu * x[3] + Emu * x[4] - Ex[1]\n",
    "\n",
    "def constraint2_3(x):\n",
    "    return  Amu*x[0] + Bmu * x[1] + Cmu * x[2] + Dmu * x[3] + Emu * x[4] - Ex[2]\n",
    "\n",
    "def constraint2_4(x):\n",
    "    return  Amu*x[0] + Bmu * x[1] + Cmu * x[2] + Dmu * x[3] + Emu * x[4] - Ex[3]\n",
    "\n",
    "def constraint2_5(x):\n",
    "    return  Amu*x[0] + Bmu * x[1] + Cmu * x[2] + Dmu * x[3] + Emu * x[4] - Ex[4]\n",
    "\n",
    "def constraint2_6(x):\n",
    "    return  Amu*x[0] + Bmu * x[1] + Cmu * x[2] + Dmu * x[3] + Emu * x[4] - Ex[5]\n",
    "\n",
    "\n",
    "\n",
    "def solution(cons):\n",
    "    solution = minimize(objective, x0, method='SLSQP', bounds=bnds, constraints=cons)\n",
    "    x = solution.x\n",
    "\n",
    "    # show final objective\n",
    "    print('Final SSE Objective: ' + str(objective(x)))\n",
    "\n",
    "    # print solution\n",
    "    print('Solution')\n",
    "    print('xA = ' + str(x[0]))\n",
    "    print('xB = ' + str(x[1]))\n",
    "    print('xC = ' + str(x[2]))\n",
    "    print('xD = ' + str(x[3]))\n",
    "    print('xE = ' + str(x[4]))\n",
    "    \n",
    "    print( 'Sum = ' + str(sum(x)) ) \n",
    "    \n",
    "    # returns the Portfolio Variance (optimal minimized)\n",
    "    return objective(x)\n",
    "\n",
    "\n",
    "# initial guesses\n",
    "n = 5\n",
    "x0 = np.zeros(n)\n",
    "x0[0] = rand()  # or 1.0\n",
    "x0[1] = rand()  # or 1.0\n",
    "x0[2] = rand()\n",
    "x0[3] = rand()\n",
    "x0[4] = rand()\n",
    "\n",
    "# show initial objective\n",
    "print('Initial SSE Objective: ' + str(objective(x0)))\n",
    "\n",
    "# optimize\n",
    "b = (0.0, 1.0)\n",
    "bnds = (b, b, b, b, b)\n",
    "\n",
    "# Expected Values, Optimal Variances computed \n",
    "Vr = []\n",
    "\n",
    "con1 = {'type': 'eq', 'fun': constraint1} \n",
    "con2 = {'type': 'ineq', 'fun': constraint2_1}\n",
    "cons = ([con1,con2])\n",
    "#solution(cons)\n",
    "Vr.append(solution(cons))\n",
    "\n",
    "con2 = {'type': 'ineq', 'fun': constraint2_2}\n",
    "cons = ([con1,con2])\n",
    "Vr.append(solution(cons))\n",
    "\n",
    "con2 = {'type': 'ineq', 'fun': constraint2_3}\n",
    "cons = ([con1,con2])\n",
    "Vr.append(solution(cons))\n",
    "\n",
    "con2 = {'type': 'ineq', 'fun': constraint2_4}\n",
    "cons = ([con1,con2])\n",
    "Vr.append(solution(cons))\n",
    "\n",
    "con2 = {'type': 'ineq', 'fun': constraint2_5}\n",
    "cons = ([con1,con2])\n",
    "Vr.append(solution(cons))\n",
    "\n",
    "con2 = {'type': 'ineq', 'fun': constraint2_6}\n",
    "cons = ([con1,con2])\n",
    "Vr.append(solution(cons))\n",
    "\n",
    " \n"
   ]
  },
  {
   "cell_type": "code",
   "execution_count": 123,
   "id": "13fa61f5",
   "metadata": {},
   "outputs": [
    {
     "data": {
      "image/png": "[encoded data removed]",
      "text/plain": [
       "<Figure size 720x288 with 1 Axes>"
      ]
     },
     "metadata": {
      "needs_background": "light"
     },
     "output_type": "display_data"
    }
   ],
   "source": [
    "fig, (ax1) = plt.subplots(nrows=1, ncols=1, sharex=True, figsize=(10,4))\n",
    "\n",
    "\n",
    "ax1.plot(Ex, Vr, 'o-', c='r', label='Pareto optimal front')\n",
    "ax1.legend(loc='best')\n",
    "ax1.set_xlabel('Expected Returns Ex ')\n",
    "ax1.set_ylabel('Portfolio Variances Vr')\n",
    "ax1.grid(True)\n",
    "fig.tight_layout()\n",
    "plt.show()\n"
   ]
  },
  {
   "cell_type": "code",
   "execution_count": 111,
   "id": "77c58167",
   "metadata": {},
   "outputs": [
    {
     "data": {
      "text/plain": [
       "[0.005, 0.01, 0.015, 0.02, 0.025, 0.03]"
      ]
     },
     "execution_count": 111,
     "metadata": {},
     "output_type": "execute_result"
    }
   ],
   "source": [
    "Ex"
   ]
  },
  {
   "cell_type": "code",
   "execution_count": 112,
   "id": "142b8d6b",
   "metadata": {},
   "outputs": [
    {
     "data": {
      "text/plain": [
       "[0.0005530234959853414,\n",
       " 0.0014280843239312363,\n",
       " 0.0022651912794310605,\n",
       " 0.0059262704618394495,\n",
       " 0.007898645081766341,\n",
       " 0.008582853171543243]"
      ]
     },
     "execution_count": 112,
     "metadata": {},
     "output_type": "execute_result"
    }
   ],
   "source": [
    "Vr"
   ]
  },
  {
   "cell_type": "code",
   "execution_count": 80,
   "id": "43ebd1cd",
   "metadata": {},
   "outputs": [
    {
     "data": {
      "text/plain": [
       "0.0006629595040000002"
      ]
     },
     "execution_count": 80,
     "metadata": {},
     "output_type": "execute_result"
    }
   ],
   "source": []
  },
  {
   "cell_type": "code",
   "execution_count": null,
   "id": "124a9db6",
   "metadata": {},
   "outputs": [],
   "source": []
  },
  {
   "cell_type": "code",
   "execution_count": null,
   "id": "c714587a",
   "metadata": {},
   "outputs": [],
   "source": []
  }
 ],
 "metadata": {
  "kernelspec": {
   "display_name": "Python 3 (ipykernel)",
   "language": "python",
   "name": "python3"
  },
  "language_info": {
   "codemirror_mode": {
    "name": "ipython",
    "version": 3
   },
   "file_extension": ".py",
   "mimetype": "text/x-python",
   "name": "python",
   "nbconvert_exporter": "python",
   "pygments_lexer": "ipython3",
   "version": "3.9.7"
  }
 },
 "nbformat": 4,
 "nbformat_minor": 5
}
