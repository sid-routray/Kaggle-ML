{
 "cells": [
  {
   "cell_type": "code",
   "execution_count": 1,
   "metadata": {},
   "outputs": [
    {
     "name": "stdout",
     "output_type": "stream",
     "text": [
      "Restricted license - for non-production use only - expires 2023-10-25\n",
      "No parameters matching '_test' found\n",
      "Problem 1\n",
      "status=Optimal\n",
      "Chairs = 6.0\n",
      "Tables = 3.0\n",
      "Objective = 108.0\n",
      "\n"
     ]
    }
   ],
   "source": [
    "# import pulp\n",
    "from pulp import LpVariable, LpProblem, LpMaximize, LpStatus, value, LpMinimize\n",
    "\n",
    "# Problem 1\n",
    "# define variables\n",
    "Tables = LpVariable(\"Tables\", 0, None) # Tables>=0\n",
    "Chairs = LpVariable(\"Chairs\", 0, None) # Chairs>=0\n",
    "\n",
    "# defines the problem\n",
    "prob = LpProblem(\"problem\", LpMaximize)\n",
    "# Note, LpMaximize for a maximization problem, \n",
    "# and LpMinimize for a minimization problem\n",
    "\n",
    "# define constraints\n",
    "prob += 2*Tables    +  1*Chairs    <= 12\n",
    "prob += 2*Tables    +  2*Chairs    <= 18\n",
    "# Note, if <= then <=\n",
    "# If >= then >=\n",
    "# If = then ==\n",
    "\n",
    "# define objective function\n",
    "prob += 16*Tables   + 10*Chairs\n",
    "\n",
    "# solve the problem\n",
    "status = prob.solve()\n",
    "print(f\"Problem 1\")\n",
    "print(f\"status={LpStatus[status]}\")\n",
    "\n",
    "# print the results\n",
    "for variable in prob.variables():\n",
    "    print(f\"{variable.name} = {variable.varValue}\")\n",
    "    \n",
    "print(f\"Objective = {value(prob.objective)}\")\n",
    "print(f\"\")\n",
    "\n"
   ]
  },
  {
   "cell_type": "code",
   "execution_count": 2,
   "metadata": {},
   "outputs": [
    {
     "name": "stdout",
     "output_type": "stream",
     "text": [
      "Problem 2\n",
      "status=Optimal\n",
      "Chairs = 8.0\n",
      "Coffee = 2.0\n",
      "Tables = 0.0\n",
      "Objective = 110.0\n",
      "\n"
     ]
    }
   ],
   "source": [
    "# Problem 2\n",
    "# define variables\n",
    "Tables = LpVariable(\"Tables\", 0, None) # Tables>=0\n",
    "Chairs = LpVariable(\"Chairs\", 0, None) # Chairs>=0\n",
    "Coffee = LpVariable(\"Coffee\", 0, None) # Coffee>=0\n",
    "\n",
    "# defines the problem\n",
    "prob = LpProblem(\"problem\", LpMaximize)\n",
    "# Note, LpMaximize for a maximization problem, \n",
    "# and LpMinimize for a minimization problem\n",
    "\n",
    "# define constraints\n",
    "prob += 2*Tables    +  1*Chairs     +  2*Coffee    <= 12\n",
    "prob += 2*Tables    +  2*Chairs     +  1*Coffee    <= 18\n",
    "# Note, if <= then <=\n",
    "# If >= then >=\n",
    "# If = then ==\n",
    "\n",
    "# define objective function\n",
    "prob += 16*Tables   + 10*Chairs     + 15*Coffee\n",
    "\n",
    "# solve the problem\n",
    "status = prob.solve()\n",
    "print(f\"Problem 2\")\n",
    "print(f\"status={LpStatus[status]}\")\n",
    "\n",
    "# print the results\n",
    "for variable in prob.variables():\n",
    "    print(f\"{variable.name} = {variable.varValue}\")\n",
    "    \n",
    "print(f\"Objective = {value(prob.objective)}\")\n",
    "print(f\"\")"
   ]
  },
  {
   "cell_type": "code",
   "execution_count": 3,
   "metadata": {},
   "outputs": [
    {
     "name": "stdout",
     "output_type": "stream",
     "text": [
      "Problem 3\n",
      "status=Optimal\n",
      "Chairs = 6.0\n",
      "Coffee = 0.0\n",
      "Tables = 3.0\n",
      "Objective = 99.0\n",
      "\n"
     ]
    }
   ],
   "source": [
    "# Problem 3\n",
    "# define variables\n",
    "Tables = LpVariable(\"Tables\", 0, None) # Tables>=0\n",
    "Chairs = LpVariable(\"Chairs\", 0, None) # Chairs>=0\n",
    "Coffee = LpVariable(\"Coffee\", 0, None) # Coffee>=0\n",
    "\n",
    "# defines the problem\n",
    "prob = LpProblem(\"problem\", LpMaximize)\n",
    "# Note, LpMaximize for a maximization problem, \n",
    "# and LpMinimize for a minimization problem\n",
    "\n",
    "# define constraints\n",
    "prob += 2*Tables    +  1*Chairs     +  2*Coffee    <= 12\n",
    "prob += 2*Tables    +  2*Chairs     +  1*Coffee    <= 18\n",
    "# Note, if <= then <=\n",
    "# If >= then >=\n",
    "# If = then ==\n",
    "\n",
    "# define objective function\n",
    "prob += 15*Tables   + 9*Chairs     + 13.5*Coffee\n",
    "\n",
    "# solve the problem\n",
    "status = prob.solve()\n",
    "print(f\"Problem 3\")\n",
    "print(f\"status={LpStatus[status]}\")\n",
    "\n",
    "# print the results\n",
    "for variable in prob.variables():\n",
    "    print(f\"{variable.name} = {variable.varValue}\")\n",
    "    \n",
    "print(f\"Objective = {value(prob.objective)}\")\n",
    "print(f\"\")\n"
   ]
  },
  {
   "cell_type": "code",
   "execution_count": 4,
   "metadata": {},
   "outputs": [
    {
     "name": "stdout",
     "output_type": "stream",
     "text": [
      "Problem HealthCare Practice\n",
      "status=Optimal\n",
      "MD = 3.3333333\n",
      "Nurse_Practitioners = 2.6666667\n",
      "PA = 4.0\n",
      "Objective = 1193.333332\n",
      "\n"
     ]
    }
   ],
   "source": [
    "# Problem HealthCare Practice\n",
    "# define variables\n",
    "Md = LpVariable(\"MD\", 0, None) # Tables>=0\n",
    "Np = LpVariable(\"Nurse Practitioners\", 0, None) # Chairs>=0\n",
    "Pa = LpVariable(\"PA\", 0, None) # Coffee>=0\n",
    "\n",
    "# defines the problem\n",
    "prob = LpProblem(\"problem\", LpMinimize)\n",
    "# Note, LpMaximize for a maximization problem, \n",
    "# and LpMinimize for a minimization problem\n",
    "\n",
    "# define constraints\n",
    "prob += Md    +  Np     +  Pa    >= 10\n",
    "prob += (1.5)*Np - 1*Pa      >= 0\n",
    "prob += 2*Md - 1*(Pa + Np)     == 0\n",
    "\n",
    "\n",
    "# define objective function\n",
    "prob += 150*Md   + 110*Np     + 100*Pa\n",
    "\n",
    "# solve the problem\n",
    "status = prob.solve()\n",
    "print(f\"Problem HealthCare Practice\")\n",
    "print(f\"status={LpStatus[status]}\")\n",
    "\n",
    "# print the results\n",
    "for variable in prob.variables():\n",
    "    #print(f\"{variable.name} = {round(variable.varValue)}\")\n",
    "    print(f\"{variable.name} = {variable.varValue}\")\n",
    "\n",
    "\n",
    "    \n",
    "print(f\"Objective = {value(prob.objective)}\")\n",
    "print(f\"\")\n"
   ]
  },
  {
   "cell_type": "code",
   "execution_count": null,
   "metadata": {},
   "outputs": [],
   "source": []
  }
 ],
 "metadata": {
  "kernelspec": {
   "display_name": "Python 3",
   "language": "python",
   "name": "python3"
  },
  "language_info": {
   "codemirror_mode": {
    "name": "ipython",
    "version": 3
   },
   "file_extension": ".py",
   "mimetype": "text/x-python",
   "name": "python",
   "nbconvert_exporter": "python",
   "pygments_lexer": "ipython3",
   "version": "3.8.12"
  }
 },
 "nbformat": 4,
 "nbformat_minor": 4
}
