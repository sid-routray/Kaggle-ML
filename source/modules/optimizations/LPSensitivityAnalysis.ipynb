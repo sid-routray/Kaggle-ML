{
 "cells": [
  {
   "cell_type": "code",
   "execution_count": 1,
   "metadata": {},
   "outputs": [],
   "source": [
    "from pulp import LpVariable, LpProblem, LpMaximize, LpStatus, value, LpMinimize, GLPK\n",
    "\n"
   ]
  },
  {
   "cell_type": "code",
   "execution_count": 6,
   "metadata": {},
   "outputs": [
    {
     "name": "stdout",
     "output_type": "stream",
     "text": [
      "Collecting pulp\n",
      "  Downloading PuLP-2.6.0-py3-none-any.whl (14.2 MB)\n",
      "\u001b[K     |████████████████████████████████| 14.2 MB 2.6 MB/s eta 0:00:01\n",
      "\u001b[?25hInstalling collected packages: pulp\n",
      "Successfully installed pulp-2.6.0\n"
     ]
    }
   ],
   "source": [
    "!pip install pulp"
   ]
  },
  {
   "cell_type": "code",
   "execution_count": 1,
   "metadata": {},
   "outputs": [],
   "source": [
    "import sys"
   ]
  },
  {
   "cell_type": "code",
   "execution_count": 2,
   "metadata": {},
   "outputs": [
    {
     "name": "stdout",
     "output_type": "stream",
     "text": [
      "Collecting package metadata (current_repodata.json): done\n",
      "Solving environment: done\n",
      "\n",
      "## Package Plan ##\n",
      "\n",
      "  environment location: /usr/local/anaconda3\n",
      "\n",
      "  added / updated specs:\n",
      "    - glpk\n",
      "\n",
      "\n",
      "The following packages will be downloaded:\n",
      "\n",
      "    package                    |            build\n",
      "    ---------------------------|-----------------\n",
      "    conda-4.12.0               |   py39hecd8cb5_0        14.5 MB\n",
      "    glpk-4.65                  |       ha8bbb54_2         681 KB\n",
      "    ------------------------------------------------------------\n",
      "                                           Total:        15.1 MB\n",
      "\n",
      "The following NEW packages will be INSTALLED:\n",
      "\n",
      "  glpk               pkgs/main/osx-64::glpk-4.65-ha8bbb54_2\n",
      "\n",
      "The following packages will be UPDATED:\n",
      "\n",
      "  conda                               4.10.3-py39hecd8cb5_0 --> 4.12.0-py39hecd8cb5_0\n",
      "\n",
      "\n",
      "\n",
      "Downloading and Extracting Packages\n",
      "glpk-4.65            | 681 KB    | ##################################### | 100% \n",
      "conda-4.12.0         | 14.5 MB   | ##################################### | 100% \n",
      "Preparing transaction: done\n",
      "Verifying transaction: done\n",
      "Executing transaction: done\n"
     ]
    }
   ],
   "source": [
    "!conda install --yes --prefix {sys.prefix} glpk"
   ]
  },
  {
   "cell_type": "code",
   "execution_count": 5,
   "metadata": {},
   "outputs": [
    {
     "name": "stderr",
     "output_type": "stream",
     "text": [
      "ssssssssssssssssssssssssssssssssssssssssssssssssssssssssssssssssssssssssssssssssssssssssssssssssssssssssssssssssssssssssssssssssssssssssssssssssssssssssssssssssssssssssssssssssssssssssssssssssssssssssssssssssssssssssssssssssssssssssssssssssssssssssssssssssssssssssssssssssssssssss.........................."
     ]
    },
    {
     "name": "stdout",
     "output_type": "stream",
     "text": [
      "\t Test that logic put in place for deprecation handling of indexs works\n",
      "\t Testing 'indexs' param continues to work for LpVariable.dicts\n",
      "\t Testing 'indexs' param continues to work for LpVariable.matrix\n",
      "\t Testing 'indices' argument works in LpVariable.dicts\n",
      "\t Testing 'indices' param continues to work for LpVariable.matrix\n",
      "\t Testing invalid status\n",
      "\t Testing continuous LP solution - export dict\n",
      "\t Testing export dict for LP\n",
      "\t Testing export dict MIP\n",
      "\t Testing maximize continuous LP solution\n",
      "\t Testing continuous LP solution - export JSON\n",
      "\t Testing continuous LP solution - export solver dict\n",
      "\t Testing continuous LP solution - export solver JSON\n",
      "\t Testing reading MPS files - binary variable, no constraint names\n",
      "\t Testing reading MPS files - integer variable\n",
      "\t Testing reading MPS files - maximize\n",
      "\t Testing invalid var names\n",
      "\t Testing makeDict general behavior\n",
      "\t Testing makeDict default value behavior\n",
      "\t Testing measuring optimization time\n",
      "\t Testing the availability of the function pulpTestAll\n",
      "\t Testing zero subtraction\n",
      "\t Testing inconsistent lp solution\n",
      "\t Testing continuous LP solution\n",
      "\t Testing maximize continuous LP solution\n",
      "\t Testing unbounded continuous LP solution\n"
     ]
    },
    {
     "name": "stderr",
     "output_type": "stream",
     "text": [
      "................."
     ]
    },
    {
     "name": "stdout",
     "output_type": "stream",
     "text": [
      "\t Testing Long Names\n",
      "\t Testing repeated Names\n",
      "\t Testing zero constraint\n",
      "\t Testing zero objective\n",
      "\t Testing LpVariable (not LpAffineExpression) objective\n",
      "\t Testing LpAffineExpression divide\n",
      "\t Testing MIP solution\n",
      "\t Testing MIP solution with floats in objective\n",
      "\t Testing Initial value in MIP solution\n",
      "\t Testing fixing value in MIP solution\n",
      "\t Testing MIP relaxation\n",
      "\t Testing feasibility problem (no objective)\n",
      "\t Testing an infeasible problem\n",
      "\t Testing an integer infeasible problem\n",
      "\t Testing another integer infeasible problem\n",
      "\t Testing column based modelling\n"
     ]
    },
    {
     "name": "stderr",
     "output_type": "stream",
     "text": [
      ".............sssssssssssssssssssssssssssssssssssssssssssssssssssssssssssssssssssssssssssssssssssssssssssssssssssss"
     ]
    },
    {
     "name": "stdout",
     "output_type": "stream",
     "text": [
      "\t Testing fractional constraints\n",
      "\t Testing elastic constraints (no change)\n",
      "\t Testing elastic constraints (freebound)\n",
      "\t Testing elastic constraints (penalty unchanged)\n",
      "\t Testing elastic constraints (penalty unbounded)\n",
      "\t Testing timeLimit argument\n"
     ]
    },
    {
     "name": "stderr",
     "output_type": "stream",
     "text": [
      "sssssssssssssssssssssssssssssssssssssssssssssssssssssssssssssssssssssssssssssssssssssssssssssssssssssssssssssssssssssssssss...................."
     ]
    },
    {
     "name": "stdout",
     "output_type": "stream",
     "text": [
      "\t Test that logic put in place for deprecation handling of indexs works\n",
      "\t Testing 'indexs' param continues to work for LpVariable.dicts\n",
      "\t Testing 'indexs' param continues to work for LpVariable.matrix\n",
      "\t Testing 'indices' argument works in LpVariable.dicts\n",
      "\t Testing 'indices' param continues to work for LpVariable.matrix\n",
      "\t Testing invalid status\n",
      "\t Testing continuous LP solution - export dict\n",
      "\t Testing export dict for LP\n",
      "\t Testing export dict MIP\n",
      "\t Testing maximize continuous LP solution\n",
      "\t Testing continuous LP solution - export JSON\n",
      "\t Testing continuous LP solution - export solver dict\n",
      "\t Testing continuous LP solution - export solver JSON\n",
      "\t Testing reading MPS files - binary variable, no constraint names\n",
      "\t Testing reading MPS files - integer variable\n",
      "\t Testing reading MPS files - maximize\n",
      "\t Testing invalid var names\n",
      "\t Testing logPath argument\n",
      "\t Testing makeDict general behavior\n",
      "\t Testing makeDict default value behavior\n",
      "\t Testing measuring optimization time\n"
     ]
    },
    {
     "name": "stderr",
     "output_type": "stream",
     "text": [
      "................"
     ]
    },
    {
     "name": "stdout",
     "output_type": "stream",
     "text": [
      "\t Testing the availability of the function pulpTestAll\n",
      "\t Testing zero subtraction\n",
      "\t Testing inconsistent lp solution\n",
      "\t Testing continuous LP solution\n",
      "\t Testing maximize continuous LP solution\n",
      "\t Testing unbounded continuous LP solution\n",
      "\t Testing Long Names\n",
      "\t Testing repeated Names\n",
      "\t Testing zero constraint\n",
      "\t Testing zero objective\n",
      "\t Testing LpVariable (not LpAffineExpression) objective\n",
      "\t Testing Long lines in LP\n",
      "\t Testing LpAffineExpression divide\n",
      "\t Testing MIP solution\n",
      "\t Testing MIP solution with floats in objective\n",
      "\t Testing Initial value in MIP solution\n"
     ]
    },
    {
     "name": "stderr",
     "output_type": "stream",
     "text": [
      "................."
     ]
    },
    {
     "name": "stdout",
     "output_type": "stream",
     "text": [
      "\t Testing fixing value in MIP solution\n",
      "\t Testing MIP relaxation\n",
      "\t Testing feasibility problem (no objective)\n",
      "\t Testing an infeasible problem\n",
      "\t Testing an integer infeasible problem\n",
      "\t Testing another integer infeasible problem\n",
      "\t Testing column based modelling\n",
      "\t Testing dual variables and slacks reporting\n",
      "\t Testing fractional constraints\n",
      "\t Testing elastic constraints (no change)\n",
      "\t Testing elastic constraints (freebound)\n",
      "\t Testing elastic constraints (penalty unchanged)\n",
      "\t Testing elastic constraints (penalty unbounded)\n",
      "\t Testing timeLimit argument\n"
     ]
    },
    {
     "name": "stderr",
     "output_type": "stream",
     "text": [
      "...ssssssssssssssssssssssssssssssssssssssssssssssssssssssssssssssssssssssssssssssssssssssssssssssssssssssssssssssssssssssssssssssssssssssssssssssssssssssssssssssssssssssssssssssssssssssssssssssssssssssssssssssssssssssssssssssss\n",
      "----------------------------------------------------------------------\n",
      "Ran 840 tests in 13.568s\n",
      "\n",
      "OK (skipped=728)\n"
     ]
    }
   ],
   "source": [
    "import pulp\n",
    "\n",
    "pulp.pulpTestAll()\n"
   ]
  },
  {
   "cell_type": "code",
   "execution_count": 10,
   "metadata": {},
   "outputs": [
    {
     "name": "stdout",
     "output_type": "stream",
     "text": [
      "GLPSOL: GLPK LP/MIP Solver, v4.65\n",
      "Parameter(s) specified in the command line:\n",
      " --cpxlp /var/folders/vy/ttqf684x6j59_vcfzj1wtd7h0000gn/T/0d6090bf42b7473cbf0431c272fbcf68-pulp.lp\n",
      " -o /var/folders/vy/ttqf684x6j59_vcfzj1wtd7h0000gn/T/0d6090bf42b7473cbf0431c272fbcf68-pulp.sol\n",
      " --ranges prob3.sensitivity.txt\n",
      "Reading problem data from '/var/folders/vy/ttqf684x6j59_vcfzj1wtd7h0000gn/T/0d6090bf42b7473cbf0431c272fbcf68-pulp.lp'...\n",
      "6 rows, 6 columns, 12 non-zeros\n",
      "11 lines were read\n",
      "GLPK Simplex Optimizer, v4.65\n",
      "6 rows, 6 columns, 12 non-zeros\n",
      "Preprocessing...\n",
      "6 rows, 6 columns, 12 non-zeros\n",
      "Scaling...\n",
      " A: min|aij| =  1.000e+00  max|aij| =  1.000e+00  ratio =  1.000e+00\n",
      "Problem data seem to be well scaled\n",
      "Constructing initial basis...\n",
      "Size of triangular part is 6\n",
      "      0: obj =   0.000000000e+00 inf =   1.145e+03 (6)\n",
      "      6: obj =   6.400000000e+02 inf =   0.000e+00 (0)\n",
      "OPTIMAL LP SOLUTION FOUND\n",
      "Time used:   0.0 secs\n",
      "Memory used: 0.0 Mb (32907 bytes)\n",
      "Writing basic solution to '/var/folders/vy/ttqf684x6j59_vcfzj1wtd7h0000gn/T/0d6090bf42b7473cbf0431c272fbcf68-pulp.sol'...\n",
      "Write sensitivity analysis report to 'prob3.sensitivity.txt'...\n",
      "Status: Optimal\n",
      "S0000_1 = 90.0\n",
      "S0400_1 = 125.0\n",
      "S0800_1 = 125.0\n",
      "S1200_1 = 175.0\n",
      "S1600_1 = 125.0\n",
      "S2000_1 = 0.0\n",
      "Objective 640.0\n",
      "\n"
     ]
    }
   ],
   "source": [
    "# Sensitivity Analysis File and Model (lp) file will output\n",
    "# to your working directory.\n",
    "\n",
    "# Problem (Theme Park Scheduling)\n",
    "# define variables\n",
    "S0000 = LpVariable(\"S0000_1\", 0, None)\n",
    "S0400 = LpVariable(\"S0400_1\", 0, None)\n",
    "S0800 = LpVariable(\"S0800_1\", 0, None)\n",
    "S1200 = LpVariable(\"S1200_1\", 0, None)\n",
    "S1600 = LpVariable(\"S1600_1\", 0, None)\n",
    "S2000 = LpVariable(\"S2000_1\", 0, None)\n",
    "\n",
    "# defines the problem\n",
    "prob3 = LpProblem(\"problem\", LpMinimize)\n",
    "# Note, LpMaximize for a maximization problem, \n",
    "# and LpMinimize for a minimization problem\n",
    "\n",
    "# define constraints\n",
    "prob3 += S0000 + S2000 >= 90\n",
    "prob3 += S0000 + S0400 >= 215\n",
    "prob3 += S0400 + S0800 >= 250\n",
    "prob3 += S0800 + S1200 >= 165\n",
    "prob3 += S1200 + S1600 >= 300\n",
    "prob3 += S1600 + S2000 >= 125\n",
    "\n",
    "# Note, if <= then <=\n",
    "# If >= then >=\n",
    "# If = then ==\n",
    "\n",
    "# define objective function\n",
    "prob3 += S0000 + S0400 + S0800 + S1200 + S1600 + S2000\n",
    "\n",
    "# solve the problem\n",
    "prob3.writeLP(\"prob3.lp\")\n",
    "#prob3.solve(GLPK(options=['--ranges prob3.sen']))\n",
    "#prob3.solve(GLPK())\n",
    "prob3.solve(GLPK(msg=True, options=['--ranges', 'prob3.sensitivity.txt']))\n",
    "\n",
    "\n",
    "\n",
    "print (\"Status:\", LpStatus[prob3.status])\n",
    "\n",
    "for v in prob3.variables():\n",
    "    print(v.name, \"=\", v.varValue)\n",
    "\n",
    "print (\"Objective\", value(prob3.objective))\n",
    "print (\"\")\n",
    "\n"
   ]
  },
  {
   "cell_type": "code",
   "execution_count": 11,
   "metadata": {},
   "outputs": [
    {
     "name": "stdout",
     "output_type": "stream",
     "text": [
      "GLPSOL: GLPK LP/MIP Solver, v4.65\n",
      "Parameter(s) specified in the command line:\n",
      " --cpxlp /var/folders/vy/ttqf684x6j59_vcfzj1wtd7h0000gn/T/c1fa09d01d854beca3b30aadedd191b9-pulp.lp\n",
      " -o /var/folders/vy/ttqf684x6j59_vcfzj1wtd7h0000gn/T/c1fa09d01d854beca3b30aadedd191b9-pulp.sol\n",
      " --ranges prob4.sensitivity.txt\n",
      "Reading problem data from '/var/folders/vy/ttqf684x6j59_vcfzj1wtd7h0000gn/T/c1fa09d01d854beca3b30aadedd191b9-pulp.lp'...\n",
      "6 rows, 4 columns, 24 non-zeros\n",
      "11 lines were read\n",
      "GLPK Simplex Optimizer, v4.65\n",
      "6 rows, 4 columns, 24 non-zeros\n",
      "Preprocessing...\n",
      "6 rows, 4 columns, 24 non-zeros\n",
      "Scaling...\n",
      " A: min|aij| =  2.500e-01  max|aij| =  1.055e+03  ratio =  4.220e+03\n",
      "GM: min|aij| =  5.631e-01  max|aij| =  1.776e+00  ratio =  3.154e+00\n",
      "EQ: min|aij| =  3.251e-01  max|aij| =  1.000e+00  ratio =  3.076e+00\n",
      "Constructing initial basis...\n",
      "Size of triangular part is 6\n",
      "      0: obj =   0.000000000e+00 inf =   5.743e-02 (1)\n",
      "      3: obj =   8.562500000e-02 inf =   0.000e+00 (0)\n",
      "OPTIMAL LP SOLUTION FOUND\n",
      "Time used:   0.0 secs\n",
      "Memory used: 0.0 Mb (32991 bytes)\n",
      "Writing basic solution to '/var/folders/vy/ttqf684x6j59_vcfzj1wtd7h0000gn/T/c1fa09d01d854beca3b30aadedd191b9-pulp.sol'...\n",
      "Write sensitivity analysis report to 'prob4.sensitivity.txt'...\n",
      "Status: Optimal\n",
      "Beef = 0.03125\n",
      "Chicken = 0.0\n",
      "Pork = 0.03125\n",
      "Turkey = 0.0625\n",
      "Objective 0.085625\n"
     ]
    }
   ],
   "source": [
    "# Problem (Hot Dog)\n",
    "# define variables\n",
    "Beef = LpVariable(\"Beef\", 0, None)\n",
    "Pork = LpVariable(\"Pork\", 0, None)\n",
    "Chicken = LpVariable(\"Chicken\", 0, None)\n",
    "Turkey = LpVariable(\"Turkey\", 0, None)\n",
    "\n",
    "# defines the problem\n",
    "prob4 = LpProblem(\"problem\", LpMinimize)\n",
    "# Note, LpMaximize for a maximization problem, \n",
    "# and LpMinimize for a minimization problem\n",
    "\n",
    "# define constraints\n",
    "prob4 += 640*Beef + 1055*Pork + 780*Chicken + 528*Turkey <= 100\n",
    "prob4 += 32.5*Beef + 54*Pork + 25.6*Chicken + 6.4*Turkey <= 6\n",
    "prob4 += 210*Beef + 205*Pork + 220*Chicken + 172*Turkey <= 27\n",
    "prob4 += 0.75*Beef - 0.25*Pork - 0.25*Chicken - 0.25*Turkey >= 0\n",
    "prob4 += -0.25*Beef + 0.75*Pork - 0.25*Chicken - 0.25*Turkey >= 0\n",
    "prob4 += Beef + Pork + Chicken + Turkey >= 2/16\n",
    "\n",
    "# Note, if <= then <=\n",
    "# If >= then >=\n",
    "# If = then ==\n",
    "\n",
    "# define objective function\n",
    "prob4 += 0.76*Beef + 0.82*Pork + 0.64*Chicken + 0.58*Turkey\n",
    "\n",
    "# solve the problem\n",
    "prob4.writeLP(\"prob4.lp\")\n",
    "#prob4.solve(GLPK(options=['--ranges prob4.sen']))\n",
    "prob4.solve(GLPK(msg=True, options=['--ranges', 'prob4.sensitivity.txt']))\n",
    "\n",
    "print (\"Status:\", LpStatus[prob4.status])\n",
    "\n",
    "for v in prob4.variables():\n",
    "    print(v.name, \"=\", v.varValue)\n",
    "\n",
    "print (\"Objective\", value(prob4.objective))\n"
   ]
  },
  {
   "cell_type": "code",
   "execution_count": null,
   "metadata": {},
   "outputs": [],
   "source": []
  }
 ],
 "metadata": {
  "kernelspec": {
   "display_name": "Python 3 (ipykernel)",
   "language": "python",
   "name": "python3"
  },
  "language_info": {
   "codemirror_mode": {
    "name": "ipython",
    "version": 3
   },
   "file_extension": ".py",
   "mimetype": "text/x-python",
   "name": "python",
   "nbconvert_exporter": "python",
   "pygments_lexer": "ipython3",
   "version": "3.9.7"
  }
 },
 "nbformat": 4,
 "nbformat_minor": 4
}
